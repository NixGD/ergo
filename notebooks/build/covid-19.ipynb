{
  "nbformat": 4,
  "nbformat_minor": 0,
  "metadata": {
    "colab": {
      "name": "covid-19.ipynb",
      "provenance": [],
      "collapsed_sections": []
    },
    "kernelspec": {
      "name": "python3",
      "display_name": "Python 3"
    },
    "widgets": {
      "application/vnd.jupyter.widget-state+json": {
        "c017f2b8e87b4198ad4cc847c7c2ad54": {
          "model_module": "@jupyter-widgets/controls",
          "model_name": "HBoxModel",
          "state": {
            "_dom_classes": [],
            "_model_module": "@jupyter-widgets/controls",
            "_model_module_version": "1.5.0",
            "_model_name": "HBoxModel",
            "_view_count": null,
            "_view_module": "@jupyter-widgets/controls",
            "_view_module_version": "1.5.0",
            "_view_name": "HBoxView",
            "box_style": "",
            "children": [
              "IPY_MODEL_3d3579eea81244fdada2033c56fc8ba7",
              "IPY_MODEL_6b0208cb64c64ca685eecf17a6fe0f57"
            ],
            "layout": "IPY_MODEL_0b2348aa5a1a4c7eb9e5ba53fcc38956"
          }
        },
        "3d3579eea81244fdada2033c56fc8ba7": {
          "model_module": "@jupyter-widgets/controls",
          "model_name": "FloatProgressModel",
          "state": {
            "_dom_classes": [],
            "_model_module": "@jupyter-widgets/controls",
            "_model_module_version": "1.5.0",
            "_model_name": "FloatProgressModel",
            "_view_count": null,
            "_view_module": "@jupyter-widgets/controls",
            "_view_module_version": "1.5.0",
            "_view_name": "ProgressView",
            "bar_style": "success",
            "description": "100%",
            "description_tooltip": null,
            "layout": "IPY_MODEL_61c0b571eff54a509bafa6ad95a6321f",
            "max": 200,
            "min": 0,
            "orientation": "horizontal",
            "style": "IPY_MODEL_ab9f961593f14f9ba5d6a9b0392cc904",
            "value": 200
          }
        },
        "6b0208cb64c64ca685eecf17a6fe0f57": {
          "model_module": "@jupyter-widgets/controls",
          "model_name": "HTMLModel",
          "state": {
            "_dom_classes": [],
            "_model_module": "@jupyter-widgets/controls",
            "_model_module_version": "1.5.0",
            "_model_name": "HTMLModel",
            "_view_count": null,
            "_view_module": "@jupyter-widgets/controls",
            "_view_module_version": "1.5.0",
            "_view_name": "HTMLView",
            "description": "",
            "description_tooltip": null,
            "layout": "IPY_MODEL_8feffed79a964d478bbf033bc0921cc3",
            "placeholder": "​",
            "style": "IPY_MODEL_99428892a82a4a1b85cd044dff2f836e",
            "value": " 200/200 [01:34&lt;00:00,  2.11it/s]"
          }
        },
        "0b2348aa5a1a4c7eb9e5ba53fcc38956": {
          "model_module": "@jupyter-widgets/base",
          "model_name": "LayoutModel",
          "state": {
            "_model_module": "@jupyter-widgets/base",
            "_model_module_version": "1.2.0",
            "_model_name": "LayoutModel",
            "_view_count": null,
            "_view_module": "@jupyter-widgets/base",
            "_view_module_version": "1.2.0",
            "_view_name": "LayoutView",
            "align_content": null,
            "align_items": null,
            "align_self": null,
            "border": null,
            "bottom": null,
            "display": null,
            "flex": null,
            "flex_flow": null,
            "grid_area": null,
            "grid_auto_columns": null,
            "grid_auto_flow": null,
            "grid_auto_rows": null,
            "grid_column": null,
            "grid_gap": null,
            "grid_row": null,
            "grid_template_areas": null,
            "grid_template_columns": null,
            "grid_template_rows": null,
            "height": null,
            "justify_content": null,
            "justify_items": null,
            "left": null,
            "margin": null,
            "max_height": null,
            "max_width": null,
            "min_height": null,
            "min_width": null,
            "object_fit": null,
            "object_position": null,
            "order": null,
            "overflow": null,
            "overflow_x": null,
            "overflow_y": null,
            "padding": null,
            "right": null,
            "top": null,
            "visibility": null,
            "width": null
          }
        },
        "61c0b571eff54a509bafa6ad95a6321f": {
          "model_module": "@jupyter-widgets/base",
          "model_name": "LayoutModel",
          "state": {
            "_model_module": "@jupyter-widgets/base",
            "_model_module_version": "1.2.0",
            "_model_name": "LayoutModel",
            "_view_count": null,
            "_view_module": "@jupyter-widgets/base",
            "_view_module_version": "1.2.0",
            "_view_name": "LayoutView",
            "align_content": null,
            "align_items": null,
            "align_self": null,
            "border": null,
            "bottom": null,
            "display": null,
            "flex": null,
            "flex_flow": null,
            "grid_area": null,
            "grid_auto_columns": null,
            "grid_auto_flow": null,
            "grid_auto_rows": null,
            "grid_column": null,
            "grid_gap": null,
            "grid_row": null,
            "grid_template_areas": null,
            "grid_template_columns": null,
            "grid_template_rows": null,
            "height": null,
            "justify_content": null,
            "justify_items": null,
            "left": null,
            "margin": null,
            "max_height": null,
            "max_width": null,
            "min_height": null,
            "min_width": null,
            "object_fit": null,
            "object_position": null,
            "order": null,
            "overflow": null,
            "overflow_x": null,
            "overflow_y": null,
            "padding": null,
            "right": null,
            "top": null,
            "visibility": null,
            "width": null
          }
        },
        "ab9f961593f14f9ba5d6a9b0392cc904": {
          "model_module": "@jupyter-widgets/controls",
          "model_name": "ProgressStyleModel",
          "state": {
            "_model_module": "@jupyter-widgets/controls",
            "_model_module_version": "1.5.0",
            "_model_name": "ProgressStyleModel",
            "_view_count": null,
            "_view_module": "@jupyter-widgets/base",
            "_view_module_version": "1.2.0",
            "_view_name": "StyleView",
            "bar_color": null,
            "description_width": "initial"
          }
        },
        "8feffed79a964d478bbf033bc0921cc3": {
          "model_module": "@jupyter-widgets/base",
          "model_name": "LayoutModel",
          "state": {
            "_model_module": "@jupyter-widgets/base",
            "_model_module_version": "1.2.0",
            "_model_name": "LayoutModel",
            "_view_count": null,
            "_view_module": "@jupyter-widgets/base",
            "_view_module_version": "1.2.0",
            "_view_name": "LayoutView",
            "align_content": null,
            "align_items": null,
            "align_self": null,
            "border": null,
            "bottom": null,
            "display": null,
            "flex": null,
            "flex_flow": null,
            "grid_area": null,
            "grid_auto_columns": null,
            "grid_auto_flow": null,
            "grid_auto_rows": null,
            "grid_column": null,
            "grid_gap": null,
            "grid_row": null,
            "grid_template_areas": null,
            "grid_template_columns": null,
            "grid_template_rows": null,
            "height": null,
            "justify_content": null,
            "justify_items": null,
            "left": null,
            "margin": null,
            "max_height": null,
            "max_width": null,
            "min_height": null,
            "min_width": null,
            "object_fit": null,
            "object_position": null,
            "order": null,
            "overflow": null,
            "overflow_x": null,
            "overflow_y": null,
            "padding": null,
            "right": null,
            "top": null,
            "visibility": null,
            "width": null
          }
        },
        "99428892a82a4a1b85cd044dff2f836e": {
          "model_module": "@jupyter-widgets/controls",
          "model_name": "DescriptionStyleModel",
          "state": {
            "_model_module": "@jupyter-widgets/controls",
            "_model_module_version": "1.5.0",
            "_model_name": "DescriptionStyleModel",
            "_view_count": null,
            "_view_module": "@jupyter-widgets/base",
            "_view_module_version": "1.2.0",
            "_view_name": "StyleView",
            "description_width": ""
          }
        },
        "209eeff6592c4019b73cf36491822f29": {
          "model_module": "@jupyter-widgets/controls",
          "model_name": "HBoxModel",
          "state": {
            "_dom_classes": [],
            "_model_module": "@jupyter-widgets/controls",
            "_model_module_version": "1.5.0",
            "_model_name": "HBoxModel",
            "_view_count": null,
            "_view_module": "@jupyter-widgets/controls",
            "_view_module_version": "1.5.0",
            "_view_name": "HBoxView",
            "box_style": "",
            "children": [
              "IPY_MODEL_0b7368b5c37a46edba1d183b9752e033",
              "IPY_MODEL_36b5367fcead40e280315ad5b4d62f83"
            ],
            "layout": "IPY_MODEL_3d4e3f160d1e41f19eae5ddcf3d39acb"
          }
        },
        "0b7368b5c37a46edba1d183b9752e033": {
          "model_module": "@jupyter-widgets/controls",
          "model_name": "FloatProgressModel",
          "state": {
            "_dom_classes": [],
            "_model_module": "@jupyter-widgets/controls",
            "_model_module_version": "1.5.0",
            "_model_name": "FloatProgressModel",
            "_view_count": null,
            "_view_module": "@jupyter-widgets/controls",
            "_view_module_version": "1.5.0",
            "_view_name": "ProgressView",
            "bar_style": "success",
            "description": "100%",
            "description_tooltip": null,
            "layout": "IPY_MODEL_3f8cbac4bdc1480789577f5ad125cd6f",
            "max": 200,
            "min": 0,
            "orientation": "horizontal",
            "style": "IPY_MODEL_445f1a2735354898a447a481e3018ff1",
            "value": 200
          }
        },
        "36b5367fcead40e280315ad5b4d62f83": {
          "model_module": "@jupyter-widgets/controls",
          "model_name": "HTMLModel",
          "state": {
            "_dom_classes": [],
            "_model_module": "@jupyter-widgets/controls",
            "_model_module_version": "1.5.0",
            "_model_name": "HTMLModel",
            "_view_count": null,
            "_view_module": "@jupyter-widgets/controls",
            "_view_module_version": "1.5.0",
            "_view_name": "HTMLView",
            "description": "",
            "description_tooltip": null,
            "layout": "IPY_MODEL_6b56461e07cb4476ad5b4f89b459554e",
            "placeholder": "​",
            "style": "IPY_MODEL_49defcb8cdbf4618af6fc4ff1e8ecbe6",
            "value": " 200/200 [00:10&lt;00:00, 19.68it/s]"
          }
        },
        "3d4e3f160d1e41f19eae5ddcf3d39acb": {
          "model_module": "@jupyter-widgets/base",
          "model_name": "LayoutModel",
          "state": {
            "_model_module": "@jupyter-widgets/base",
            "_model_module_version": "1.2.0",
            "_model_name": "LayoutModel",
            "_view_count": null,
            "_view_module": "@jupyter-widgets/base",
            "_view_module_version": "1.2.0",
            "_view_name": "LayoutView",
            "align_content": null,
            "align_items": null,
            "align_self": null,
            "border": null,
            "bottom": null,
            "display": null,
            "flex": null,
            "flex_flow": null,
            "grid_area": null,
            "grid_auto_columns": null,
            "grid_auto_flow": null,
            "grid_auto_rows": null,
            "grid_column": null,
            "grid_gap": null,
            "grid_row": null,
            "grid_template_areas": null,
            "grid_template_columns": null,
            "grid_template_rows": null,
            "height": null,
            "justify_content": null,
            "justify_items": null,
            "left": null,
            "margin": null,
            "max_height": null,
            "max_width": null,
            "min_height": null,
            "min_width": null,
            "object_fit": null,
            "object_position": null,
            "order": null,
            "overflow": null,
            "overflow_x": null,
            "overflow_y": null,
            "padding": null,
            "right": null,
            "top": null,
            "visibility": null,
            "width": null
          }
        },
        "3f8cbac4bdc1480789577f5ad125cd6f": {
          "model_module": "@jupyter-widgets/base",
          "model_name": "LayoutModel",
          "state": {
            "_model_module": "@jupyter-widgets/base",
            "_model_module_version": "1.2.0",
            "_model_name": "LayoutModel",
            "_view_count": null,
            "_view_module": "@jupyter-widgets/base",
            "_view_module_version": "1.2.0",
            "_view_name": "LayoutView",
            "align_content": null,
            "align_items": null,
            "align_self": null,
            "border": null,
            "bottom": null,
            "display": null,
            "flex": null,
            "flex_flow": null,
            "grid_area": null,
            "grid_auto_columns": null,
            "grid_auto_flow": null,
            "grid_auto_rows": null,
            "grid_column": null,
            "grid_gap": null,
            "grid_row": null,
            "grid_template_areas": null,
            "grid_template_columns": null,
            "grid_template_rows": null,
            "height": null,
            "justify_content": null,
            "justify_items": null,
            "left": null,
            "margin": null,
            "max_height": null,
            "max_width": null,
            "min_height": null,
            "min_width": null,
            "object_fit": null,
            "object_position": null,
            "order": null,
            "overflow": null,
            "overflow_x": null,
            "overflow_y": null,
            "padding": null,
            "right": null,
            "top": null,
            "visibility": null,
            "width": null
          }
        },
        "445f1a2735354898a447a481e3018ff1": {
          "model_module": "@jupyter-widgets/controls",
          "model_name": "ProgressStyleModel",
          "state": {
            "_model_module": "@jupyter-widgets/controls",
            "_model_module_version": "1.5.0",
            "_model_name": "ProgressStyleModel",
            "_view_count": null,
            "_view_module": "@jupyter-widgets/base",
            "_view_module_version": "1.2.0",
            "_view_name": "StyleView",
            "bar_color": null,
            "description_width": "initial"
          }
        },
        "6b56461e07cb4476ad5b4f89b459554e": {
          "model_module": "@jupyter-widgets/base",
          "model_name": "LayoutModel",
          "state": {
            "_model_module": "@jupyter-widgets/base",
            "_model_module_version": "1.2.0",
            "_model_name": "LayoutModel",
            "_view_count": null,
            "_view_module": "@jupyter-widgets/base",
            "_view_module_version": "1.2.0",
            "_view_name": "LayoutView",
            "align_content": null,
            "align_items": null,
            "align_self": null,
            "border": null,
            "bottom": null,
            "display": null,
            "flex": null,
            "flex_flow": null,
            "grid_area": null,
            "grid_auto_columns": null,
            "grid_auto_flow": null,
            "grid_auto_rows": null,
            "grid_column": null,
            "grid_gap": null,
            "grid_row": null,
            "grid_template_areas": null,
            "grid_template_columns": null,
            "grid_template_rows": null,
            "height": null,
            "justify_content": null,
            "justify_items": null,
            "left": null,
            "margin": null,
            "max_height": null,
            "max_width": null,
            "min_height": null,
            "min_width": null,
            "object_fit": null,
            "object_position": null,
            "order": null,
            "overflow": null,
            "overflow_x": null,
            "overflow_y": null,
            "padding": null,
            "right": null,
            "top": null,
            "visibility": null,
            "width": null
          }
        },
        "49defcb8cdbf4618af6fc4ff1e8ecbe6": {
          "model_module": "@jupyter-widgets/controls",
          "model_name": "DescriptionStyleModel",
          "state": {
            "_model_module": "@jupyter-widgets/controls",
            "_model_module_version": "1.5.0",
            "_model_name": "DescriptionStyleModel",
            "_view_count": null,
            "_view_module": "@jupyter-widgets/base",
            "_view_module_version": "1.2.0",
            "_view_name": "StyleView",
            "description_width": ""
          }
        },
        "a5ed492cfc854f45b673da5fe8ef4dc6": {
          "model_module": "@jupyter-widgets/controls",
          "model_name": "HBoxModel",
          "state": {
            "_dom_classes": [],
            "_model_module": "@jupyter-widgets/controls",
            "_model_module_version": "1.5.0",
            "_model_name": "HBoxModel",
            "_view_count": null,
            "_view_module": "@jupyter-widgets/controls",
            "_view_module_version": "1.5.0",
            "_view_name": "HBoxView",
            "box_style": "",
            "children": [
              "IPY_MODEL_db0e6a3a5b7a4c51a2c0ebca0a947564",
              "IPY_MODEL_fe9eb9b523224b6886a54480ecdb0c67"
            ],
            "layout": "IPY_MODEL_88fd061a2c8546f2808609264334d81d"
          }
        },
        "db0e6a3a5b7a4c51a2c0ebca0a947564": {
          "model_module": "@jupyter-widgets/controls",
          "model_name": "FloatProgressModel",
          "state": {
            "_dom_classes": [],
            "_model_module": "@jupyter-widgets/controls",
            "_model_module_version": "1.5.0",
            "_model_name": "FloatProgressModel",
            "_view_count": null,
            "_view_module": "@jupyter-widgets/controls",
            "_view_module_version": "1.5.0",
            "_view_name": "ProgressView",
            "bar_style": "success",
            "description": "100%",
            "description_tooltip": null,
            "layout": "IPY_MODEL_c096b2b7aea3416192c54d1ce5c88f5e",
            "max": 200,
            "min": 0,
            "orientation": "horizontal",
            "style": "IPY_MODEL_bf4dfc14e8d845729a73822b636fa615",
            "value": 200
          }
        },
        "fe9eb9b523224b6886a54480ecdb0c67": {
          "model_module": "@jupyter-widgets/controls",
          "model_name": "HTMLModel",
          "state": {
            "_dom_classes": [],
            "_model_module": "@jupyter-widgets/controls",
            "_model_module_version": "1.5.0",
            "_model_name": "HTMLModel",
            "_view_count": null,
            "_view_module": "@jupyter-widgets/controls",
            "_view_module_version": "1.5.0",
            "_view_name": "HTMLView",
            "description": "",
            "description_tooltip": null,
            "layout": "IPY_MODEL_4ae7c5e2ca5c4a4a872592790e5bf8f9",
            "placeholder": "​",
            "style": "IPY_MODEL_0f1ee630db484864a0908df204b6e127",
            "value": " 200/200 [00:16&lt;00:00, 11.81it/s]"
          }
        },
        "88fd061a2c8546f2808609264334d81d": {
          "model_module": "@jupyter-widgets/base",
          "model_name": "LayoutModel",
          "state": {
            "_model_module": "@jupyter-widgets/base",
            "_model_module_version": "1.2.0",
            "_model_name": "LayoutModel",
            "_view_count": null,
            "_view_module": "@jupyter-widgets/base",
            "_view_module_version": "1.2.0",
            "_view_name": "LayoutView",
            "align_content": null,
            "align_items": null,
            "align_self": null,
            "border": null,
            "bottom": null,
            "display": null,
            "flex": null,
            "flex_flow": null,
            "grid_area": null,
            "grid_auto_columns": null,
            "grid_auto_flow": null,
            "grid_auto_rows": null,
            "grid_column": null,
            "grid_gap": null,
            "grid_row": null,
            "grid_template_areas": null,
            "grid_template_columns": null,
            "grid_template_rows": null,
            "height": null,
            "justify_content": null,
            "justify_items": null,
            "left": null,
            "margin": null,
            "max_height": null,
            "max_width": null,
            "min_height": null,
            "min_width": null,
            "object_fit": null,
            "object_position": null,
            "order": null,
            "overflow": null,
            "overflow_x": null,
            "overflow_y": null,
            "padding": null,
            "right": null,
            "top": null,
            "visibility": null,
            "width": null
          }
        },
        "c096b2b7aea3416192c54d1ce5c88f5e": {
          "model_module": "@jupyter-widgets/base",
          "model_name": "LayoutModel",
          "state": {
            "_model_module": "@jupyter-widgets/base",
            "_model_module_version": "1.2.0",
            "_model_name": "LayoutModel",
            "_view_count": null,
            "_view_module": "@jupyter-widgets/base",
            "_view_module_version": "1.2.0",
            "_view_name": "LayoutView",
            "align_content": null,
            "align_items": null,
            "align_self": null,
            "border": null,
            "bottom": null,
            "display": null,
            "flex": null,
            "flex_flow": null,
            "grid_area": null,
            "grid_auto_columns": null,
            "grid_auto_flow": null,
            "grid_auto_rows": null,
            "grid_column": null,
            "grid_gap": null,
            "grid_row": null,
            "grid_template_areas": null,
            "grid_template_columns": null,
            "grid_template_rows": null,
            "height": null,
            "justify_content": null,
            "justify_items": null,
            "left": null,
            "margin": null,
            "max_height": null,
            "max_width": null,
            "min_height": null,
            "min_width": null,
            "object_fit": null,
            "object_position": null,
            "order": null,
            "overflow": null,
            "overflow_x": null,
            "overflow_y": null,
            "padding": null,
            "right": null,
            "top": null,
            "visibility": null,
            "width": null
          }
        },
        "bf4dfc14e8d845729a73822b636fa615": {
          "model_module": "@jupyter-widgets/controls",
          "model_name": "ProgressStyleModel",
          "state": {
            "_model_module": "@jupyter-widgets/controls",
            "_model_module_version": "1.5.0",
            "_model_name": "ProgressStyleModel",
            "_view_count": null,
            "_view_module": "@jupyter-widgets/base",
            "_view_module_version": "1.2.0",
            "_view_name": "StyleView",
            "bar_color": null,
            "description_width": "initial"
          }
        },
        "4ae7c5e2ca5c4a4a872592790e5bf8f9": {
          "model_module": "@jupyter-widgets/base",
          "model_name": "LayoutModel",
          "state": {
            "_model_module": "@jupyter-widgets/base",
            "_model_module_version": "1.2.0",
            "_model_name": "LayoutModel",
            "_view_count": null,
            "_view_module": "@jupyter-widgets/base",
            "_view_module_version": "1.2.0",
            "_view_name": "LayoutView",
            "align_content": null,
            "align_items": null,
            "align_self": null,
            "border": null,
            "bottom": null,
            "display": null,
            "flex": null,
            "flex_flow": null,
            "grid_area": null,
            "grid_auto_columns": null,
            "grid_auto_flow": null,
            "grid_auto_rows": null,
            "grid_column": null,
            "grid_gap": null,
            "grid_row": null,
            "grid_template_areas": null,
            "grid_template_columns": null,
            "grid_template_rows": null,
            "height": null,
            "justify_content": null,
            "justify_items": null,
            "left": null,
            "margin": null,
            "max_height": null,
            "max_width": null,
            "min_height": null,
            "min_width": null,
            "object_fit": null,
            "object_position": null,
            "order": null,
            "overflow": null,
            "overflow_x": null,
            "overflow_y": null,
            "padding": null,
            "right": null,
            "top": null,
            "visibility": null,
            "width": null
          }
        },
        "0f1ee630db484864a0908df204b6e127": {
          "model_module": "@jupyter-widgets/controls",
          "model_name": "DescriptionStyleModel",
          "state": {
            "_model_module": "@jupyter-widgets/controls",
            "_model_module_version": "1.5.0",
            "_model_name": "DescriptionStyleModel",
            "_view_count": null,
            "_view_module": "@jupyter-widgets/base",
            "_view_module_version": "1.2.0",
            "_view_name": "StyleView",
            "description_width": ""
          }
        },
        "25a3b52e44224418819ed7d918c51ece": {
          "model_module": "@jupyter-widgets/controls",
          "model_name": "HBoxModel",
          "state": {
            "_dom_classes": [],
            "_model_module": "@jupyter-widgets/controls",
            "_model_module_version": "1.5.0",
            "_model_name": "HBoxModel",
            "_view_count": null,
            "_view_module": "@jupyter-widgets/controls",
            "_view_module_version": "1.5.0",
            "_view_name": "HBoxView",
            "box_style": "",
            "children": [
              "IPY_MODEL_56063ce3e59242db9e68547738a79c06",
              "IPY_MODEL_c534b0f282ea4c50a83b2a3506d021c9"
            ],
            "layout": "IPY_MODEL_0e102b0add8e4fad874d4d7e0a491150"
          }
        },
        "56063ce3e59242db9e68547738a79c06": {
          "model_module": "@jupyter-widgets/controls",
          "model_name": "FloatProgressModel",
          "state": {
            "_dom_classes": [],
            "_model_module": "@jupyter-widgets/controls",
            "_model_module_version": "1.5.0",
            "_model_name": "FloatProgressModel",
            "_view_count": null,
            "_view_module": "@jupyter-widgets/controls",
            "_view_module_version": "1.5.0",
            "_view_name": "ProgressView",
            "bar_style": "success",
            "description": "100%",
            "description_tooltip": null,
            "layout": "IPY_MODEL_e7608c615f704f20a35126ec4aabba24",
            "max": 200,
            "min": 0,
            "orientation": "horizontal",
            "style": "IPY_MODEL_2170d35cc9fd47ddb4c0b53383472c9a",
            "value": 200
          }
        },
        "c534b0f282ea4c50a83b2a3506d021c9": {
          "model_module": "@jupyter-widgets/controls",
          "model_name": "HTMLModel",
          "state": {
            "_dom_classes": [],
            "_model_module": "@jupyter-widgets/controls",
            "_model_module_version": "1.5.0",
            "_model_name": "HTMLModel",
            "_view_count": null,
            "_view_module": "@jupyter-widgets/controls",
            "_view_module_version": "1.5.0",
            "_view_name": "HTMLView",
            "description": "",
            "description_tooltip": null,
            "layout": "IPY_MODEL_f5cbb84234fe468882e455fdc10ac96b",
            "placeholder": "​",
            "style": "IPY_MODEL_ba8fb2a0aaa34a73a215b0ac490e3030",
            "value": " 200/200 [00:12&lt;00:00, 15.83it/s]"
          }
        },
        "0e102b0add8e4fad874d4d7e0a491150": {
          "model_module": "@jupyter-widgets/base",
          "model_name": "LayoutModel",
          "state": {
            "_model_module": "@jupyter-widgets/base",
            "_model_module_version": "1.2.0",
            "_model_name": "LayoutModel",
            "_view_count": null,
            "_view_module": "@jupyter-widgets/base",
            "_view_module_version": "1.2.0",
            "_view_name": "LayoutView",
            "align_content": null,
            "align_items": null,
            "align_self": null,
            "border": null,
            "bottom": null,
            "display": null,
            "flex": null,
            "flex_flow": null,
            "grid_area": null,
            "grid_auto_columns": null,
            "grid_auto_flow": null,
            "grid_auto_rows": null,
            "grid_column": null,
            "grid_gap": null,
            "grid_row": null,
            "grid_template_areas": null,
            "grid_template_columns": null,
            "grid_template_rows": null,
            "height": null,
            "justify_content": null,
            "justify_items": null,
            "left": null,
            "margin": null,
            "max_height": null,
            "max_width": null,
            "min_height": null,
            "min_width": null,
            "object_fit": null,
            "object_position": null,
            "order": null,
            "overflow": null,
            "overflow_x": null,
            "overflow_y": null,
            "padding": null,
            "right": null,
            "top": null,
            "visibility": null,
            "width": null
          }
        },
        "e7608c615f704f20a35126ec4aabba24": {
          "model_module": "@jupyter-widgets/base",
          "model_name": "LayoutModel",
          "state": {
            "_model_module": "@jupyter-widgets/base",
            "_model_module_version": "1.2.0",
            "_model_name": "LayoutModel",
            "_view_count": null,
            "_view_module": "@jupyter-widgets/base",
            "_view_module_version": "1.2.0",
            "_view_name": "LayoutView",
            "align_content": null,
            "align_items": null,
            "align_self": null,
            "border": null,
            "bottom": null,
            "display": null,
            "flex": null,
            "flex_flow": null,
            "grid_area": null,
            "grid_auto_columns": null,
            "grid_auto_flow": null,
            "grid_auto_rows": null,
            "grid_column": null,
            "grid_gap": null,
            "grid_row": null,
            "grid_template_areas": null,
            "grid_template_columns": null,
            "grid_template_rows": null,
            "height": null,
            "justify_content": null,
            "justify_items": null,
            "left": null,
            "margin": null,
            "max_height": null,
            "max_width": null,
            "min_height": null,
            "min_width": null,
            "object_fit": null,
            "object_position": null,
            "order": null,
            "overflow": null,
            "overflow_x": null,
            "overflow_y": null,
            "padding": null,
            "right": null,
            "top": null,
            "visibility": null,
            "width": null
          }
        },
        "2170d35cc9fd47ddb4c0b53383472c9a": {
          "model_module": "@jupyter-widgets/controls",
          "model_name": "ProgressStyleModel",
          "state": {
            "_model_module": "@jupyter-widgets/controls",
            "_model_module_version": "1.5.0",
            "_model_name": "ProgressStyleModel",
            "_view_count": null,
            "_view_module": "@jupyter-widgets/base",
            "_view_module_version": "1.2.0",
            "_view_name": "StyleView",
            "bar_color": null,
            "description_width": "initial"
          }
        },
        "f5cbb84234fe468882e455fdc10ac96b": {
          "model_module": "@jupyter-widgets/base",
          "model_name": "LayoutModel",
          "state": {
            "_model_module": "@jupyter-widgets/base",
            "_model_module_version": "1.2.0",
            "_model_name": "LayoutModel",
            "_view_count": null,
            "_view_module": "@jupyter-widgets/base",
            "_view_module_version": "1.2.0",
            "_view_name": "LayoutView",
            "align_content": null,
            "align_items": null,
            "align_self": null,
            "border": null,
            "bottom": null,
            "display": null,
            "flex": null,
            "flex_flow": null,
            "grid_area": null,
            "grid_auto_columns": null,
            "grid_auto_flow": null,
            "grid_auto_rows": null,
            "grid_column": null,
            "grid_gap": null,
            "grid_row": null,
            "grid_template_areas": null,
            "grid_template_columns": null,
            "grid_template_rows": null,
            "height": null,
            "justify_content": null,
            "justify_items": null,
            "left": null,
            "margin": null,
            "max_height": null,
            "max_width": null,
            "min_height": null,
            "min_width": null,
            "object_fit": null,
            "object_position": null,
            "order": null,
            "overflow": null,
            "overflow_x": null,
            "overflow_y": null,
            "padding": null,
            "right": null,
            "top": null,
            "visibility": null,
            "width": null
          }
        },
        "ba8fb2a0aaa34a73a215b0ac490e3030": {
          "model_module": "@jupyter-widgets/controls",
          "model_name": "DescriptionStyleModel",
          "state": {
            "_model_module": "@jupyter-widgets/controls",
            "_model_module_version": "1.5.0",
            "_model_name": "DescriptionStyleModel",
            "_view_count": null,
            "_view_module": "@jupyter-widgets/base",
            "_view_module_version": "1.2.0",
            "_view_name": "StyleView",
            "description_width": ""
          }
        },
        "7943a667c39f41a789567d4bc19b79a4": {
          "model_module": "@jupyter-widgets/controls",
          "model_name": "HBoxModel",
          "state": {
            "_dom_classes": [],
            "_model_module": "@jupyter-widgets/controls",
            "_model_module_version": "1.5.0",
            "_model_name": "HBoxModel",
            "_view_count": null,
            "_view_module": "@jupyter-widgets/controls",
            "_view_module_version": "1.5.0",
            "_view_name": "HBoxView",
            "box_style": "",
            "children": [
              "IPY_MODEL_3b5708c2aaea4f2e9a9571ab684422f2",
              "IPY_MODEL_9be5d43592464f99acf58a39eaa63e15"
            ],
            "layout": "IPY_MODEL_76f75d26960a4fbaa185a76357ea4e28"
          }
        },
        "3b5708c2aaea4f2e9a9571ab684422f2": {
          "model_module": "@jupyter-widgets/controls",
          "model_name": "FloatProgressModel",
          "state": {
            "_dom_classes": [],
            "_model_module": "@jupyter-widgets/controls",
            "_model_module_version": "1.5.0",
            "_model_name": "FloatProgressModel",
            "_view_count": null,
            "_view_module": "@jupyter-widgets/controls",
            "_view_module_version": "1.5.0",
            "_view_name": "ProgressView",
            "bar_style": "success",
            "description": "100%",
            "description_tooltip": null,
            "layout": "IPY_MODEL_846478e9a6624d658a9405b09934a427",
            "max": 200,
            "min": 0,
            "orientation": "horizontal",
            "style": "IPY_MODEL_843650a5dba44a9ba2e2015aa29b55fa",
            "value": 200
          }
        },
        "9be5d43592464f99acf58a39eaa63e15": {
          "model_module": "@jupyter-widgets/controls",
          "model_name": "HTMLModel",
          "state": {
            "_dom_classes": [],
            "_model_module": "@jupyter-widgets/controls",
            "_model_module_version": "1.5.0",
            "_model_name": "HTMLModel",
            "_view_count": null,
            "_view_module": "@jupyter-widgets/controls",
            "_view_module_version": "1.5.0",
            "_view_name": "HTMLView",
            "description": "",
            "description_tooltip": null,
            "layout": "IPY_MODEL_906fb2ed1ecc49b2b6a2c9e711f0cdfd",
            "placeholder": "​",
            "style": "IPY_MODEL_736890d34c904a8e91122be1f4c8684f",
            "value": " 200/200 [00:42&lt;00:00,  4.74it/s]"
          }
        },
        "76f75d26960a4fbaa185a76357ea4e28": {
          "model_module": "@jupyter-widgets/base",
          "model_name": "LayoutModel",
          "state": {
            "_model_module": "@jupyter-widgets/base",
            "_model_module_version": "1.2.0",
            "_model_name": "LayoutModel",
            "_view_count": null,
            "_view_module": "@jupyter-widgets/base",
            "_view_module_version": "1.2.0",
            "_view_name": "LayoutView",
            "align_content": null,
            "align_items": null,
            "align_self": null,
            "border": null,
            "bottom": null,
            "display": null,
            "flex": null,
            "flex_flow": null,
            "grid_area": null,
            "grid_auto_columns": null,
            "grid_auto_flow": null,
            "grid_auto_rows": null,
            "grid_column": null,
            "grid_gap": null,
            "grid_row": null,
            "grid_template_areas": null,
            "grid_template_columns": null,
            "grid_template_rows": null,
            "height": null,
            "justify_content": null,
            "justify_items": null,
            "left": null,
            "margin": null,
            "max_height": null,
            "max_width": null,
            "min_height": null,
            "min_width": null,
            "object_fit": null,
            "object_position": null,
            "order": null,
            "overflow": null,
            "overflow_x": null,
            "overflow_y": null,
            "padding": null,
            "right": null,
            "top": null,
            "visibility": null,
            "width": null
          }
        },
        "846478e9a6624d658a9405b09934a427": {
          "model_module": "@jupyter-widgets/base",
          "model_name": "LayoutModel",
          "state": {
            "_model_module": "@jupyter-widgets/base",
            "_model_module_version": "1.2.0",
            "_model_name": "LayoutModel",
            "_view_count": null,
            "_view_module": "@jupyter-widgets/base",
            "_view_module_version": "1.2.0",
            "_view_name": "LayoutView",
            "align_content": null,
            "align_items": null,
            "align_self": null,
            "border": null,
            "bottom": null,
            "display": null,
            "flex": null,
            "flex_flow": null,
            "grid_area": null,
            "grid_auto_columns": null,
            "grid_auto_flow": null,
            "grid_auto_rows": null,
            "grid_column": null,
            "grid_gap": null,
            "grid_row": null,
            "grid_template_areas": null,
            "grid_template_columns": null,
            "grid_template_rows": null,
            "height": null,
            "justify_content": null,
            "justify_items": null,
            "left": null,
            "margin": null,
            "max_height": null,
            "max_width": null,
            "min_height": null,
            "min_width": null,
            "object_fit": null,
            "object_position": null,
            "order": null,
            "overflow": null,
            "overflow_x": null,
            "overflow_y": null,
            "padding": null,
            "right": null,
            "top": null,
            "visibility": null,
            "width": null
          }
        },
        "843650a5dba44a9ba2e2015aa29b55fa": {
          "model_module": "@jupyter-widgets/controls",
          "model_name": "ProgressStyleModel",
          "state": {
            "_model_module": "@jupyter-widgets/controls",
            "_model_module_version": "1.5.0",
            "_model_name": "ProgressStyleModel",
            "_view_count": null,
            "_view_module": "@jupyter-widgets/base",
            "_view_module_version": "1.2.0",
            "_view_name": "StyleView",
            "bar_color": null,
            "description_width": "initial"
          }
        },
        "906fb2ed1ecc49b2b6a2c9e711f0cdfd": {
          "model_module": "@jupyter-widgets/base",
          "model_name": "LayoutModel",
          "state": {
            "_model_module": "@jupyter-widgets/base",
            "_model_module_version": "1.2.0",
            "_model_name": "LayoutModel",
            "_view_count": null,
            "_view_module": "@jupyter-widgets/base",
            "_view_module_version": "1.2.0",
            "_view_name": "LayoutView",
            "align_content": null,
            "align_items": null,
            "align_self": null,
            "border": null,
            "bottom": null,
            "display": null,
            "flex": null,
            "flex_flow": null,
            "grid_area": null,
            "grid_auto_columns": null,
            "grid_auto_flow": null,
            "grid_auto_rows": null,
            "grid_column": null,
            "grid_gap": null,
            "grid_row": null,
            "grid_template_areas": null,
            "grid_template_columns": null,
            "grid_template_rows": null,
            "height": null,
            "justify_content": null,
            "justify_items": null,
            "left": null,
            "margin": null,
            "max_height": null,
            "max_width": null,
            "min_height": null,
            "min_width": null,
            "object_fit": null,
            "object_position": null,
            "order": null,
            "overflow": null,
            "overflow_x": null,
            "overflow_y": null,
            "padding": null,
            "right": null,
            "top": null,
            "visibility": null,
            "width": null
          }
        },
        "736890d34c904a8e91122be1f4c8684f": {
          "model_module": "@jupyter-widgets/controls",
          "model_name": "DescriptionStyleModel",
          "state": {
            "_model_module": "@jupyter-widgets/controls",
            "_model_module_version": "1.5.0",
            "_model_name": "DescriptionStyleModel",
            "_view_count": null,
            "_view_module": "@jupyter-widgets/base",
            "_view_module_version": "1.2.0",
            "_view_name": "StyleView",
            "description_width": ""
          }
        },
        "9b4a552fdb7141e99d9fdbbd66fe66a4": {
          "model_module": "@jupyter-widgets/controls",
          "model_name": "HBoxModel",
          "state": {
            "_dom_classes": [],
            "_model_module": "@jupyter-widgets/controls",
            "_model_module_version": "1.5.0",
            "_model_name": "HBoxModel",
            "_view_count": null,
            "_view_module": "@jupyter-widgets/controls",
            "_view_module_version": "1.5.0",
            "_view_name": "HBoxView",
            "box_style": "",
            "children": [
              "IPY_MODEL_d61c2cc4e61f4b09821ac9a9982ab7f7",
              "IPY_MODEL_efb225644e8e42f480b77922018caae4"
            ],
            "layout": "IPY_MODEL_238ea5fddfda4a3ab4e4b9ac5eb345f5"
          }
        },
        "d61c2cc4e61f4b09821ac9a9982ab7f7": {
          "model_module": "@jupyter-widgets/controls",
          "model_name": "FloatProgressModel",
          "state": {
            "_dom_classes": [],
            "_model_module": "@jupyter-widgets/controls",
            "_model_module_version": "1.5.0",
            "_model_name": "FloatProgressModel",
            "_view_count": null,
            "_view_module": "@jupyter-widgets/controls",
            "_view_module_version": "1.5.0",
            "_view_name": "ProgressView",
            "bar_style": "success",
            "description": "100%",
            "description_tooltip": null,
            "layout": "IPY_MODEL_9ee60eaa035a4e949e746e68eeb2da34",
            "max": 200,
            "min": 0,
            "orientation": "horizontal",
            "style": "IPY_MODEL_18e4a4ba5f3d4f92b29f0d509a3555d6",
            "value": 200
          }
        },
        "efb225644e8e42f480b77922018caae4": {
          "model_module": "@jupyter-widgets/controls",
          "model_name": "HTMLModel",
          "state": {
            "_dom_classes": [],
            "_model_module": "@jupyter-widgets/controls",
            "_model_module_version": "1.5.0",
            "_model_name": "HTMLModel",
            "_view_count": null,
            "_view_module": "@jupyter-widgets/controls",
            "_view_module_version": "1.5.0",
            "_view_name": "HTMLView",
            "description": "",
            "description_tooltip": null,
            "layout": "IPY_MODEL_03d925c71e9549a2859fff92181a5a77",
            "placeholder": "​",
            "style": "IPY_MODEL_283ab96fb48a4121b904f5c0f99675b1",
            "value": " 200/200 [00:06&lt;00:00, 30.43it/s]"
          }
        },
        "238ea5fddfda4a3ab4e4b9ac5eb345f5": {
          "model_module": "@jupyter-widgets/base",
          "model_name": "LayoutModel",
          "state": {
            "_model_module": "@jupyter-widgets/base",
            "_model_module_version": "1.2.0",
            "_model_name": "LayoutModel",
            "_view_count": null,
            "_view_module": "@jupyter-widgets/base",
            "_view_module_version": "1.2.0",
            "_view_name": "LayoutView",
            "align_content": null,
            "align_items": null,
            "align_self": null,
            "border": null,
            "bottom": null,
            "display": null,
            "flex": null,
            "flex_flow": null,
            "grid_area": null,
            "grid_auto_columns": null,
            "grid_auto_flow": null,
            "grid_auto_rows": null,
            "grid_column": null,
            "grid_gap": null,
            "grid_row": null,
            "grid_template_areas": null,
            "grid_template_columns": null,
            "grid_template_rows": null,
            "height": null,
            "justify_content": null,
            "justify_items": null,
            "left": null,
            "margin": null,
            "max_height": null,
            "max_width": null,
            "min_height": null,
            "min_width": null,
            "object_fit": null,
            "object_position": null,
            "order": null,
            "overflow": null,
            "overflow_x": null,
            "overflow_y": null,
            "padding": null,
            "right": null,
            "top": null,
            "visibility": null,
            "width": null
          }
        },
        "9ee60eaa035a4e949e746e68eeb2da34": {
          "model_module": "@jupyter-widgets/base",
          "model_name": "LayoutModel",
          "state": {
            "_model_module": "@jupyter-widgets/base",
            "_model_module_version": "1.2.0",
            "_model_name": "LayoutModel",
            "_view_count": null,
            "_view_module": "@jupyter-widgets/base",
            "_view_module_version": "1.2.0",
            "_view_name": "LayoutView",
            "align_content": null,
            "align_items": null,
            "align_self": null,
            "border": null,
            "bottom": null,
            "display": null,
            "flex": null,
            "flex_flow": null,
            "grid_area": null,
            "grid_auto_columns": null,
            "grid_auto_flow": null,
            "grid_auto_rows": null,
            "grid_column": null,
            "grid_gap": null,
            "grid_row": null,
            "grid_template_areas": null,
            "grid_template_columns": null,
            "grid_template_rows": null,
            "height": null,
            "justify_content": null,
            "justify_items": null,
            "left": null,
            "margin": null,
            "max_height": null,
            "max_width": null,
            "min_height": null,
            "min_width": null,
            "object_fit": null,
            "object_position": null,
            "order": null,
            "overflow": null,
            "overflow_x": null,
            "overflow_y": null,
            "padding": null,
            "right": null,
            "top": null,
            "visibility": null,
            "width": null
          }
        },
        "18e4a4ba5f3d4f92b29f0d509a3555d6": {
          "model_module": "@jupyter-widgets/controls",
          "model_name": "ProgressStyleModel",
          "state": {
            "_model_module": "@jupyter-widgets/controls",
            "_model_module_version": "1.5.0",
            "_model_name": "ProgressStyleModel",
            "_view_count": null,
            "_view_module": "@jupyter-widgets/base",
            "_view_module_version": "1.2.0",
            "_view_name": "StyleView",
            "bar_color": null,
            "description_width": "initial"
          }
        },
        "03d925c71e9549a2859fff92181a5a77": {
          "model_module": "@jupyter-widgets/base",
          "model_name": "LayoutModel",
          "state": {
            "_model_module": "@jupyter-widgets/base",
            "_model_module_version": "1.2.0",
            "_model_name": "LayoutModel",
            "_view_count": null,
            "_view_module": "@jupyter-widgets/base",
            "_view_module_version": "1.2.0",
            "_view_name": "LayoutView",
            "align_content": null,
            "align_items": null,
            "align_self": null,
            "border": null,
            "bottom": null,
            "display": null,
            "flex": null,
            "flex_flow": null,
            "grid_area": null,
            "grid_auto_columns": null,
            "grid_auto_flow": null,
            "grid_auto_rows": null,
            "grid_column": null,
            "grid_gap": null,
            "grid_row": null,
            "grid_template_areas": null,
            "grid_template_columns": null,
            "grid_template_rows": null,
            "height": null,
            "justify_content": null,
            "justify_items": null,
            "left": null,
            "margin": null,
            "max_height": null,
            "max_width": null,
            "min_height": null,
            "min_width": null,
            "object_fit": null,
            "object_position": null,
            "order": null,
            "overflow": null,
            "overflow_x": null,
            "overflow_y": null,
            "padding": null,
            "right": null,
            "top": null,
            "visibility": null,
            "width": null
          }
        },
        "283ab96fb48a4121b904f5c0f99675b1": {
          "model_module": "@jupyter-widgets/controls",
          "model_name": "DescriptionStyleModel",
          "state": {
            "_model_module": "@jupyter-widgets/controls",
            "_model_module_version": "1.5.0",
            "_model_name": "DescriptionStyleModel",
            "_view_count": null,
            "_view_module": "@jupyter-widgets/base",
            "_view_module_version": "1.2.0",
            "_view_name": "StyleView",
            "description_width": ""
          }
        },
        "b22eb5a88c92401087f2245bf3962298": {
          "model_module": "@jupyter-widgets/controls",
          "model_name": "HBoxModel",
          "state": {
            "_dom_classes": [],
            "_model_module": "@jupyter-widgets/controls",
            "_model_module_version": "1.5.0",
            "_model_name": "HBoxModel",
            "_view_count": null,
            "_view_module": "@jupyter-widgets/controls",
            "_view_module_version": "1.5.0",
            "_view_name": "HBoxView",
            "box_style": "",
            "children": [
              "IPY_MODEL_f6f4218fee7f43f1b6ac4909ebe17b84",
              "IPY_MODEL_dc05eb52157c4a5fa7242c68721c9a38"
            ],
            "layout": "IPY_MODEL_1d6dc3be233f486c8f43c2df1dd5e2eb"
          }
        },
        "f6f4218fee7f43f1b6ac4909ebe17b84": {
          "model_module": "@jupyter-widgets/controls",
          "model_name": "FloatProgressModel",
          "state": {
            "_dom_classes": [],
            "_model_module": "@jupyter-widgets/controls",
            "_model_module_version": "1.5.0",
            "_model_name": "FloatProgressModel",
            "_view_count": null,
            "_view_module": "@jupyter-widgets/controls",
            "_view_module_version": "1.5.0",
            "_view_name": "ProgressView",
            "bar_style": "success",
            "description": "100%",
            "description_tooltip": null,
            "layout": "IPY_MODEL_d1f4f677534d499592859625e07878c6",
            "max": 200,
            "min": 0,
            "orientation": "horizontal",
            "style": "IPY_MODEL_75591db005c84585bd0ff085dbc0aa9b",
            "value": 200
          }
        },
        "dc05eb52157c4a5fa7242c68721c9a38": {
          "model_module": "@jupyter-widgets/controls",
          "model_name": "HTMLModel",
          "state": {
            "_dom_classes": [],
            "_model_module": "@jupyter-widgets/controls",
            "_model_module_version": "1.5.0",
            "_model_name": "HTMLModel",
            "_view_count": null,
            "_view_module": "@jupyter-widgets/controls",
            "_view_module_version": "1.5.0",
            "_view_name": "HTMLView",
            "description": "",
            "description_tooltip": null,
            "layout": "IPY_MODEL_a3641039541a4655a358132372b2e14d",
            "placeholder": "​",
            "style": "IPY_MODEL_7e8634d0769846d091517f20fbecbd82",
            "value": " 200/200 [02:29&lt;00:00,  1.34it/s]"
          }
        },
        "1d6dc3be233f486c8f43c2df1dd5e2eb": {
          "model_module": "@jupyter-widgets/base",
          "model_name": "LayoutModel",
          "state": {
            "_model_module": "@jupyter-widgets/base",
            "_model_module_version": "1.2.0",
            "_model_name": "LayoutModel",
            "_view_count": null,
            "_view_module": "@jupyter-widgets/base",
            "_view_module_version": "1.2.0",
            "_view_name": "LayoutView",
            "align_content": null,
            "align_items": null,
            "align_self": null,
            "border": null,
            "bottom": null,
            "display": null,
            "flex": null,
            "flex_flow": null,
            "grid_area": null,
            "grid_auto_columns": null,
            "grid_auto_flow": null,
            "grid_auto_rows": null,
            "grid_column": null,
            "grid_gap": null,
            "grid_row": null,
            "grid_template_areas": null,
            "grid_template_columns": null,
            "grid_template_rows": null,
            "height": null,
            "justify_content": null,
            "justify_items": null,
            "left": null,
            "margin": null,
            "max_height": null,
            "max_width": null,
            "min_height": null,
            "min_width": null,
            "object_fit": null,
            "object_position": null,
            "order": null,
            "overflow": null,
            "overflow_x": null,
            "overflow_y": null,
            "padding": null,
            "right": null,
            "top": null,
            "visibility": null,
            "width": null
          }
        },
        "d1f4f677534d499592859625e07878c6": {
          "model_module": "@jupyter-widgets/base",
          "model_name": "LayoutModel",
          "state": {
            "_model_module": "@jupyter-widgets/base",
            "_model_module_version": "1.2.0",
            "_model_name": "LayoutModel",
            "_view_count": null,
            "_view_module": "@jupyter-widgets/base",
            "_view_module_version": "1.2.0",
            "_view_name": "LayoutView",
            "align_content": null,
            "align_items": null,
            "align_self": null,
            "border": null,
            "bottom": null,
            "display": null,
            "flex": null,
            "flex_flow": null,
            "grid_area": null,
            "grid_auto_columns": null,
            "grid_auto_flow": null,
            "grid_auto_rows": null,
            "grid_column": null,
            "grid_gap": null,
            "grid_row": null,
            "grid_template_areas": null,
            "grid_template_columns": null,
            "grid_template_rows": null,
            "height": null,
            "justify_content": null,
            "justify_items": null,
            "left": null,
            "margin": null,
            "max_height": null,
            "max_width": null,
            "min_height": null,
            "min_width": null,
            "object_fit": null,
            "object_position": null,
            "order": null,
            "overflow": null,
            "overflow_x": null,
            "overflow_y": null,
            "padding": null,
            "right": null,
            "top": null,
            "visibility": null,
            "width": null
          }
        },
        "75591db005c84585bd0ff085dbc0aa9b": {
          "model_module": "@jupyter-widgets/controls",
          "model_name": "ProgressStyleModel",
          "state": {
            "_model_module": "@jupyter-widgets/controls",
            "_model_module_version": "1.5.0",
            "_model_name": "ProgressStyleModel",
            "_view_count": null,
            "_view_module": "@jupyter-widgets/base",
            "_view_module_version": "1.2.0",
            "_view_name": "StyleView",
            "bar_color": null,
            "description_width": "initial"
          }
        },
        "a3641039541a4655a358132372b2e14d": {
          "model_module": "@jupyter-widgets/base",
          "model_name": "LayoutModel",
          "state": {
            "_model_module": "@jupyter-widgets/base",
            "_model_module_version": "1.2.0",
            "_model_name": "LayoutModel",
            "_view_count": null,
            "_view_module": "@jupyter-widgets/base",
            "_view_module_version": "1.2.0",
            "_view_name": "LayoutView",
            "align_content": null,
            "align_items": null,
            "align_self": null,
            "border": null,
            "bottom": null,
            "display": null,
            "flex": null,
            "flex_flow": null,
            "grid_area": null,
            "grid_auto_columns": null,
            "grid_auto_flow": null,
            "grid_auto_rows": null,
            "grid_column": null,
            "grid_gap": null,
            "grid_row": null,
            "grid_template_areas": null,
            "grid_template_columns": null,
            "grid_template_rows": null,
            "height": null,
            "justify_content": null,
            "justify_items": null,
            "left": null,
            "margin": null,
            "max_height": null,
            "max_width": null,
            "min_height": null,
            "min_width": null,
            "object_fit": null,
            "object_position": null,
            "order": null,
            "overflow": null,
            "overflow_x": null,
            "overflow_y": null,
            "padding": null,
            "right": null,
            "top": null,
            "visibility": null,
            "width": null
          }
        },
        "7e8634d0769846d091517f20fbecbd82": {
          "model_module": "@jupyter-widgets/controls",
          "model_name": "DescriptionStyleModel",
          "state": {
            "_model_module": "@jupyter-widgets/controls",
            "_model_module_version": "1.5.0",
            "_model_name": "DescriptionStyleModel",
            "_view_count": null,
            "_view_module": "@jupyter-widgets/base",
            "_view_module_version": "1.2.0",
            "_view_name": "StyleView",
            "description_width": ""
          }
        },
        "ea2404c21ea3485798270b32d4935700": {
          "model_module": "@jupyter-widgets/controls",
          "model_name": "HBoxModel",
          "state": {
            "_dom_classes": [],
            "_model_module": "@jupyter-widgets/controls",
            "_model_module_version": "1.5.0",
            "_model_name": "HBoxModel",
            "_view_count": null,
            "_view_module": "@jupyter-widgets/controls",
            "_view_module_version": "1.5.0",
            "_view_name": "HBoxView",
            "box_style": "",
            "children": [
              "IPY_MODEL_864b173e92b34e20b93ac338a9f5cf9a",
              "IPY_MODEL_aeabea19bef144ee952419238dbb2fb1"
            ],
            "layout": "IPY_MODEL_8316675e0254433bab0df20c57e823ef"
          }
        },
        "864b173e92b34e20b93ac338a9f5cf9a": {
          "model_module": "@jupyter-widgets/controls",
          "model_name": "FloatProgressModel",
          "state": {
            "_dom_classes": [],
            "_model_module": "@jupyter-widgets/controls",
            "_model_module_version": "1.5.0",
            "_model_name": "FloatProgressModel",
            "_view_count": null,
            "_view_module": "@jupyter-widgets/controls",
            "_view_module_version": "1.5.0",
            "_view_name": "ProgressView",
            "bar_style": "success",
            "description": "100%",
            "description_tooltip": null,
            "layout": "IPY_MODEL_37154ef15ab94cbbb87352012a76ad76",
            "max": 200,
            "min": 0,
            "orientation": "horizontal",
            "style": "IPY_MODEL_95f013a163c645f1b797fec8c7321977",
            "value": 200
          }
        },
        "aeabea19bef144ee952419238dbb2fb1": {
          "model_module": "@jupyter-widgets/controls",
          "model_name": "HTMLModel",
          "state": {
            "_dom_classes": [],
            "_model_module": "@jupyter-widgets/controls",
            "_model_module_version": "1.5.0",
            "_model_name": "HTMLModel",
            "_view_count": null,
            "_view_module": "@jupyter-widgets/controls",
            "_view_module_version": "1.5.0",
            "_view_name": "HTMLView",
            "description": "",
            "description_tooltip": null,
            "layout": "IPY_MODEL_96aeaf18cb76412e89690c115d414f2e",
            "placeholder": "​",
            "style": "IPY_MODEL_3832e5362e7d484bbca6a6109c5c02da",
            "value": " 200/200 [01:33&lt;00:00,  2.14it/s]"
          }
        },
        "8316675e0254433bab0df20c57e823ef": {
          "model_module": "@jupyter-widgets/base",
          "model_name": "LayoutModel",
          "state": {
            "_model_module": "@jupyter-widgets/base",
            "_model_module_version": "1.2.0",
            "_model_name": "LayoutModel",
            "_view_count": null,
            "_view_module": "@jupyter-widgets/base",
            "_view_module_version": "1.2.0",
            "_view_name": "LayoutView",
            "align_content": null,
            "align_items": null,
            "align_self": null,
            "border": null,
            "bottom": null,
            "display": null,
            "flex": null,
            "flex_flow": null,
            "grid_area": null,
            "grid_auto_columns": null,
            "grid_auto_flow": null,
            "grid_auto_rows": null,
            "grid_column": null,
            "grid_gap": null,
            "grid_row": null,
            "grid_template_areas": null,
            "grid_template_columns": null,
            "grid_template_rows": null,
            "height": null,
            "justify_content": null,
            "justify_items": null,
            "left": null,
            "margin": null,
            "max_height": null,
            "max_width": null,
            "min_height": null,
            "min_width": null,
            "object_fit": null,
            "object_position": null,
            "order": null,
            "overflow": null,
            "overflow_x": null,
            "overflow_y": null,
            "padding": null,
            "right": null,
            "top": null,
            "visibility": null,
            "width": null
          }
        },
        "37154ef15ab94cbbb87352012a76ad76": {
          "model_module": "@jupyter-widgets/base",
          "model_name": "LayoutModel",
          "state": {
            "_model_module": "@jupyter-widgets/base",
            "_model_module_version": "1.2.0",
            "_model_name": "LayoutModel",
            "_view_count": null,
            "_view_module": "@jupyter-widgets/base",
            "_view_module_version": "1.2.0",
            "_view_name": "LayoutView",
            "align_content": null,
            "align_items": null,
            "align_self": null,
            "border": null,
            "bottom": null,
            "display": null,
            "flex": null,
            "flex_flow": null,
            "grid_area": null,
            "grid_auto_columns": null,
            "grid_auto_flow": null,
            "grid_auto_rows": null,
            "grid_column": null,
            "grid_gap": null,
            "grid_row": null,
            "grid_template_areas": null,
            "grid_template_columns": null,
            "grid_template_rows": null,
            "height": null,
            "justify_content": null,
            "justify_items": null,
            "left": null,
            "margin": null,
            "max_height": null,
            "max_width": null,
            "min_height": null,
            "min_width": null,
            "object_fit": null,
            "object_position": null,
            "order": null,
            "overflow": null,
            "overflow_x": null,
            "overflow_y": null,
            "padding": null,
            "right": null,
            "top": null,
            "visibility": null,
            "width": null
          }
        },
        "95f013a163c645f1b797fec8c7321977": {
          "model_module": "@jupyter-widgets/controls",
          "model_name": "ProgressStyleModel",
          "state": {
            "_model_module": "@jupyter-widgets/controls",
            "_model_module_version": "1.5.0",
            "_model_name": "ProgressStyleModel",
            "_view_count": null,
            "_view_module": "@jupyter-widgets/base",
            "_view_module_version": "1.2.0",
            "_view_name": "StyleView",
            "bar_color": null,
            "description_width": "initial"
          }
        },
        "96aeaf18cb76412e89690c115d414f2e": {
          "model_module": "@jupyter-widgets/base",
          "model_name": "LayoutModel",
          "state": {
            "_model_module": "@jupyter-widgets/base",
            "_model_module_version": "1.2.0",
            "_model_name": "LayoutModel",
            "_view_count": null,
            "_view_module": "@jupyter-widgets/base",
            "_view_module_version": "1.2.0",
            "_view_name": "LayoutView",
            "align_content": null,
            "align_items": null,
            "align_self": null,
            "border": null,
            "bottom": null,
            "display": null,
            "flex": null,
            "flex_flow": null,
            "grid_area": null,
            "grid_auto_columns": null,
            "grid_auto_flow": null,
            "grid_auto_rows": null,
            "grid_column": null,
            "grid_gap": null,
            "grid_row": null,
            "grid_template_areas": null,
            "grid_template_columns": null,
            "grid_template_rows": null,
            "height": null,
            "justify_content": null,
            "justify_items": null,
            "left": null,
            "margin": null,
            "max_height": null,
            "max_width": null,
            "min_height": null,
            "min_width": null,
            "object_fit": null,
            "object_position": null,
            "order": null,
            "overflow": null,
            "overflow_x": null,
            "overflow_y": null,
            "padding": null,
            "right": null,
            "top": null,
            "visibility": null,
            "width": null
          }
        },
        "3832e5362e7d484bbca6a6109c5c02da": {
          "model_module": "@jupyter-widgets/controls",
          "model_name": "DescriptionStyleModel",
          "state": {
            "_model_module": "@jupyter-widgets/controls",
            "_model_module_version": "1.5.0",
            "_model_name": "DescriptionStyleModel",
            "_view_count": null,
            "_view_module": "@jupyter-widgets/base",
            "_view_module_version": "1.2.0",
            "_view_name": "StyleView",
            "description_width": ""
          }
        },
        "4733b07ebc0646ea8d71700663052a62": {
          "model_module": "@jupyter-widgets/controls",
          "model_name": "HBoxModel",
          "state": {
            "_dom_classes": [],
            "_model_module": "@jupyter-widgets/controls",
            "_model_module_version": "1.5.0",
            "_model_name": "HBoxModel",
            "_view_count": null,
            "_view_module": "@jupyter-widgets/controls",
            "_view_module_version": "1.5.0",
            "_view_name": "HBoxView",
            "box_style": "",
            "children": [
              "IPY_MODEL_1f28c5609f6d4cd2983a77033afacd4a",
              "IPY_MODEL_a2395a0cc96046219fd33c2915acfb5a"
            ],
            "layout": "IPY_MODEL_84d70c0e02f946feb95be4e7f4285612"
          }
        },
        "1f28c5609f6d4cd2983a77033afacd4a": {
          "model_module": "@jupyter-widgets/controls",
          "model_name": "FloatProgressModel",
          "state": {
            "_dom_classes": [],
            "_model_module": "@jupyter-widgets/controls",
            "_model_module_version": "1.5.0",
            "_model_name": "FloatProgressModel",
            "_view_count": null,
            "_view_module": "@jupyter-widgets/controls",
            "_view_module_version": "1.5.0",
            "_view_name": "ProgressView",
            "bar_style": "success",
            "description": "100%",
            "description_tooltip": null,
            "layout": "IPY_MODEL_16856f86c36d478c84705724434b9073",
            "max": 200,
            "min": 0,
            "orientation": "horizontal",
            "style": "IPY_MODEL_45f92401bb4d48649277dd1166fd433b",
            "value": 200
          }
        },
        "a2395a0cc96046219fd33c2915acfb5a": {
          "model_module": "@jupyter-widgets/controls",
          "model_name": "HTMLModel",
          "state": {
            "_dom_classes": [],
            "_model_module": "@jupyter-widgets/controls",
            "_model_module_version": "1.5.0",
            "_model_name": "HTMLModel",
            "_view_count": null,
            "_view_module": "@jupyter-widgets/controls",
            "_view_module_version": "1.5.0",
            "_view_name": "HTMLView",
            "description": "",
            "description_tooltip": null,
            "layout": "IPY_MODEL_7104b8cc5dbe4fd187c600727f1ab252",
            "placeholder": "​",
            "style": "IPY_MODEL_9b15da3a25d14abca9bf4b6b49f4f670",
            "value": " 200/200 [01:24&lt;00:00,  2.37it/s]"
          }
        },
        "84d70c0e02f946feb95be4e7f4285612": {
          "model_module": "@jupyter-widgets/base",
          "model_name": "LayoutModel",
          "state": {
            "_model_module": "@jupyter-widgets/base",
            "_model_module_version": "1.2.0",
            "_model_name": "LayoutModel",
            "_view_count": null,
            "_view_module": "@jupyter-widgets/base",
            "_view_module_version": "1.2.0",
            "_view_name": "LayoutView",
            "align_content": null,
            "align_items": null,
            "align_self": null,
            "border": null,
            "bottom": null,
            "display": null,
            "flex": null,
            "flex_flow": null,
            "grid_area": null,
            "grid_auto_columns": null,
            "grid_auto_flow": null,
            "grid_auto_rows": null,
            "grid_column": null,
            "grid_gap": null,
            "grid_row": null,
            "grid_template_areas": null,
            "grid_template_columns": null,
            "grid_template_rows": null,
            "height": null,
            "justify_content": null,
            "justify_items": null,
            "left": null,
            "margin": null,
            "max_height": null,
            "max_width": null,
            "min_height": null,
            "min_width": null,
            "object_fit": null,
            "object_position": null,
            "order": null,
            "overflow": null,
            "overflow_x": null,
            "overflow_y": null,
            "padding": null,
            "right": null,
            "top": null,
            "visibility": null,
            "width": null
          }
        },
        "16856f86c36d478c84705724434b9073": {
          "model_module": "@jupyter-widgets/base",
          "model_name": "LayoutModel",
          "state": {
            "_model_module": "@jupyter-widgets/base",
            "_model_module_version": "1.2.0",
            "_model_name": "LayoutModel",
            "_view_count": null,
            "_view_module": "@jupyter-widgets/base",
            "_view_module_version": "1.2.0",
            "_view_name": "LayoutView",
            "align_content": null,
            "align_items": null,
            "align_self": null,
            "border": null,
            "bottom": null,
            "display": null,
            "flex": null,
            "flex_flow": null,
            "grid_area": null,
            "grid_auto_columns": null,
            "grid_auto_flow": null,
            "grid_auto_rows": null,
            "grid_column": null,
            "grid_gap": null,
            "grid_row": null,
            "grid_template_areas": null,
            "grid_template_columns": null,
            "grid_template_rows": null,
            "height": null,
            "justify_content": null,
            "justify_items": null,
            "left": null,
            "margin": null,
            "max_height": null,
            "max_width": null,
            "min_height": null,
            "min_width": null,
            "object_fit": null,
            "object_position": null,
            "order": null,
            "overflow": null,
            "overflow_x": null,
            "overflow_y": null,
            "padding": null,
            "right": null,
            "top": null,
            "visibility": null,
            "width": null
          }
        },
        "45f92401bb4d48649277dd1166fd433b": {
          "model_module": "@jupyter-widgets/controls",
          "model_name": "ProgressStyleModel",
          "state": {
            "_model_module": "@jupyter-widgets/controls",
            "_model_module_version": "1.5.0",
            "_model_name": "ProgressStyleModel",
            "_view_count": null,
            "_view_module": "@jupyter-widgets/base",
            "_view_module_version": "1.2.0",
            "_view_name": "StyleView",
            "bar_color": null,
            "description_width": "initial"
          }
        },
        "7104b8cc5dbe4fd187c600727f1ab252": {
          "model_module": "@jupyter-widgets/base",
          "model_name": "LayoutModel",
          "state": {
            "_model_module": "@jupyter-widgets/base",
            "_model_module_version": "1.2.0",
            "_model_name": "LayoutModel",
            "_view_count": null,
            "_view_module": "@jupyter-widgets/base",
            "_view_module_version": "1.2.0",
            "_view_name": "LayoutView",
            "align_content": null,
            "align_items": null,
            "align_self": null,
            "border": null,
            "bottom": null,
            "display": null,
            "flex": null,
            "flex_flow": null,
            "grid_area": null,
            "grid_auto_columns": null,
            "grid_auto_flow": null,
            "grid_auto_rows": null,
            "grid_column": null,
            "grid_gap": null,
            "grid_row": null,
            "grid_template_areas": null,
            "grid_template_columns": null,
            "grid_template_rows": null,
            "height": null,
            "justify_content": null,
            "justify_items": null,
            "left": null,
            "margin": null,
            "max_height": null,
            "max_width": null,
            "min_height": null,
            "min_width": null,
            "object_fit": null,
            "object_position": null,
            "order": null,
            "overflow": null,
            "overflow_x": null,
            "overflow_y": null,
            "padding": null,
            "right": null,
            "top": null,
            "visibility": null,
            "width": null
          }
        },
        "9b15da3a25d14abca9bf4b6b49f4f670": {
          "model_module": "@jupyter-widgets/controls",
          "model_name": "DescriptionStyleModel",
          "state": {
            "_model_module": "@jupyter-widgets/controls",
            "_model_module_version": "1.5.0",
            "_model_name": "DescriptionStyleModel",
            "_view_count": null,
            "_view_module": "@jupyter-widgets/base",
            "_view_module_version": "1.2.0",
            "_view_name": "StyleView",
            "description_width": ""
          }
        }
      }
    }
  },
  "cells": [
    {
      "cell_type": "markdown",
      "metadata": {
        "id": "8HDC516y7_4q",
        "colab_type": "text"
      },
      "source": [
        "# Setup\n",
        "\n"
      ]
    },
    {
      "cell_type": "code",
      "metadata": {
        "id": "UgwhX3ly7_4y",
        "colab_type": "code",
        "colab": {}
      },
      "source": [
        "%%capture\n",
        "%pip install poetry\n",
        "%pip install git+https://github.com/oughtinc/ergo.git@8abfb30eb98c194e3ab677e5f1b3091f082d7f78\n",
        "%pip install xlrd"
      ],
      "execution_count": 0,
      "outputs": []
    },
    {
      "cell_type": "code",
      "metadata": {
        "id": "eZlulNqv7_5l",
        "colab_type": "code",
        "colab": {}
      },
      "source": [
        "%load_ext google.colab.data_table"
      ],
      "execution_count": 0,
      "outputs": []
    },
    {
      "cell_type": "code",
      "metadata": {
        "id": "DlUMTPn77_5w",
        "colab_type": "code",
        "colab": {}
      },
      "source": [
        "%%capture\n",
        "import ergo\n",
        "import numpy as np\n",
        "import pandas as pd\n",
        "import ssl\n",
        "import warnings\n",
        "import requests\n",
        "from datetime import timedelta, date\n",
        "from ergo.contrib.covid import brachbach, shaman, usafacts\n",
        "from ergo.contrib.utils import getNotebookQuestions, rejection_sample, sample_from_ensemble, daterange"
      ],
      "execution_count": 0,
      "outputs": []
    },
    {
      "cell_type": "code",
      "metadata": {
        "id": "c0bHlAmj7_56",
        "colab_type": "code",
        "colab": {}
      },
      "source": [
        "warnings.filterwarnings(action=\"ignore\", category=FutureWarning)\n",
        "warnings.filterwarnings(module=\"plotnine\", action=\"ignore\")\n",
        "warnings.filterwarnings(module=\"jax\", action=\"ignore\")\n",
        "ssl._create_default_https_context = ssl._create_unverified_context"
      ],
      "execution_count": 0,
      "outputs": []
    },
    {
      "cell_type": "markdown",
      "metadata": {
        "id": "3J4TeHYR7_6S",
        "colab_type": "text"
      },
      "source": [
        "Select which county you are considering\n",
        "\n"
      ]
    },
    {
      "cell_type": "code",
      "metadata": {
        "id": "cOtqnUqf7_6Z",
        "colab_type": "code",
        "colab": {}
      },
      "source": [
        "#@title Enter County and State Here\n",
        "county = \"Orange County\" #@param {type:\"string\"}\n",
        "state = \"NY\" #@param {type:\"string\"}"
      ],
      "execution_count": 0,
      "outputs": []
    },
    {
      "cell_type": "markdown",
      "metadata": {
        "id": "UslKhHTG7_6n",
        "colab_type": "text"
      },
      "source": [
        "# Retrieve external data and models\n",
        "\n"
      ]
    },
    {
      "cell_type": "markdown",
      "metadata": {
        "id": "9rs4it1u7_6o",
        "colab_type": "text"
      },
      "source": [
        "## Data\n",
        "\n"
      ]
    },
    {
      "cell_type": "markdown",
      "metadata": {
        "id": "hJ6n0i2O7_6r",
        "colab_type": "text"
      },
      "source": [
        "### Get cases data\n",
        "\n"
      ]
    },
    {
      "cell_type": "markdown",
      "metadata": {
        "id": "wcs47C2-7_6u",
        "colab_type": "text"
      },
      "source": [
        "Pulled from [here](https://usafacts.org/visualizations/coronavirus-covid-19-spread-map/)\n",
        "\n"
      ]
    },
    {
      "cell_type": "code",
      "metadata": {
        "id": "5bTQvPbA7_6w",
        "colab_type": "code",
        "colab": {}
      },
      "source": [
        "cases = usafacts.load_county_data(county, state)"
      ],
      "execution_count": 0,
      "outputs": []
    },
    {
      "cell_type": "markdown",
      "metadata": {
        "id": "vpY0kx-37_64",
        "colab_type": "text"
      },
      "source": [
        "### Get hospitalization data\n",
        "\n"
      ]
    },
    {
      "cell_type": "markdown",
      "metadata": {
        "id": "FLL90EtE7_66",
        "colab_type": "text"
      },
      "source": [
        "Pulled from [here](https://usafacts.org/visualizations/coronavirus-covid-19-spread-map/)\n",
        "\n"
      ]
    },
    {
      "cell_type": "code",
      "metadata": {
        "id": "YAQtE_Ht7_68",
        "colab_type": "code",
        "colab": {}
      },
      "source": [
        "average_hospitalization_rate = usafacts.get_hospitalization_rate()"
      ],
      "execution_count": 0,
      "outputs": []
    },
    {
      "cell_type": "markdown",
      "metadata": {
        "id": "NBVRMnuq7_7C",
        "colab_type": "text"
      },
      "source": [
        "#### Access Data\n",
        "\n"
      ]
    },
    {
      "cell_type": "code",
      "metadata": {
        "id": "VD3fx8w87_7E",
        "colab_type": "code",
        "colab": {}
      },
      "source": [
        "def get_historical_data(date: date, column_name):\n",
        "    \"\"\"\n",
        "    Look up the value of a parameter on a given date\n",
        "    in the historical data we've loaded.\n",
        "\n",
        "    Return the value or raise a KeyError if we don't have it.\n",
        "    \"\"\"\n",
        "\n",
        "    # prefer usafacts data\n",
        "    value = cases.loc[date, column_name]\n",
        "    if np.isnan(value):\n",
        "        raise KeyError(f\"value for {column_name} in our historical data is NaN\")\n",
        "    return value"
      ],
      "execution_count": 0,
      "outputs": []
    },
    {
      "cell_type": "markdown",
      "metadata": {
        "id": "pTfG2WMh7_7L",
        "colab_type": "text"
      },
      "source": [
        "## Models\n",
        "\n"
      ]
    },
    {
      "cell_type": "markdown",
      "metadata": {
        "id": "EiZeSFYk7_7N",
        "colab_type": "text"
      },
      "source": [
        "### Shaman et al. cases model\n",
        "\n"
      ]
    },
    {
      "cell_type": "markdown",
      "metadata": {
        "id": "cv-1HBWM7_7Q",
        "colab_type": "text"
      },
      "source": [
        "Pulled from [here](https://github.com/shaman-lab/COVID-19Projection)\n",
        "([paper](https://www.medrxiv.org/content/10.1101/2020.03.21.20040303v2))\n",
        "\n"
      ]
    },
    {
      "cell_type": "code",
      "metadata": {
        "id": "rLh1c3Zr7_7S",
        "colab_type": "code",
        "colab": {}
      },
      "source": [
        "cu_projections = shaman.load_cu_projections(f\"{county} {state}\")"
      ],
      "execution_count": 0,
      "outputs": []
    },
    {
      "cell_type": "markdown",
      "metadata": {
        "id": "4eaExe677_7Y",
        "colab_type": "text"
      },
      "source": [
        "### @brachbach model: cases -> hospitalized\n",
        "\n"
      ]
    },
    {
      "cell_type": "code",
      "metadata": {
        "id": "NRymRIIn7_7Z",
        "colab_type": "code",
        "colab": {}
      },
      "source": [
        "get_daily_hospital_confirmed = brachbach.get_daily_hospital_confirmed"
      ],
      "execution_count": 0,
      "outputs": []
    },
    {
      "cell_type": "markdown",
      "metadata": {
        "id": "VWC54KlN7_7h",
        "colab_type": "text"
      },
      "source": [
        "# Model components\n",
        "\n"
      ]
    },
    {
      "cell_type": "markdown",
      "metadata": {
        "id": "E-yCtt9x7_7j",
        "colab_type": "text"
      },
      "source": [
        "In this notebook, we model some aspects of how the COVID-19 pandemic will play out in\n",
        "different counties across the US.\n",
        "\n",
        "In this section, we model some key variables that we'll use to answer broader questions\n",
        "in the next section. We sometimes ensemble multiple models to try to get a better\n",
        "estimate of a variable.\n",
        "\n"
      ]
    },
    {
      "cell_type": "code",
      "metadata": {
        "id": "_QqlbZ2y7_7j",
        "colab_type": "code",
        "colab": {}
      },
      "source": [
        "START_DATE = date(2020, 4, 1)"
      ],
      "execution_count": 0,
      "outputs": []
    },
    {
      "cell_type": "markdown",
      "metadata": {
        "id": "pOH7Zscw7_7o",
        "colab_type": "text"
      },
      "source": [
        "## Daily COVID Infections\n",
        "\n"
      ]
    },
    {
      "cell_type": "markdown",
      "metadata": {
        "id": "3uusdb3D7_7p",
        "colab_type": "text"
      },
      "source": [
        "### Shaman Model\n",
        "\n"
      ]
    },
    {
      "cell_type": "code",
      "metadata": {
        "id": "7kjYdLhq7_7q",
        "colab_type": "code",
        "colab": {}
      },
      "source": [
        "@ergo.mem\n",
        "def cu_model_scenario():\n",
        "    \"\"\"Which of the model scenarios are we in?\"\"\"\n",
        "    return ergo.random_choice([s for s in cu_projections.keys()])\n",
        "\n",
        "@ergo.mem\n",
        "def cu_model_quantile():\n",
        "    \"\"\"Where in the distribution of model outputs are we for this model run?\n",
        "    Want to be consistent across time, so we sample it once per model run\"\"\"\n",
        "    return ergo.uniform()\n",
        "\n",
        "def cu_projection(param: str, date: date) -> int:\n",
        "    \"\"\"\n",
        "    Get the Columbia model's prediction\n",
        "    of the param for the date\n",
        "    \"\"\"\n",
        "    scenario = cu_model_scenario()\n",
        "    quantile = cu_model_quantile()\n",
        "\n",
        "    # Extract quantiles of the model distribution\n",
        "    xs = np.array([0.025, 0.25, 0.5, 0.75, 0.975])\n",
        "    scenario_df = cu_projections[scenario]\n",
        "    param_df = scenario_df[scenario_df[\"var\"] == param]\n",
        "    date_df = param_df[param_df[\"Date\"] == date]\n",
        "    if date_df.empty:\n",
        "        raise KeyError(f\"No Columbia project for param: {param}, date: {date}\")\n",
        "\n",
        "    ys = np.array(date_df[[\"2.5\", \"25\",  \"50\",  \"75\",  \"97.5\"]].iloc[0])\n",
        "    # Linearly interpolate\n",
        "    return int(round(np.interp(quantile, xs, ys)))"
      ],
      "execution_count": 0,
      "outputs": []
    },
    {
      "cell_type": "markdown",
      "metadata": {
        "id": "BZ4LB3Yu7_70",
        "colab_type": "text"
      },
      "source": [
        "### Get historical data or predict using ensemble\n",
        "\n"
      ]
    },
    {
      "cell_type": "code",
      "metadata": {
        "id": "h0ppB3RF7_71",
        "colab_type": "code",
        "colab": {}
      },
      "source": [
        "@ergo.mem\n",
        "def daily_infections(date: date) -> int:\n",
        "  \"\"\"\n",
        "  What is the number of reported (new) Covid-19 infections on [date]?\n",
        "  \"\"\"\n",
        "  try:\n",
        "      return get_historical_data(date, \"cases\")  \n",
        "  except KeyError:  # if we don't have historical data, use our ensemble of models\n",
        "      return sample_from_ensemble([\n",
        "          lambda date: cu_projection(\"cases\", date)  \n",
        "      ], {\"date\": date}, default=0)"
      ],
      "execution_count": 0,
      "outputs": []
    },
    {
      "cell_type": "markdown",
      "metadata": {
        "id": "ZJo-xMaH7_76",
        "colab_type": "text"
      },
      "source": [
        "## Daily COVID infections: mean, sma, peak\n",
        "\n"
      ]
    },
    {
      "cell_type": "code",
      "metadata": {
        "id": "N_pEgQS37_77",
        "colab_type": "code",
        "colab": {}
      },
      "source": [
        "@ergo.mem\n",
        "def mean_infections(start_date: date, end_date: date):\n",
        "    \"\"\"\n",
        "    What is the average number of reported new infections for this range of \n",
        "    dates? (Including start date, excluding end date)\n",
        "    \"\"\"\n",
        "    days = daterange(start_date, end_date)\n",
        "    return np.mean([daily_infections(day) for day in days])\n",
        "\n",
        "@ergo.mem\n",
        "def sd_infections(start_date: date, end_date: date):\n",
        "    \"\"\"\n",
        "    What is the variability of reported new infections for this range of \n",
        "    dates? (Including start date, excluding end date)\n",
        "    \"\"\"\n",
        "    days = daterange(start_date, end_date)\n",
        "    return np.std([daily_infections(day) for day in days])"
      ],
      "execution_count": 0,
      "outputs": []
    },
    {
      "cell_type": "code",
      "metadata": {
        "id": "agd5C5hk7_8E",
        "colab_type": "code",
        "colab": {}
      },
      "source": [
        "def sma_infections(date: date):\n",
        "    \"\"\"\n",
        "    The simple moving average of infections for a date.\n",
        "\n",
        "    Defined in https://pandemic.metaculus.com/questions/4128:\n",
        "\n",
        "    'The 2-day SMA is defined as the unweighted average (arithmetic mean)\n",
        "    over the current day and the previous day.'\n",
        "    \"\"\"\n",
        "    return mean_infections(date - timedelta(1), date + timedelta(1))\n",
        "\n",
        "@ergo.mem\n",
        "def noisy_sma_infections(date: date):\n",
        "    \"\"\"\n",
        "    Noisy simple moving average of infections for a date.\n",
        "\n",
        "    Defined in https://pandemic.metaculus.com/questions/4128:\n",
        "\n",
        "    'The 2-day SMA is defined as the unweighted average (arithmetic mean)\n",
        "    over the current day and the previous day.'\n",
        "    \"\"\"\n",
        "    sma =  mean_infections(date - timedelta(1), date + timedelta(1))\n",
        "    sd =  sd_infections(date - timedelta(1), date + timedelta(1))\n",
        "    return round(\n",
        "        float(\n",
        "            ergo.normal(mean=sma, stdev=sd)\n",
        "        )\n",
        "    )\n",
        "\n",
        "@ergo.mem\n",
        "def peak_compatible_with_historical_data(peak_date):\n",
        "    \"\"\"\n",
        "    Check whether it's possible that some date in the past\n",
        "    was the peak date of new COVID infections in El Paso,\n",
        "    given the historical data we have about COVID infections\n",
        "    \"\"\"\n",
        "    if not peak_date in cases.index:\n",
        "        return True\n",
        "    for comparison_date in daterange(START_DATE, peak_date + timedelta(11)):  #TODO refactor so as not reference a global here\n",
        "        if comparison_date not in cases.index:\n",
        "            continue\n",
        "        if sma_infections(comparison_date) > sma_infections(peak_date):\n",
        "            return False\n",
        "        if sma_infections(comparison_date) == sma_infections(peak_date) and comparison_date > peak_date:\n",
        "            return False\n",
        "    return True\n",
        "\n",
        "\n",
        "@ergo.mem\n",
        "def peak_infection_date_community():\n",
        "    \"\"\"\n",
        "    The community assigns probability to some dates in the past\n",
        "    that we already know were not the peak.\n",
        "    So instead of sampling from the full community distribution,\n",
        "    sample from the portion of the community distribution\n",
        "    that is plausibly correct.\n",
        "    \"\"\"    \n",
        "    peak_date = rejection_sample(\n",
        "        peak_infection_date.question.sample_community, \n",
        "        peak_compatible_with_historical_data)\n",
        "    return peak_date"
      ],
      "execution_count": 0,
      "outputs": []
    },
    {
      "cell_type": "markdown",
      "metadata": {
        "id": "k7SKsOV77_8K",
        "colab_type": "text"
      },
      "source": [
        "## Patients with COVID in the hospital\n",
        "\n"
      ]
    },
    {
      "cell_type": "markdown",
      "metadata": {
        "id": "wD--NfGd7_8L",
        "colab_type": "text"
      },
      "source": [
        "### point estimate from data cases -> hospitalized\n",
        "\n"
      ]
    },
    {
      "cell_type": "code",
      "metadata": {
        "id": "AVk-o35l7_8N",
        "colab_type": "code",
        "colab": {}
      },
      "source": [
        "def hospitalizations(date: date) -> int:\n",
        "    \"\"\"\n",
        "    Get a point estimate from John's Hopkins Data,\n",
        "    then add some (fairly arbitrary) uncertainty\n",
        "    \"\"\"\n",
        "\n",
        "    cases = daily_infections(date)\n",
        "    if cases == 0:\n",
        "      return cases\n",
        "    hopitalizations = average_hospitalization_rate * cases\n",
        "    hopitalizations_estimate = ergo.lognormal_from_interval(hopitalizations * 0.8, hopitalizations * 1.2)\n",
        "    return np.clip(hopitalizations_estimate, hopitalizations * 0.5, hopitalizations * 2)"
      ],
      "execution_count": 0,
      "outputs": []
    },
    {
      "cell_type": "markdown",
      "metadata": {
        "id": "SW_sqapJ7_8X",
        "colab_type": "text"
      },
      "source": [
        "### Get historical data or predict using ensemble\n",
        "\n"
      ]
    },
    {
      "cell_type": "code",
      "metadata": {
        "id": "AuGHkgFN7_8Y",
        "colab_type": "code",
        "colab": {}
      },
      "source": [
        "@ergo.mem\n",
        "def hospital_confirmed_for_date(date: date) -> int:\n",
        "    \"\"\"\n",
        "    The total number of lab-confirmed COVID-19 patients in El Paso County in\n",
        "    the hospital on this date\n",
        "    \"\"\"\n",
        "    try:\n",
        "        return get_historical_data(date, \"In hospital confirmed\")  # TODO find data for this\n",
        "    except KeyError:  # if we don't have historical data, use our ensemble of models\n",
        "        return sample_from_ensemble([\n",
        "            lambda date: cu_projection(\"hosp\", date),\n",
        "            hospitalizations \n",
        "        ], {\"date\": date}, [.8, .2], fallback=True, default=0)"
      ],
      "execution_count": 0,
      "outputs": []
    },
    {
      "cell_type": "markdown",
      "metadata": {
        "id": "yaLBty-v7_8b",
        "colab_type": "text"
      },
      "source": [
        "## Proportion ICU admissions requiring ventilation\n",
        "\n"
      ]
    },
    {
      "cell_type": "code",
      "metadata": {
        "id": "_hRZV3Vg7_8d",
        "colab_type": "code",
        "colab": {}
      },
      "source": [
        "@ergo.mem\n",
        "def frac_icu_ventilation():\n",
        "    \"\"\"\n",
        "    Proportion of ICU admissions requiring ventilation\n",
        "\n",
        "    Approach (PabloStafforini et al): \n",
        "    https://pandemic.metaculus.com/questions/4154/#comment-28155\n",
        "\n",
        "    TODO: \n",
        "    - Improve how we use case data\n",
        "    - Add qualitative adjustments\n",
        "    \"\"\"\n",
        "    ventilation_pseudocounts = 25 + 17 + 0.05 * 1150 + 0.1 * 132\n",
        "    icu_pseudocounts = 100 + 36 + 0.05 * 1300 + 0.1 * 196\n",
        "    return ergo.beta_from_hits(ventilation_pseudocounts, icu_pseudocounts)"
      ],
      "execution_count": 0,
      "outputs": []
    },
    {
      "cell_type": "markdown",
      "metadata": {
        "id": "Xpec5nkc7_8i",
        "colab_type": "text"
      },
      "source": [
        "# Visualize questions\n",
        "\n"
      ]
    },
    {
      "cell_type": "markdown",
      "metadata": {
        "id": "ysRdcbZP7_8j",
        "colab_type": "text"
      },
      "source": [
        "Make a collection of questions to investigate and predict with ergo\n",
        "\n"
      ]
    },
    {
      "cell_type": "code",
      "metadata": {
        "id": "RNKoUIpt7_8j",
        "colab_type": "code",
        "colab": {}
      },
      "source": [
        "myqs = getNotebookQuestions()"
      ],
      "execution_count": 0,
      "outputs": []
    },
    {
      "cell_type": "code",
      "metadata": {
        "id": "6082blld7_8o",
        "colab_type": "code",
        "colab": {
          "base_uri": "https://localhost:8080/",
          "height": 634,
          "referenced_widgets": [
            "c017f2b8e87b4198ad4cc847c7c2ad54",
            "3d3579eea81244fdada2033c56fc8ba7",
            "6b0208cb64c64ca685eecf17a6fe0f57",
            "0b2348aa5a1a4c7eb9e5ba53fcc38956",
            "61c0b571eff54a509bafa6ad95a6321f",
            "ab9f961593f14f9ba5d6a9b0392cc904",
            "8feffed79a964d478bbf033bc0921cc3",
            "99428892a82a4a1b85cd044dff2f836e"
          ]
        },
        "outputId": "c74de27a-0101-4f13-d47a-9fc8b6f7fbe9"
      },
      "source": [
        "@myqs.question()\n",
        "def peak_infection_date() -> date:\n",
        "    \"\"\"\n",
        "    When will El Paso County, Texas, experience its first peak number of COVID\n",
        "    infections?\n",
        "\n",
        "    From https://pandemic.metaculus.com/questions/4128:\n",
        "    'This question resolves as the date for which\n",
        "    the 2-day simple moving average(SMA) of the number of reported new infections\n",
        "    is strictly greater than the 2-day SMA over the subsequent 10 days.'\n",
        "    \"\"\"\n",
        "    end_date = date(2020, 7, 1)\n",
        "    for today in daterange(START_DATE, end_date):\n",
        "        sma_today = sma_infections(today)\n",
        "        future_smas = [sma_infections(today + timedelta(i)) for i in range(1,11)]\n",
        "        if sma_today > max(future_smas):\n",
        "            if ergo.flip(.4):\n",
        "                return today\n",
        "            else:\n",
        "                fuzz = round(float(ergo.normal_from_interval(-3,3)))\n",
        "                return today + timedelta(fuzz)\n",
        "    return end_date\n",
        "\n",
        "myqs.plot_question(peak_infection_date, bins=10)"
      ],
      "execution_count": 18,
      "outputs": [
        {
          "output_type": "display_data",
          "data": {
            "text/plain": [
              "HBox(children=(FloatProgress(value=0.0, max=200.0), HTML(value='')))"
            ],
            "application/vnd.jupyter.widget-view+json": {
              "version_major": 2,
              "version_minor": 0,
              "model_id": "c017f2b8e87b4198ad4cc847c7c2ad54"
            }
          },
          "metadata": {
            "tags": []
          }
        },
        {
          "output_type": "stream",
          "text": [
            "\n"
          ],
          "name": "stdout"
        },
        {
          "output_type": "display_data",
          "data": {
            "text/plain": [
              "                    count unique         top freq\n",
              "peak_infection_date   200     11  2020-05-10  107"
            ],
            "text/html": [
              "<div>\n",
              "<style scoped>\n",
              "    .dataframe tbody tr th:only-of-type {\n",
              "        vertical-align: middle;\n",
              "    }\n",
              "\n",
              "    .dataframe tbody tr th {\n",
              "        vertical-align: top;\n",
              "    }\n",
              "\n",
              "    .dataframe thead th {\n",
              "        text-align: right;\n",
              "    }\n",
              "</style>\n",
              "<table border=\"1\" class=\"dataframe\">\n",
              "  <thead>\n",
              "    <tr style=\"text-align: right;\">\n",
              "      <th></th>\n",
              "      <th>count</th>\n",
              "      <th>unique</th>\n",
              "      <th>top</th>\n",
              "      <th>freq</th>\n",
              "    </tr>\n",
              "  </thead>\n",
              "  <tbody>\n",
              "    <tr>\n",
              "      <th>peak_infection_date</th>\n",
              "      <td>200</td>\n",
              "      <td>11</td>\n",
              "      <td>2020-05-10</td>\n",
              "      <td>107</td>\n",
              "    </tr>\n",
              "  </tbody>\n",
              "</table>\n",
              "</div>"
            ]
          },
          "metadata": {
            "tags": []
          }
        },
        {
          "output_type": "display_data",
          "data": {
            "text/plain": [
              "<Figure size 640x480 with 1 Axes>"
            ],
            "image/png": "[encoded data removed]"
          },
          "metadata": {
            "tags": []
          }
        }
      ]
    },
    {
      "cell_type": "code",
      "metadata": {
        "id": "TietvTaG7_8u",
        "colab_type": "code",
        "colab": {
          "base_uri": "https://localhost:8080/",
          "height": 588,
          "referenced_widgets": [
            "209eeff6592c4019b73cf36491822f29",
            "0b7368b5c37a46edba1d183b9752e033",
            "36b5367fcead40e280315ad5b4d62f83",
            "3d4e3f160d1e41f19eae5ddcf3d39acb",
            "3f8cbac4bdc1480789577f5ad125cd6f",
            "445f1a2735354898a447a481e3018ff1",
            "6b56461e07cb4476ad5b4f89b459554e",
            "49defcb8cdbf4618af6fc4ff1e8ecbe6"
          ]
        },
        "outputId": "c6879209-0d05-4091-ec80-3f12d03f8ec9"
      },
      "source": [
        "@myqs.question()\n",
        "def peak_infections():\n",
        "    \"\"\"\n",
        "    How many new infections will be reported in El Paso on the day on which\n",
        "    the number of new reported infections peaks?\n",
        "    \"\"\"\n",
        "    peak = peak_infection_date()\n",
        "    return daily_infections(peak)\n",
        "myqs.plot_question(peak_infections, log=True, percent_kept=.7, side_cut_from=\"lower\")"
      ],
      "execution_count": 30,
      "outputs": [
        {
          "output_type": "display_data",
          "data": {
            "text/plain": [
              "HBox(children=(FloatProgress(value=0.0, max=200.0), HTML(value='')))"
            ],
            "application/vnd.jupyter.widget-view+json": {
              "version_major": 2,
              "version_minor": 0,
              "model_id": "209eeff6592c4019b73cf36491822f29"
            }
          },
          "metadata": {
            "tags": []
          }
        },
        {
          "output_type": "stream",
          "text": [
            "\n"
          ],
          "name": "stdout"
        },
        {
          "output_type": "display_data",
          "data": {
            "text/plain": [
              "                 count     mean      std  min     25%     50%     75%     max\n",
              "peak_infections  200.0  7713.94  3718.83  7.0  9402.0  9543.0  9543.0  9543.0"
            ],
            "text/html": [
              "<div>\n",
              "<style scoped>\n",
              "    .dataframe tbody tr th:only-of-type {\n",
              "        vertical-align: middle;\n",
              "    }\n",
              "\n",
              "    .dataframe tbody tr th {\n",
              "        vertical-align: top;\n",
              "    }\n",
              "\n",
              "    .dataframe thead th {\n",
              "        text-align: right;\n",
              "    }\n",
              "</style>\n",
              "<table border=\"1\" class=\"dataframe\">\n",
              "  <thead>\n",
              "    <tr style=\"text-align: right;\">\n",
              "      <th></th>\n",
              "      <th>count</th>\n",
              "      <th>mean</th>\n",
              "      <th>std</th>\n",
              "      <th>min</th>\n",
              "      <th>25%</th>\n",
              "      <th>50%</th>\n",
              "      <th>75%</th>\n",
              "      <th>max</th>\n",
              "    </tr>\n",
              "  </thead>\n",
              "  <tbody>\n",
              "    <tr>\n",
              "      <th>peak_infections</th>\n",
              "      <td>200.0</td>\n",
              "      <td>7713.94</td>\n",
              "      <td>3718.83</td>\n",
              "      <td>7.0</td>\n",
              "      <td>9402.0</td>\n",
              "      <td>9543.0</td>\n",
              "      <td>9543.0</td>\n",
              "      <td>9543.0</td>\n",
              "    </tr>\n",
              "  </tbody>\n",
              "</table>\n",
              "</div>"
            ]
          },
          "metadata": {
            "tags": []
          }
        },
        {
          "output_type": "display_data",
          "data": {
            "text/plain": [
              "<Figure size 640x480 with 1 Axes>"
            ],
            "image/png": "[encoded data removed]"
          },
          "metadata": {
            "tags": []
          }
        }
      ]
    },
    {
      "cell_type": "code",
      "metadata": {
        "id": "JWzZLPO-7_80",
        "colab_type": "code",
        "colab": {
          "base_uri": "https://localhost:8080/",
          "height": 588,
          "referenced_widgets": [
            "a5ed492cfc854f45b673da5fe8ef4dc6",
            "db0e6a3a5b7a4c51a2c0ebca0a947564",
            "fe9eb9b523224b6886a54480ecdb0c67",
            "88fd061a2c8546f2808609264334d81d",
            "c096b2b7aea3416192c54d1ce5c88f5e",
            "bf4dfc14e8d845729a73822b636fa615",
            "4ae7c5e2ca5c4a4a872592790e5bf8f9",
            "0f1ee630db484864a0908df204b6e127"
          ]
        },
        "outputId": "be8bf45d-683c-43e3-8330-415ad6338d0c"
      },
      "source": [
        "@myqs.question()\n",
        "def mean_infections_peak345():\n",
        "    \"\"\"\n",
        "    What will the average number of reported daily infections be in El Paso,\n",
        "    over the 3rd, 4th and 5th days after the first \"peak\"?\n",
        "    \"\"\"\n",
        "    peak = peak_infection_date()\n",
        "    return mean_infections(peak + timedelta(3), peak + timedelta(6))\n",
        "myqs.plot_question(mean_infections_peak345, log=True)"
      ],
      "execution_count": 21,
      "outputs": [
        {
          "output_type": "display_data",
          "data": {
            "text/plain": [
              "HBox(children=(FloatProgress(value=0.0, max=200.0), HTML(value='')))"
            ],
            "application/vnd.jupyter.widget-view+json": {
              "version_major": 2,
              "version_minor": 0,
              "model_id": "a5ed492cfc854f45b673da5fe8ef4dc6"
            }
          },
          "metadata": {
            "tags": []
          }
        },
        {
          "output_type": "stream",
          "text": [
            "\n"
          ],
          "name": "stdout"
        },
        {
          "output_type": "display_data",
          "data": {
            "text/plain": [
              "                         count    mean      std   min    25%   50%     75%  \\\n",
              "mean_infections_peak345  200.0  290.14  1027.96  2.67  18.83  45.0  115.58   \n",
              "\n",
              "                            max  \n",
              "mean_infections_peak345  9477.0  "
            ],
            "text/html": [
              "<div>\n",
              "<style scoped>\n",
              "    .dataframe tbody tr th:only-of-type {\n",
              "        vertical-align: middle;\n",
              "    }\n",
              "\n",
              "    .dataframe tbody tr th {\n",
              "        vertical-align: top;\n",
              "    }\n",
              "\n",
              "    .dataframe thead th {\n",
              "        text-align: right;\n",
              "    }\n",
              "</style>\n",
              "<table border=\"1\" class=\"dataframe\">\n",
              "  <thead>\n",
              "    <tr style=\"text-align: right;\">\n",
              "      <th></th>\n",
              "      <th>count</th>\n",
              "      <th>mean</th>\n",
              "      <th>std</th>\n",
              "      <th>min</th>\n",
              "      <th>25%</th>\n",
              "      <th>50%</th>\n",
              "      <th>75%</th>\n",
              "      <th>max</th>\n",
              "    </tr>\n",
              "  </thead>\n",
              "  <tbody>\n",
              "    <tr>\n",
              "      <th>mean_infections_peak345</th>\n",
              "      <td>200.0</td>\n",
              "      <td>290.14</td>\n",
              "      <td>1027.96</td>\n",
              "      <td>2.67</td>\n",
              "      <td>18.83</td>\n",
              "      <td>45.0</td>\n",
              "      <td>115.58</td>\n",
              "      <td>9477.0</td>\n",
              "    </tr>\n",
              "  </tbody>\n",
              "</table>\n",
              "</div>"
            ]
          },
          "metadata": {
            "tags": []
          }
        },
        {
          "output_type": "display_data",
          "data": {
            "text/plain": [
              "<Figure size 640x480 with 1 Axes>"
            ],
            "image/png": "[encoded data removed]"
          },
          "metadata": {
            "tags": []
          }
        }
      ]
    },
    {
      "cell_type": "code",
      "metadata": {
        "id": "uUlcIQE57_83",
        "colab_type": "code",
        "colab": {
          "base_uri": "https://localhost:8080/",
          "height": 588,
          "referenced_widgets": [
            "25a3b52e44224418819ed7d918c51ece",
            "56063ce3e59242db9e68547738a79c06",
            "c534b0f282ea4c50a83b2a3506d021c9",
            "0e102b0add8e4fad874d4d7e0a491150",
            "e7608c615f704f20a35126ec4aabba24",
            "2170d35cc9fd47ddb4c0b53383472c9a",
            "f5cbb84234fe468882e455fdc10ac96b",
            "ba8fb2a0aaa34a73a215b0ac490e3030"
          ]
        },
        "outputId": "74dba916-9eec-43ff-d68a-99ff323daa34"
      },
      "source": [
        "@myqs.question()\n",
        "def mean_infections_peak678():\n",
        "    \"\"\"\n",
        "    What will the average number of reported daily infections be in El Paso,\n",
        "    over the 6th, 7th and 8th days after the first \"peak\"?  \n",
        "    \"\"\"\n",
        "    peak = peak_infection_date()\n",
        "    return mean_infections(peak + timedelta(6), peak + timedelta(9))\n",
        "myqs.plot_question(mean_infections_peak678, log=True)"
      ],
      "execution_count": 22,
      "outputs": [
        {
          "output_type": "display_data",
          "data": {
            "text/plain": [
              "HBox(children=(FloatProgress(value=0.0, max=200.0), HTML(value='')))"
            ],
            "application/vnd.jupyter.widget-view+json": {
              "version_major": 2,
              "version_minor": 0,
              "model_id": "25a3b52e44224418819ed7d918c51ece"
            }
          },
          "metadata": {
            "tags": []
          }
        },
        {
          "output_type": "stream",
          "text": [
            "\n"
          ],
          "name": "stdout"
        },
        {
          "output_type": "display_data",
          "data": {
            "text/plain": [
              "                         count   mean    std   min    25%   50%     75%  \\\n",
              "mean_infections_peak678  200.0  96.12  239.1  2.67  23.83  56.0  104.25   \n",
              "\n",
              "                             max  \n",
              "mean_infections_peak678  3257.67  "
            ],
            "text/html": [
              "<div>\n",
              "<style scoped>\n",
              "    .dataframe tbody tr th:only-of-type {\n",
              "        vertical-align: middle;\n",
              "    }\n",
              "\n",
              "    .dataframe tbody tr th {\n",
              "        vertical-align: top;\n",
              "    }\n",
              "\n",
              "    .dataframe thead th {\n",
              "        text-align: right;\n",
              "    }\n",
              "</style>\n",
              "<table border=\"1\" class=\"dataframe\">\n",
              "  <thead>\n",
              "    <tr style=\"text-align: right;\">\n",
              "      <th></th>\n",
              "      <th>count</th>\n",
              "      <th>mean</th>\n",
              "      <th>std</th>\n",
              "      <th>min</th>\n",
              "      <th>25%</th>\n",
              "      <th>50%</th>\n",
              "      <th>75%</th>\n",
              "      <th>max</th>\n",
              "    </tr>\n",
              "  </thead>\n",
              "  <tbody>\n",
              "    <tr>\n",
              "      <th>mean_infections_peak678</th>\n",
              "      <td>200.0</td>\n",
              "      <td>96.12</td>\n",
              "      <td>239.1</td>\n",
              "      <td>2.67</td>\n",
              "      <td>23.83</td>\n",
              "      <td>56.0</td>\n",
              "      <td>104.25</td>\n",
              "      <td>3257.67</td>\n",
              "    </tr>\n",
              "  </tbody>\n",
              "</table>\n",
              "</div>"
            ]
          },
          "metadata": {
            "tags": []
          }
        },
        {
          "output_type": "display_data",
          "data": {
            "text/plain": [
              "<Figure size 640x480 with 1 Axes>"
            ],
            "image/png": "[encoded data removed]"
          },
          "metadata": {
            "tags": []
          }
        }
      ]
    },
    {
      "cell_type": "code",
      "metadata": {
        "id": "SsrC1AD27_89",
        "colab_type": "code",
        "colab": {
          "base_uri": "https://localhost:8080/",
          "height": 588,
          "referenced_widgets": [
            "7943a667c39f41a789567d4bc19b79a4",
            "3b5708c2aaea4f2e9a9571ab684422f2",
            "9be5d43592464f99acf58a39eaa63e15",
            "76f75d26960a4fbaa185a76357ea4e28",
            "846478e9a6624d658a9405b09934a427",
            "843650a5dba44a9ba2e2015aa29b55fa",
            "906fb2ed1ecc49b2b6a2c9e711f0cdfd",
            "736890d34c904a8e91122be1f4c8684f"
          ]
        },
        "outputId": "dcd5d72b-f7f9-4ae5-dd02-e491a4e4b8cd"
      },
      "source": [
        "@myqs.question()\n",
        "def frac_patients_icu():\n",
        "    \"\"\"\n",
        "    What portion of in-hospital cases in El Paso County will require admission\n",
        "    to the ICU?\n",
        "\n",
        "    Following @katifish's approach:\n",
        "    https://pandemic.metaculus.com/questions/4155/#comment-28054\n",
        "\n",
        "    TODO: Add others from katifish comment\n",
        "    \"\"\"\n",
        "    alpha = 0.1 # Rescaling counts becase we're more uncertain than implied by counts\n",
        "    return ergo.random_choice([\n",
        "      ergo.beta_from_hits(alpha * 121, alpha * 508),\n",
        "      ergo.beta_from_hits(alpha * 181, alpha * 507),\n",
        "    ])\n",
        "myqs.plot_question(frac_patients_icu)"
      ],
      "execution_count": 23,
      "outputs": [
        {
          "output_type": "display_data",
          "data": {
            "text/plain": [
              "HBox(children=(FloatProgress(value=0.0, max=200.0), HTML(value='')))"
            ],
            "application/vnd.jupyter.widget-view+json": {
              "version_major": 2,
              "version_minor": 0,
              "model_id": "7943a667c39f41a789567d4bc19b79a4"
            }
          },
          "metadata": {
            "tags": []
          }
        },
        {
          "output_type": "stream",
          "text": [
            "\n"
          ],
          "name": "stdout"
        },
        {
          "output_type": "display_data",
          "data": {
            "text/plain": [
              "                   count  mean   std   min   25%   50%   75%   max\n",
              "frac_patients_icu  200.0  0.31  0.08  0.12  0.25  0.31  0.37  0.54"
            ],
            "text/html": [
              "<div>\n",
              "<style scoped>\n",
              "    .dataframe tbody tr th:only-of-type {\n",
              "        vertical-align: middle;\n",
              "    }\n",
              "\n",
              "    .dataframe tbody tr th {\n",
              "        vertical-align: top;\n",
              "    }\n",
              "\n",
              "    .dataframe thead th {\n",
              "        text-align: right;\n",
              "    }\n",
              "</style>\n",
              "<table border=\"1\" class=\"dataframe\">\n",
              "  <thead>\n",
              "    <tr style=\"text-align: right;\">\n",
              "      <th></th>\n",
              "      <th>count</th>\n",
              "      <th>mean</th>\n",
              "      <th>std</th>\n",
              "      <th>min</th>\n",
              "      <th>25%</th>\n",
              "      <th>50%</th>\n",
              "      <th>75%</th>\n",
              "      <th>max</th>\n",
              "    </tr>\n",
              "  </thead>\n",
              "  <tbody>\n",
              "    <tr>\n",
              "      <th>frac_patients_icu</th>\n",
              "      <td>200.0</td>\n",
              "      <td>0.31</td>\n",
              "      <td>0.08</td>\n",
              "      <td>0.12</td>\n",
              "      <td>0.25</td>\n",
              "      <td>0.31</td>\n",
              "      <td>0.37</td>\n",
              "      <td>0.54</td>\n",
              "    </tr>\n",
              "  </tbody>\n",
              "</table>\n",
              "</div>"
            ]
          },
          "metadata": {
            "tags": []
          }
        },
        {
          "output_type": "display_data",
          "data": {
            "text/plain": [
              "<Figure size 640x480 with 1 Axes>"
            ],
            "image/png": "[encoded data removed]"
          },
          "metadata": {
            "tags": []
          }
        }
      ]
    },
    {
      "cell_type": "code",
      "metadata": {
        "id": "r516TQNN7_9A",
        "colab_type": "code",
        "colab": {
          "base_uri": "https://localhost:8080/",
          "height": 619,
          "referenced_widgets": [
            "9b4a552fdb7141e99d9fdbbd66fe66a4",
            "d61c2cc4e61f4b09821ac9a9982ab7f7",
            "efb225644e8e42f480b77922018caae4",
            "238ea5fddfda4a3ab4e4b9ac5eb345f5",
            "9ee60eaa035a4e949e746e68eeb2da34",
            "18e4a4ba5f3d4f92b29f0d509a3555d6",
            "03d925c71e9549a2859fff92181a5a77",
            "283ab96fb48a4121b904f5c0f99675b1"
          ]
        },
        "outputId": "7e1c8e0a-5773-41e8-a406-711ca909cbee"
      },
      "source": [
        "@myqs.question()\n",
        "def frac_patients_invasive():\n",
        "    \"\"\"\n",
        "    What portion of in-hospital patients with Covid-19 in El Paso County will\n",
        "    require invasive ventilation?\n",
        "\n",
        "    Following @PabloStafforini's indirect estimation approach:\n",
        "    https://pandemic.metaculus.com/questions/4154/#comment-28155\n",
        "\n",
        "    TODO:\n",
        "    - Combine with direct estimate\n",
        "      direct_estimate = ergo.beta_from_hits(0.1 * 130, 0.1 * 393)\n",
        "    \"\"\"\n",
        "    return frac_patients_icu() * frac_icu_ventilation()\n",
        "myqs.plot_question(frac_patients_invasive)"
      ],
      "execution_count": 24,
      "outputs": [
        {
          "output_type": "display_data",
          "data": {
            "text/plain": [
              "HBox(children=(FloatProgress(value=0.0, max=200.0), HTML(value='')))"
            ],
            "application/vnd.jupyter.widget-view+json": {
              "version_major": 2,
              "version_minor": 0,
              "model_id": "9b4a552fdb7141e99d9fdbbd66fe66a4"
            }
          },
          "metadata": {
            "tags": []
          }
        },
        {
          "output_type": "stream",
          "text": [
            "\n"
          ],
          "name": "stdout"
        },
        {
          "output_type": "display_data",
          "data": {
            "text/plain": [
              "                        count  mean   std   min   25%   50%   75%   max\n",
              "frac_patients_icu       200.0  0.31  0.08  0.12  0.25  0.31  0.38  0.53\n",
              "frac_patients_invasive  200.0  0.16  0.04  0.06  0.13  0.16  0.19  0.25"
            ],
            "text/html": [
              "<div>\n",
              "<style scoped>\n",
              "    .dataframe tbody tr th:only-of-type {\n",
              "        vertical-align: middle;\n",
              "    }\n",
              "\n",
              "    .dataframe tbody tr th {\n",
              "        vertical-align: top;\n",
              "    }\n",
              "\n",
              "    .dataframe thead th {\n",
              "        text-align: right;\n",
              "    }\n",
              "</style>\n",
              "<table border=\"1\" class=\"dataframe\">\n",
              "  <thead>\n",
              "    <tr style=\"text-align: right;\">\n",
              "      <th></th>\n",
              "      <th>count</th>\n",
              "      <th>mean</th>\n",
              "      <th>std</th>\n",
              "      <th>min</th>\n",
              "      <th>25%</th>\n",
              "      <th>50%</th>\n",
              "      <th>75%</th>\n",
              "      <th>max</th>\n",
              "    </tr>\n",
              "  </thead>\n",
              "  <tbody>\n",
              "    <tr>\n",
              "      <th>frac_patients_icu</th>\n",
              "      <td>200.0</td>\n",
              "      <td>0.31</td>\n",
              "      <td>0.08</td>\n",
              "      <td>0.12</td>\n",
              "      <td>0.25</td>\n",
              "      <td>0.31</td>\n",
              "      <td>0.38</td>\n",
              "      <td>0.53</td>\n",
              "    </tr>\n",
              "    <tr>\n",
              "      <th>frac_patients_invasive</th>\n",
              "      <td>200.0</td>\n",
              "      <td>0.16</td>\n",
              "      <td>0.04</td>\n",
              "      <td>0.06</td>\n",
              "      <td>0.13</td>\n",
              "      <td>0.16</td>\n",
              "      <td>0.19</td>\n",
              "      <td>0.25</td>\n",
              "    </tr>\n",
              "  </tbody>\n",
              "</table>\n",
              "</div>"
            ]
          },
          "metadata": {
            "tags": []
          }
        },
        {
          "output_type": "display_data",
          "data": {
            "text/plain": [
              "<Figure size 640x480 with 1 Axes>"
            ],
            "image/png": "[encoded data removed]"
          },
          "metadata": {
            "tags": []
          }
        }
      ]
    },
    {
      "cell_type": "code",
      "metadata": {
        "id": "pIe4bk9_7_9E",
        "colab_type": "code",
        "colab": {
          "base_uri": "https://localhost:8080/",
          "height": 588,
          "referenced_widgets": [
            "b22eb5a88c92401087f2245bf3962298",
            "f6f4218fee7f43f1b6ac4909ebe17b84",
            "dc05eb52157c4a5fa7242c68721c9a38",
            "1d6dc3be233f486c8f43c2df1dd5e2eb",
            "d1f4f677534d499592859625e07878c6",
            "75591db005c84585bd0ff085dbc0aa9b",
            "a3641039541a4655a358132372b2e14d",
            "7e8634d0769846d091517f20fbecbd82"
          ]
        },
        "outputId": "5e71828e-1857-428c-88d6-99f55860eeb9"
      },
      "source": [
        "@ergo.mem\n",
        "def peak_hospitalized_date():\n",
        "    \"\"\"\n",
        "    What will be the date when there are the max number of COVID patients in the hospital\n",
        "    within 15 days before or after the date of the first peak in confirmed cases?\n",
        "    \"\"\"\n",
        "    infection_peak_date = peak_infection_date()\n",
        "    days = list(daterange(infection_peak_date - timedelta(15), infection_peak_date + timedelta(16)))\n",
        "\n",
        "    hospitalization_peak_date = days[0]\n",
        "    hospitalized_peak = 0\n",
        "\n",
        "    for day in days:\n",
        "        hospitalized_for_day = hospital_confirmed_for_date(day)\n",
        "\n",
        "        # if there are 2 different dates\n",
        "        # with the same peak number of hospitalized patients,\n",
        "        # return the first date:\n",
        "        # https://pandemic.metaculus.com/questions/4204#comment-30023\n",
        "        if hospitalized_for_day > hospitalized_peak:\n",
        "            hospitalization_peak_date = day\n",
        "            hospitalized_peak = hospitalized_for_day\n",
        "\n",
        "    return hospitalization_peak_date\n",
        "\n",
        "@myqs.question()\n",
        "def max_30d_hospital_confirmed_for_peak():\n",
        "    \"\"\"\n",
        "    What will the maximum number of in-hospital lab-confirmed COVID-19 \n",
        "    patients in El Paso County, in the 30-day period during which the \"peak\"\n",
        "    occurs?\n",
        "    \"\"\"\n",
        "    return hospital_confirmed_for_date(peak_hospitalized_date())\n",
        "\n",
        "myqs.plot_question(max_30d_hospital_confirmed_for_peak, log=True)"
      ],
      "execution_count": 25,
      "outputs": [
        {
          "output_type": "display_data",
          "data": {
            "text/plain": [
              "HBox(children=(FloatProgress(value=0.0, max=200.0), HTML(value='')))"
            ],
            "application/vnd.jupyter.widget-view+json": {
              "version_major": 2,
              "version_minor": 0,
              "model_id": "b22eb5a88c92401087f2245bf3962298"
            }
          },
          "metadata": {
            "tags": []
          }
        },
        {
          "output_type": "stream",
          "text": [
            "\n"
          ],
          "name": "stdout"
        },
        {
          "output_type": "display_data",
          "data": {
            "text/plain": [
              "                                     count       mean      std    min  \\\n",
              "max_30d_hospital_confirmed_for_peak  200.0  144787.43  22174.7  250.0   \n",
              "\n",
              "                                           25%        50%        75%       max  \n",
              "max_30d_hospital_confirmed_for_peak  136097.16  145561.49  154955.26  210364.0  "
            ],
            "text/html": [
              "<div>\n",
              "<style scoped>\n",
              "    .dataframe tbody tr th:only-of-type {\n",
              "        vertical-align: middle;\n",
              "    }\n",
              "\n",
              "    .dataframe tbody tr th {\n",
              "        vertical-align: top;\n",
              "    }\n",
              "\n",
              "    .dataframe thead th {\n",
              "        text-align: right;\n",
              "    }\n",
              "</style>\n",
              "<table border=\"1\" class=\"dataframe\">\n",
              "  <thead>\n",
              "    <tr style=\"text-align: right;\">\n",
              "      <th></th>\n",
              "      <th>count</th>\n",
              "      <th>mean</th>\n",
              "      <th>std</th>\n",
              "      <th>min</th>\n",
              "      <th>25%</th>\n",
              "      <th>50%</th>\n",
              "      <th>75%</th>\n",
              "      <th>max</th>\n",
              "    </tr>\n",
              "  </thead>\n",
              "  <tbody>\n",
              "    <tr>\n",
              "      <th>max_30d_hospital_confirmed_for_peak</th>\n",
              "      <td>200.0</td>\n",
              "      <td>144787.43</td>\n",
              "      <td>22174.7</td>\n",
              "      <td>250.0</td>\n",
              "      <td>136097.16</td>\n",
              "      <td>145561.49</td>\n",
              "      <td>154955.26</td>\n",
              "      <td>210364.0</td>\n",
              "    </tr>\n",
              "  </tbody>\n",
              "</table>\n",
              "</div>"
            ]
          },
          "metadata": {
            "tags": []
          }
        },
        {
          "output_type": "display_data",
          "data": {
            "text/plain": [
              "<Figure size 640x480 with 1 Axes>"
            ],
            "image/png": "[encoded data removed]"
          },
          "metadata": {
            "tags": []
          }
        }
      ]
    },
    {
      "cell_type": "code",
      "metadata": {
        "id": "uVEY3aePJTfJ",
        "colab_type": "code",
        "colab": {
          "base_uri": "https://localhost:8080/",
          "height": 619,
          "referenced_widgets": [
            "ea2404c21ea3485798270b32d4935700",
            "864b173e92b34e20b93ac338a9f5cf9a",
            "aeabea19bef144ee952419238dbb2fb1",
            "8316675e0254433bab0df20c57e823ef",
            "37154ef15ab94cbbb87352012a76ad76",
            "95f013a163c645f1b797fec8c7321977",
            "96aeaf18cb76412e89690c115d414f2e",
            "3832e5362e7d484bbca6a6109c5c02da"
          ]
        },
        "outputId": "eecae5a0-46ec-42e7-9d5e-6fdd666f4a90"
      },
      "source": [
        "  @myqs.question()\n",
        "  def peak_icu_patients():\n",
        "      \"\"\"\n",
        "      How many patients with Covid-19 in El Paso County will be in the\n",
        "      ICU on the day when the number of hospital admissions of cases peak? \n",
        "      \"\"\"\n",
        "      peak_date = peak_hospitalized_date()\n",
        "      \n",
        "      try:\n",
        "          return get_historical_data(peak_date, \"in_icu\")\n",
        "      # if we don't have historical data, sample from the Columbia model\n",
        "      except KeyError:\n",
        "          return sample_from_ensemble([\n",
        "              lambda date: cu_projection(\"ICU\", date), \n",
        "              lambda date: frac_patients_icu() * daily_infections(date)\n",
        "          ], {\"date\": peak_date},  [.8, .2], fallback=True, default=0)\n",
        "  myqs.plot_question(peak_icu_patients, log=True)"
      ],
      "execution_count": 26,
      "outputs": [
        {
          "output_type": "display_data",
          "data": {
            "text/plain": [
              "HBox(children=(FloatProgress(value=0.0, max=200.0), HTML(value='')))"
            ],
            "application/vnd.jupyter.widget-view+json": {
              "version_major": 2,
              "version_minor": 0,
              "model_id": "ea2404c21ea3485798270b32d4935700"
            }
          },
          "metadata": {
            "tags": []
          }
        },
        {
          "output_type": "stream",
          "text": [
            "\n"
          ],
          "name": "stdout"
        },
        {
          "output_type": "display_data",
          "data": {
            "text/plain": [
              "                   count     mean      std   min    25%     50%      75%  \\\n",
              "frac_patients_icu   72.0     0.32     0.08  0.16   0.24    0.32     0.36   \n",
              "peak_icu_patients  200.0  1047.97  1360.91  9.00  48.00  136.00  2358.61   \n",
              "\n",
              "                       max  \n",
              "frac_patients_icu     0.54  \n",
              "peak_icu_patients  5131.59  "
            ],
            "text/html": [
              "<div>\n",
              "<style scoped>\n",
              "    .dataframe tbody tr th:only-of-type {\n",
              "        vertical-align: middle;\n",
              "    }\n",
              "\n",
              "    .dataframe tbody tr th {\n",
              "        vertical-align: top;\n",
              "    }\n",
              "\n",
              "    .dataframe thead th {\n",
              "        text-align: right;\n",
              "    }\n",
              "</style>\n",
              "<table border=\"1\" class=\"dataframe\">\n",
              "  <thead>\n",
              "    <tr style=\"text-align: right;\">\n",
              "      <th></th>\n",
              "      <th>count</th>\n",
              "      <th>mean</th>\n",
              "      <th>std</th>\n",
              "      <th>min</th>\n",
              "      <th>25%</th>\n",
              "      <th>50%</th>\n",
              "      <th>75%</th>\n",
              "      <th>max</th>\n",
              "    </tr>\n",
              "  </thead>\n",
              "  <tbody>\n",
              "    <tr>\n",
              "      <th>frac_patients_icu</th>\n",
              "      <td>72.0</td>\n",
              "      <td>0.32</td>\n",
              "      <td>0.08</td>\n",
              "      <td>0.16</td>\n",
              "      <td>0.24</td>\n",
              "      <td>0.32</td>\n",
              "      <td>0.36</td>\n",
              "      <td>0.54</td>\n",
              "    </tr>\n",
              "    <tr>\n",
              "      <th>peak_icu_patients</th>\n",
              "      <td>200.0</td>\n",
              "      <td>1047.97</td>\n",
              "      <td>1360.91</td>\n",
              "      <td>9.00</td>\n",
              "      <td>48.00</td>\n",
              "      <td>136.00</td>\n",
              "      <td>2358.61</td>\n",
              "      <td>5131.59</td>\n",
              "    </tr>\n",
              "  </tbody>\n",
              "</table>\n",
              "</div>"
            ]
          },
          "metadata": {
            "tags": []
          }
        },
        {
          "output_type": "display_data",
          "data": {
            "text/plain": [
              "<Figure size 640x480 with 1 Axes>"
            ],
            "image/png": "[encoded data removed]"
          },
          "metadata": {
            "tags": []
          }
        }
      ]
    },
    {
      "cell_type": "code",
      "metadata": {
        "id": "dUrfXLP5I5iP",
        "colab_type": "code",
        "colab": {
          "base_uri": "https://localhost:8080/",
          "height": 651,
          "referenced_widgets": [
            "4733b07ebc0646ea8d71700663052a62",
            "1f28c5609f6d4cd2983a77033afacd4a",
            "a2395a0cc96046219fd33c2915acfb5a",
            "84d70c0e02f946feb95be4e7f4285612",
            "16856f86c36d478c84705724434b9073",
            "45f92401bb4d48649277dd1166fd433b",
            "7104b8cc5dbe4fd187c600727f1ab252",
            "9b15da3a25d14abca9bf4b6b49f4f670"
          ]
        },
        "outputId": "d303ea45-4f59-4dab-d3b2-9eb8820921f1"
      },
      "source": [
        "  @myqs.question()\n",
        "  def peak_invasive_ventilation():\n",
        "      \"\"\"\n",
        "      How many patients with Covid-19 in El Paso County will be on invasive \n",
        "      ventilation on the day when the number of hospital admissions of cases \n",
        "      peak?\n",
        "      \"\"\"\n",
        "      peak_date = peak_hospitalized_date()\n",
        "      \n",
        "      try:\n",
        "          return get_historical_data(peak_hospitalized_date(), \"on_ventilator\")\n",
        "      # if we don't have historical data, sample from the Columbia model\n",
        "      except KeyError:\n",
        "          return sample_from_ensemble([\n",
        "              lambda date: cu_projection(\"vent\", date),\n",
        "              lambda date: frac_patients_invasive() * daily_infections(date)\n",
        "          ], {\"date\": peak_date}, [.8, .2], fallback=True, default=0)\n",
        "\n",
        "\n",
        "  myqs.plot_question(peak_invasive_ventilation, log=True)"
      ],
      "execution_count": 27,
      "outputs": [
        {
          "output_type": "display_data",
          "data": {
            "text/plain": [
              "HBox(children=(FloatProgress(value=0.0, max=200.0), HTML(value='')))"
            ],
            "application/vnd.jupyter.widget-view+json": {
              "version_major": 2,
              "version_minor": 0,
              "model_id": "4733b07ebc0646ea8d71700663052a62"
            }
          },
          "metadata": {
            "tags": []
          }
        },
        {
          "output_type": "stream",
          "text": [
            "\n"
          ],
          "name": "stdout"
        },
        {
          "output_type": "display_data",
          "data": {
            "text/plain": [
              "                           count    mean     std    min    25%     50%  \\\n",
              "frac_patients_icu           58.0    0.29    0.08   0.16   0.23    0.29   \n",
              "frac_patients_invasive      58.0    0.15    0.04   0.09   0.11    0.14   \n",
              "peak_invasive_ventilation  200.0  444.99  567.39  17.00  64.00  134.00   \n",
              "\n",
              "                              75%      max  \n",
              "frac_patients_icu            0.34     0.49  \n",
              "frac_patients_invasive       0.18     0.24  \n",
              "peak_invasive_ventilation  825.48  2018.04  "
            ],
            "text/html": [
              "<div>\n",
              "<style scoped>\n",
              "    .dataframe tbody tr th:only-of-type {\n",
              "        vertical-align: middle;\n",
              "    }\n",
              "\n",
              "    .dataframe tbody tr th {\n",
              "        vertical-align: top;\n",
              "    }\n",
              "\n",
              "    .dataframe thead th {\n",
              "        text-align: right;\n",
              "    }\n",
              "</style>\n",
              "<table border=\"1\" class=\"dataframe\">\n",
              "  <thead>\n",
              "    <tr style=\"text-align: right;\">\n",
              "      <th></th>\n",
              "      <th>count</th>\n",
              "      <th>mean</th>\n",
              "      <th>std</th>\n",
              "      <th>min</th>\n",
              "      <th>25%</th>\n",
              "      <th>50%</th>\n",
              "      <th>75%</th>\n",
              "      <th>max</th>\n",
              "    </tr>\n",
              "  </thead>\n",
              "  <tbody>\n",
              "    <tr>\n",
              "      <th>frac_patients_icu</th>\n",
              "      <td>58.0</td>\n",
              "      <td>0.29</td>\n",
              "      <td>0.08</td>\n",
              "      <td>0.16</td>\n",
              "      <td>0.23</td>\n",
              "      <td>0.29</td>\n",
              "      <td>0.34</td>\n",
              "      <td>0.49</td>\n",
              "    </tr>\n",
              "    <tr>\n",
              "      <th>frac_patients_invasive</th>\n",
              "      <td>58.0</td>\n",
              "      <td>0.15</td>\n",
              "      <td>0.04</td>\n",
              "      <td>0.09</td>\n",
              "      <td>0.11</td>\n",
              "      <td>0.14</td>\n",
              "      <td>0.18</td>\n",
              "      <td>0.24</td>\n",
              "    </tr>\n",
              "    <tr>\n",
              "      <th>peak_invasive_ventilation</th>\n",
              "      <td>200.0</td>\n",
              "      <td>444.99</td>\n",
              "      <td>567.39</td>\n",
              "      <td>17.00</td>\n",
              "      <td>64.00</td>\n",
              "      <td>134.00</td>\n",
              "      <td>825.48</td>\n",
              "      <td>2018.04</td>\n",
              "    </tr>\n",
              "  </tbody>\n",
              "</table>\n",
              "</div>"
            ]
          },
          "metadata": {
            "tags": []
          }
        },
        {
          "output_type": "display_data",
          "data": {
            "text/plain": [
              "<Figure size 640x480 with 1 Axes>"
            ],
            "image/png": "[encoded data removed]"
          },
          "metadata": {
            "tags": []
          }
        }
      ]
    }
  ]
}
