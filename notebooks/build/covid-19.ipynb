{
  "nbformat": 4,
  "nbformat_minor": 0,
  "metadata": {
    "colab": {
      "name": "covid-19.ipynb",
      "provenance": []
    },
    "kernelspec": {
      "name": "python3",
      "display_name": "Python 3"
    },
    "widgets": {
      "application/vnd.jupyter.widget-state+json": {
        "2e521acd2b1b4db98ecfe9e455f34bdb": {
          "model_module": "@jupyter-widgets/controls",
          "model_name": "HBoxModel",
          "state": {
            "_view_name": "HBoxView",
            "_dom_classes": [],
            "_model_name": "HBoxModel",
            "_view_module": "@jupyter-widgets/controls",
            "_model_module_version": "1.5.0",
            "_view_count": null,
            "_view_module_version": "1.5.0",
            "box_style": "",
            "layout": "IPY_MODEL_45c6dfe578a847ac86412d55b8b4cd84",
            "_model_module": "@jupyter-widgets/controls",
            "children": [
              "IPY_MODEL_d5c2d40e64c845f69853fdb421af8f79",
              "IPY_MODEL_f9dc43047d344001a677ac326a879e1b"
            ]
          }
        },
        "45c6dfe578a847ac86412d55b8b4cd84": {
          "model_module": "@jupyter-widgets/base",
          "model_name": "LayoutModel",
          "state": {
            "_view_name": "LayoutView",
            "grid_template_rows": null,
            "right": null,
            "justify_content": null,
            "_view_module": "@jupyter-widgets/base",
            "overflow": null,
            "_model_module_version": "1.2.0",
            "_view_count": null,
            "flex_flow": null,
            "width": null,
            "min_width": null,
            "border": null,
            "align_items": null,
            "bottom": null,
            "_model_module": "@jupyter-widgets/base",
            "top": null,
            "grid_column": null,
            "overflow_y": null,
            "overflow_x": null,
            "grid_auto_flow": null,
            "grid_area": null,
            "grid_template_columns": null,
            "flex": null,
            "_model_name": "LayoutModel",
            "justify_items": null,
            "grid_row": null,
            "max_height": null,
            "align_content": null,
            "visibility": null,
            "align_self": null,
            "height": null,
            "min_height": null,
            "padding": null,
            "grid_auto_rows": null,
            "grid_gap": null,
            "max_width": null,
            "order": null,
            "_view_module_version": "1.2.0",
            "grid_template_areas": null,
            "object_position": null,
            "object_fit": null,
            "grid_auto_columns": null,
            "margin": null,
            "display": null,
            "left": null
          }
        },
        "d5c2d40e64c845f69853fdb421af8f79": {
          "model_module": "@jupyter-widgets/controls",
          "model_name": "FloatProgressModel",
          "state": {
            "_view_name": "ProgressView",
            "style": "IPY_MODEL_fc117aecd5c742b6a226896c79e4a646",
            "_dom_classes": [],
            "description": "100%",
            "_model_name": "FloatProgressModel",
            "bar_style": "success",
            "max": 200,
            "_view_module": "@jupyter-widgets/controls",
            "_model_module_version": "1.5.0",
            "value": 200,
            "_view_count": null,
            "_view_module_version": "1.5.0",
            "orientation": "horizontal",
            "min": 0,
            "description_tooltip": null,
            "_model_module": "@jupyter-widgets/controls",
            "layout": "IPY_MODEL_ca21e904e1c0460eab4e98bf5fa043d6"
          }
        },
        "f9dc43047d344001a677ac326a879e1b": {
          "model_module": "@jupyter-widgets/controls",
          "model_name": "HTMLModel",
          "state": {
            "_view_name": "HTMLView",
            "style": "IPY_MODEL_0ad0b8a76d4841f89701ffed8796e47a",
            "_dom_classes": [],
            "description": "",
            "_model_name": "HTMLModel",
            "placeholder": "​",
            "_view_module": "@jupyter-widgets/controls",
            "_model_module_version": "1.5.0",
            "value": " 200/200 [00:36&lt;00:00,  5.50it/s]",
            "_view_count": null,
            "_view_module_version": "1.5.0",
            "description_tooltip": null,
            "_model_module": "@jupyter-widgets/controls",
            "layout": "IPY_MODEL_8699781701d2497b86103fa71e13054e"
          }
        },
        "fc117aecd5c742b6a226896c79e4a646": {
          "model_module": "@jupyter-widgets/controls",
          "model_name": "ProgressStyleModel",
          "state": {
            "_view_name": "StyleView",
            "_model_name": "ProgressStyleModel",
            "description_width": "initial",
            "_view_module": "@jupyter-widgets/base",
            "_model_module_version": "1.5.0",
            "_view_count": null,
            "_view_module_version": "1.2.0",
            "bar_color": null,
            "_model_module": "@jupyter-widgets/controls"
          }
        },
        "ca21e904e1c0460eab4e98bf5fa043d6": {
          "model_module": "@jupyter-widgets/base",
          "model_name": "LayoutModel",
          "state": {
            "_view_name": "LayoutView",
            "grid_template_rows": null,
            "right": null,
            "justify_content": null,
            "_view_module": "@jupyter-widgets/base",
            "overflow": null,
            "_model_module_version": "1.2.0",
            "_view_count": null,
            "flex_flow": null,
            "width": null,
            "min_width": null,
            "border": null,
            "align_items": null,
            "bottom": null,
            "_model_module": "@jupyter-widgets/base",
            "top": null,
            "grid_column": null,
            "overflow_y": null,
            "overflow_x": null,
            "grid_auto_flow": null,
            "grid_area": null,
            "grid_template_columns": null,
            "flex": null,
            "_model_name": "LayoutModel",
            "justify_items": null,
            "grid_row": null,
            "max_height": null,
            "align_content": null,
            "visibility": null,
            "align_self": null,
            "height": null,
            "min_height": null,
            "padding": null,
            "grid_auto_rows": null,
            "grid_gap": null,
            "max_width": null,
            "order": null,
            "_view_module_version": "1.2.0",
            "grid_template_areas": null,
            "object_position": null,
            "object_fit": null,
            "grid_auto_columns": null,
            "margin": null,
            "display": null,
            "left": null
          }
        },
        "0ad0b8a76d4841f89701ffed8796e47a": {
          "model_module": "@jupyter-widgets/controls",
          "model_name": "DescriptionStyleModel",
          "state": {
            "_view_name": "StyleView",
            "_model_name": "DescriptionStyleModel",
            "description_width": "",
            "_view_module": "@jupyter-widgets/base",
            "_model_module_version": "1.5.0",
            "_view_count": null,
            "_view_module_version": "1.2.0",
            "_model_module": "@jupyter-widgets/controls"
          }
        },
        "8699781701d2497b86103fa71e13054e": {
          "model_module": "@jupyter-widgets/base",
          "model_name": "LayoutModel",
          "state": {
            "_view_name": "LayoutView",
            "grid_template_rows": null,
            "right": null,
            "justify_content": null,
            "_view_module": "@jupyter-widgets/base",
            "overflow": null,
            "_model_module_version": "1.2.0",
            "_view_count": null,
            "flex_flow": null,
            "width": null,
            "min_width": null,
            "border": null,
            "align_items": null,
            "bottom": null,
            "_model_module": "@jupyter-widgets/base",
            "top": null,
            "grid_column": null,
            "overflow_y": null,
            "overflow_x": null,
            "grid_auto_flow": null,
            "grid_area": null,
            "grid_template_columns": null,
            "flex": null,
            "_model_name": "LayoutModel",
            "justify_items": null,
            "grid_row": null,
            "max_height": null,
            "align_content": null,
            "visibility": null,
            "align_self": null,
            "height": null,
            "min_height": null,
            "padding": null,
            "grid_auto_rows": null,
            "grid_gap": null,
            "max_width": null,
            "order": null,
            "_view_module_version": "1.2.0",
            "grid_template_areas": null,
            "object_position": null,
            "object_fit": null,
            "grid_auto_columns": null,
            "margin": null,
            "display": null,
            "left": null
          }
        },
        "6c286d8d3b80474b915503a72598dced": {
          "model_module": "@jupyter-widgets/controls",
          "model_name": "HBoxModel",
          "state": {
            "_view_name": "HBoxView",
            "_dom_classes": [],
            "_model_name": "HBoxModel",
            "_view_module": "@jupyter-widgets/controls",
            "_model_module_version": "1.5.0",
            "_view_count": null,
            "_view_module_version": "1.5.0",
            "box_style": "",
            "layout": "IPY_MODEL_a1004930a97f4b5da459700da10986cb",
            "_model_module": "@jupyter-widgets/controls",
            "children": [
              "IPY_MODEL_53aeb7bb1321428883597dd188d8c250",
              "IPY_MODEL_3d4336afa43c432780e99ef923937efd"
            ]
          }
        },
        "a1004930a97f4b5da459700da10986cb": {
          "model_module": "@jupyter-widgets/base",
          "model_name": "LayoutModel",
          "state": {
            "_view_name": "LayoutView",
            "grid_template_rows": null,
            "right": null,
            "justify_content": null,
            "_view_module": "@jupyter-widgets/base",
            "overflow": null,
            "_model_module_version": "1.2.0",
            "_view_count": null,
            "flex_flow": null,
            "width": null,
            "min_width": null,
            "border": null,
            "align_items": null,
            "bottom": null,
            "_model_module": "@jupyter-widgets/base",
            "top": null,
            "grid_column": null,
            "overflow_y": null,
            "overflow_x": null,
            "grid_auto_flow": null,
            "grid_area": null,
            "grid_template_columns": null,
            "flex": null,
            "_model_name": "LayoutModel",
            "justify_items": null,
            "grid_row": null,
            "max_height": null,
            "align_content": null,
            "visibility": null,
            "align_self": null,
            "height": null,
            "min_height": null,
            "padding": null,
            "grid_auto_rows": null,
            "grid_gap": null,
            "max_width": null,
            "order": null,
            "_view_module_version": "1.2.0",
            "grid_template_areas": null,
            "object_position": null,
            "object_fit": null,
            "grid_auto_columns": null,
            "margin": null,
            "display": null,
            "left": null
          }
        },
        "53aeb7bb1321428883597dd188d8c250": {
          "model_module": "@jupyter-widgets/controls",
          "model_name": "FloatProgressModel",
          "state": {
            "_view_name": "ProgressView",
            "style": "IPY_MODEL_42c4d3d029114cdfbc9c89bb1a61e318",
            "_dom_classes": [],
            "description": "100%",
            "_model_name": "FloatProgressModel",
            "bar_style": "success",
            "max": 200,
            "_view_module": "@jupyter-widgets/controls",
            "_model_module_version": "1.5.0",
            "value": 200,
            "_view_count": null,
            "_view_module_version": "1.5.0",
            "orientation": "horizontal",
            "min": 0,
            "description_tooltip": null,
            "_model_module": "@jupyter-widgets/controls",
            "layout": "IPY_MODEL_2f2b25f0856e45f1807f740e3801e84f"
          }
        },
        "3d4336afa43c432780e99ef923937efd": {
          "model_module": "@jupyter-widgets/controls",
          "model_name": "HTMLModel",
          "state": {
            "_view_name": "HTMLView",
            "style": "IPY_MODEL_c016ecf3d0864751af4365da7e373490",
            "_dom_classes": [],
            "description": "",
            "_model_name": "HTMLModel",
            "placeholder": "​",
            "_view_module": "@jupyter-widgets/controls",
            "_model_module_version": "1.5.0",
            "value": " 200/200 [00:18&lt;00:00, 10.70it/s]",
            "_view_count": null,
            "_view_module_version": "1.5.0",
            "description_tooltip": null,
            "_model_module": "@jupyter-widgets/controls",
            "layout": "IPY_MODEL_eeff9bdb73de4ca087292bb9c70ec184"
          }
        },
        "42c4d3d029114cdfbc9c89bb1a61e318": {
          "model_module": "@jupyter-widgets/controls",
          "model_name": "ProgressStyleModel",
          "state": {
            "_view_name": "StyleView",
            "_model_name": "ProgressStyleModel",
            "description_width": "initial",
            "_view_module": "@jupyter-widgets/base",
            "_model_module_version": "1.5.0",
            "_view_count": null,
            "_view_module_version": "1.2.0",
            "bar_color": null,
            "_model_module": "@jupyter-widgets/controls"
          }
        },
        "2f2b25f0856e45f1807f740e3801e84f": {
          "model_module": "@jupyter-widgets/base",
          "model_name": "LayoutModel",
          "state": {
            "_view_name": "LayoutView",
            "grid_template_rows": null,
            "right": null,
            "justify_content": null,
            "_view_module": "@jupyter-widgets/base",
            "overflow": null,
            "_model_module_version": "1.2.0",
            "_view_count": null,
            "flex_flow": null,
            "width": null,
            "min_width": null,
            "border": null,
            "align_items": null,
            "bottom": null,
            "_model_module": "@jupyter-widgets/base",
            "top": null,
            "grid_column": null,
            "overflow_y": null,
            "overflow_x": null,
            "grid_auto_flow": null,
            "grid_area": null,
            "grid_template_columns": null,
            "flex": null,
            "_model_name": "LayoutModel",
            "justify_items": null,
            "grid_row": null,
            "max_height": null,
            "align_content": null,
            "visibility": null,
            "align_self": null,
            "height": null,
            "min_height": null,
            "padding": null,
            "grid_auto_rows": null,
            "grid_gap": null,
            "max_width": null,
            "order": null,
            "_view_module_version": "1.2.0",
            "grid_template_areas": null,
            "object_position": null,
            "object_fit": null,
            "grid_auto_columns": null,
            "margin": null,
            "display": null,
            "left": null
          }
        },
        "c016ecf3d0864751af4365da7e373490": {
          "model_module": "@jupyter-widgets/controls",
          "model_name": "DescriptionStyleModel",
          "state": {
            "_view_name": "StyleView",
            "_model_name": "DescriptionStyleModel",
            "description_width": "",
            "_view_module": "@jupyter-widgets/base",
            "_model_module_version": "1.5.0",
            "_view_count": null,
            "_view_module_version": "1.2.0",
            "_model_module": "@jupyter-widgets/controls"
          }
        },
        "eeff9bdb73de4ca087292bb9c70ec184": {
          "model_module": "@jupyter-widgets/base",
          "model_name": "LayoutModel",
          "state": {
            "_view_name": "LayoutView",
            "grid_template_rows": null,
            "right": null,
            "justify_content": null,
            "_view_module": "@jupyter-widgets/base",
            "overflow": null,
            "_model_module_version": "1.2.0",
            "_view_count": null,
            "flex_flow": null,
            "width": null,
            "min_width": null,
            "border": null,
            "align_items": null,
            "bottom": null,
            "_model_module": "@jupyter-widgets/base",
            "top": null,
            "grid_column": null,
            "overflow_y": null,
            "overflow_x": null,
            "grid_auto_flow": null,
            "grid_area": null,
            "grid_template_columns": null,
            "flex": null,
            "_model_name": "LayoutModel",
            "justify_items": null,
            "grid_row": null,
            "max_height": null,
            "align_content": null,
            "visibility": null,
            "align_self": null,
            "height": null,
            "min_height": null,
            "padding": null,
            "grid_auto_rows": null,
            "grid_gap": null,
            "max_width": null,
            "order": null,
            "_view_module_version": "1.2.0",
            "grid_template_areas": null,
            "object_position": null,
            "object_fit": null,
            "grid_auto_columns": null,
            "margin": null,
            "display": null,
            "left": null
          }
        },
        "e32087d4563d46408ca62732a82054c8": {
          "model_module": "@jupyter-widgets/controls",
          "model_name": "HBoxModel",
          "state": {
            "_view_name": "HBoxView",
            "_dom_classes": [],
            "_model_name": "HBoxModel",
            "_view_module": "@jupyter-widgets/controls",
            "_model_module_version": "1.5.0",
            "_view_count": null,
            "_view_module_version": "1.5.0",
            "box_style": "",
            "layout": "IPY_MODEL_64b605c0918048b684c4a1f88b9049a1",
            "_model_module": "@jupyter-widgets/controls",
            "children": [
              "IPY_MODEL_bb794afeb45b4f279b9a593cb2bebb41",
              "IPY_MODEL_a4c0c3d332e947bb9d226da45010ad2f"
            ]
          }
        },
        "64b605c0918048b684c4a1f88b9049a1": {
          "model_module": "@jupyter-widgets/base",
          "model_name": "LayoutModel",
          "state": {
            "_view_name": "LayoutView",
            "grid_template_rows": null,
            "right": null,
            "justify_content": null,
            "_view_module": "@jupyter-widgets/base",
            "overflow": null,
            "_model_module_version": "1.2.0",
            "_view_count": null,
            "flex_flow": null,
            "width": null,
            "min_width": null,
            "border": null,
            "align_items": null,
            "bottom": null,
            "_model_module": "@jupyter-widgets/base",
            "top": null,
            "grid_column": null,
            "overflow_y": null,
            "overflow_x": null,
            "grid_auto_flow": null,
            "grid_area": null,
            "grid_template_columns": null,
            "flex": null,
            "_model_name": "LayoutModel",
            "justify_items": null,
            "grid_row": null,
            "max_height": null,
            "align_content": null,
            "visibility": null,
            "align_self": null,
            "height": null,
            "min_height": null,
            "padding": null,
            "grid_auto_rows": null,
            "grid_gap": null,
            "max_width": null,
            "order": null,
            "_view_module_version": "1.2.0",
            "grid_template_areas": null,
            "object_position": null,
            "object_fit": null,
            "grid_auto_columns": null,
            "margin": null,
            "display": null,
            "left": null
          }
        },
        "bb794afeb45b4f279b9a593cb2bebb41": {
          "model_module": "@jupyter-widgets/controls",
          "model_name": "FloatProgressModel",
          "state": {
            "_view_name": "ProgressView",
            "style": "IPY_MODEL_ef76f1253de6493694b26fcbbaa58d6f",
            "_dom_classes": [],
            "description": "100%",
            "_model_name": "FloatProgressModel",
            "bar_style": "success",
            "max": 200,
            "_view_module": "@jupyter-widgets/controls",
            "_model_module_version": "1.5.0",
            "value": 200,
            "_view_count": null,
            "_view_module_version": "1.5.0",
            "orientation": "horizontal",
            "min": 0,
            "description_tooltip": null,
            "_model_module": "@jupyter-widgets/controls",
            "layout": "IPY_MODEL_33eb5ec3ba6d4535b572eeb27885126a"
          }
        },
        "a4c0c3d332e947bb9d226da45010ad2f": {
          "model_module": "@jupyter-widgets/controls",
          "model_name": "HTMLModel",
          "state": {
            "_view_name": "HTMLView",
            "style": "IPY_MODEL_f943d9e87c5a416e84789429dbf22f25",
            "_dom_classes": [],
            "description": "",
            "_model_name": "HTMLModel",
            "placeholder": "​",
            "_view_module": "@jupyter-widgets/controls",
            "_model_module_version": "1.5.0",
            "value": " 200/200 [00:09&lt;00:00, 20.44it/s]",
            "_view_count": null,
            "_view_module_version": "1.5.0",
            "description_tooltip": null,
            "_model_module": "@jupyter-widgets/controls",
            "layout": "IPY_MODEL_c2bbce79d48e4e2f8c57d32da11e6d32"
          }
        },
        "ef76f1253de6493694b26fcbbaa58d6f": {
          "model_module": "@jupyter-widgets/controls",
          "model_name": "ProgressStyleModel",
          "state": {
            "_view_name": "StyleView",
            "_model_name": "ProgressStyleModel",
            "description_width": "initial",
            "_view_module": "@jupyter-widgets/base",
            "_model_module_version": "1.5.0",
            "_view_count": null,
            "_view_module_version": "1.2.0",
            "bar_color": null,
            "_model_module": "@jupyter-widgets/controls"
          }
        },
        "33eb5ec3ba6d4535b572eeb27885126a": {
          "model_module": "@jupyter-widgets/base",
          "model_name": "LayoutModel",
          "state": {
            "_view_name": "LayoutView",
            "grid_template_rows": null,
            "right": null,
            "justify_content": null,
            "_view_module": "@jupyter-widgets/base",
            "overflow": null,
            "_model_module_version": "1.2.0",
            "_view_count": null,
            "flex_flow": null,
            "width": null,
            "min_width": null,
            "border": null,
            "align_items": null,
            "bottom": null,
            "_model_module": "@jupyter-widgets/base",
            "top": null,
            "grid_column": null,
            "overflow_y": null,
            "overflow_x": null,
            "grid_auto_flow": null,
            "grid_area": null,
            "grid_template_columns": null,
            "flex": null,
            "_model_name": "LayoutModel",
            "justify_items": null,
            "grid_row": null,
            "max_height": null,
            "align_content": null,
            "visibility": null,
            "align_self": null,
            "height": null,
            "min_height": null,
            "padding": null,
            "grid_auto_rows": null,
            "grid_gap": null,
            "max_width": null,
            "order": null,
            "_view_module_version": "1.2.0",
            "grid_template_areas": null,
            "object_position": null,
            "object_fit": null,
            "grid_auto_columns": null,
            "margin": null,
            "display": null,
            "left": null
          }
        },
        "f943d9e87c5a416e84789429dbf22f25": {
          "model_module": "@jupyter-widgets/controls",
          "model_name": "DescriptionStyleModel",
          "state": {
            "_view_name": "StyleView",
            "_model_name": "DescriptionStyleModel",
            "description_width": "",
            "_view_module": "@jupyter-widgets/base",
            "_model_module_version": "1.5.0",
            "_view_count": null,
            "_view_module_version": "1.2.0",
            "_model_module": "@jupyter-widgets/controls"
          }
        },
        "c2bbce79d48e4e2f8c57d32da11e6d32": {
          "model_module": "@jupyter-widgets/base",
          "model_name": "LayoutModel",
          "state": {
            "_view_name": "LayoutView",
            "grid_template_rows": null,
            "right": null,
            "justify_content": null,
            "_view_module": "@jupyter-widgets/base",
            "overflow": null,
            "_model_module_version": "1.2.0",
            "_view_count": null,
            "flex_flow": null,
            "width": null,
            "min_width": null,
            "border": null,
            "align_items": null,
            "bottom": null,
            "_model_module": "@jupyter-widgets/base",
            "top": null,
            "grid_column": null,
            "overflow_y": null,
            "overflow_x": null,
            "grid_auto_flow": null,
            "grid_area": null,
            "grid_template_columns": null,
            "flex": null,
            "_model_name": "LayoutModel",
            "justify_items": null,
            "grid_row": null,
            "max_height": null,
            "align_content": null,
            "visibility": null,
            "align_self": null,
            "height": null,
            "min_height": null,
            "padding": null,
            "grid_auto_rows": null,
            "grid_gap": null,
            "max_width": null,
            "order": null,
            "_view_module_version": "1.2.0",
            "grid_template_areas": null,
            "object_position": null,
            "object_fit": null,
            "grid_auto_columns": null,
            "margin": null,
            "display": null,
            "left": null
          }
        },
        "58e6c6850afb4eec93f79726c3b8985c": {
          "model_module": "@jupyter-widgets/controls",
          "model_name": "HBoxModel",
          "state": {
            "_view_name": "HBoxView",
            "_dom_classes": [],
            "_model_name": "HBoxModel",
            "_view_module": "@jupyter-widgets/controls",
            "_model_module_version": "1.5.0",
            "_view_count": null,
            "_view_module_version": "1.5.0",
            "box_style": "",
            "layout": "IPY_MODEL_677cf23860a14c01af89910ace7e4e2d",
            "_model_module": "@jupyter-widgets/controls",
            "children": [
              "IPY_MODEL_2e48e8b3b86b4a58b7956bd7bc35415c",
              "IPY_MODEL_c13ac2fe60794736b5edf440b0be7084"
            ]
          }
        },
        "677cf23860a14c01af89910ace7e4e2d": {
          "model_module": "@jupyter-widgets/base",
          "model_name": "LayoutModel",
          "state": {
            "_view_name": "LayoutView",
            "grid_template_rows": null,
            "right": null,
            "justify_content": null,
            "_view_module": "@jupyter-widgets/base",
            "overflow": null,
            "_model_module_version": "1.2.0",
            "_view_count": null,
            "flex_flow": null,
            "width": null,
            "min_width": null,
            "border": null,
            "align_items": null,
            "bottom": null,
            "_model_module": "@jupyter-widgets/base",
            "top": null,
            "grid_column": null,
            "overflow_y": null,
            "overflow_x": null,
            "grid_auto_flow": null,
            "grid_area": null,
            "grid_template_columns": null,
            "flex": null,
            "_model_name": "LayoutModel",
            "justify_items": null,
            "grid_row": null,
            "max_height": null,
            "align_content": null,
            "visibility": null,
            "align_self": null,
            "height": null,
            "min_height": null,
            "padding": null,
            "grid_auto_rows": null,
            "grid_gap": null,
            "max_width": null,
            "order": null,
            "_view_module_version": "1.2.0",
            "grid_template_areas": null,
            "object_position": null,
            "object_fit": null,
            "grid_auto_columns": null,
            "margin": null,
            "display": null,
            "left": null
          }
        },
        "2e48e8b3b86b4a58b7956bd7bc35415c": {
          "model_module": "@jupyter-widgets/controls",
          "model_name": "FloatProgressModel",
          "state": {
            "_view_name": "ProgressView",
            "style": "IPY_MODEL_540e916f9dc948e8af04ac8678f4b3da",
            "_dom_classes": [],
            "description": "100%",
            "_model_name": "FloatProgressModel",
            "bar_style": "success",
            "max": 200,
            "_view_module": "@jupyter-widgets/controls",
            "_model_module_version": "1.5.0",
            "value": 200,
            "_view_count": null,
            "_view_module_version": "1.5.0",
            "orientation": "horizontal",
            "min": 0,
            "description_tooltip": null,
            "_model_module": "@jupyter-widgets/controls",
            "layout": "IPY_MODEL_f7a53f913d654e0aba80869e281689d2"
          }
        },
        "c13ac2fe60794736b5edf440b0be7084": {
          "model_module": "@jupyter-widgets/controls",
          "model_name": "HTMLModel",
          "state": {
            "_view_name": "HTMLView",
            "style": "IPY_MODEL_2d40be96f2264f8895dd388f6dfc4e0f",
            "_dom_classes": [],
            "description": "",
            "_model_name": "HTMLModel",
            "placeholder": "​",
            "_view_module": "@jupyter-widgets/controls",
            "_model_module_version": "1.5.0",
            "value": " 200/200 [00:47&lt;00:00,  4.22it/s]",
            "_view_count": null,
            "_view_module_version": "1.5.0",
            "description_tooltip": null,
            "_model_module": "@jupyter-widgets/controls",
            "layout": "IPY_MODEL_0dcfd1e220d44a5ebb54a29ebce3f952"
          }
        },
        "540e916f9dc948e8af04ac8678f4b3da": {
          "model_module": "@jupyter-widgets/controls",
          "model_name": "ProgressStyleModel",
          "state": {
            "_view_name": "StyleView",
            "_model_name": "ProgressStyleModel",
            "description_width": "initial",
            "_view_module": "@jupyter-widgets/base",
            "_model_module_version": "1.5.0",
            "_view_count": null,
            "_view_module_version": "1.2.0",
            "bar_color": null,
            "_model_module": "@jupyter-widgets/controls"
          }
        },
        "f7a53f913d654e0aba80869e281689d2": {
          "model_module": "@jupyter-widgets/base",
          "model_name": "LayoutModel",
          "state": {
            "_view_name": "LayoutView",
            "grid_template_rows": null,
            "right": null,
            "justify_content": null,
            "_view_module": "@jupyter-widgets/base",
            "overflow": null,
            "_model_module_version": "1.2.0",
            "_view_count": null,
            "flex_flow": null,
            "width": null,
            "min_width": null,
            "border": null,
            "align_items": null,
            "bottom": null,
            "_model_module": "@jupyter-widgets/base",
            "top": null,
            "grid_column": null,
            "overflow_y": null,
            "overflow_x": null,
            "grid_auto_flow": null,
            "grid_area": null,
            "grid_template_columns": null,
            "flex": null,
            "_model_name": "LayoutModel",
            "justify_items": null,
            "grid_row": null,
            "max_height": null,
            "align_content": null,
            "visibility": null,
            "align_self": null,
            "height": null,
            "min_height": null,
            "padding": null,
            "grid_auto_rows": null,
            "grid_gap": null,
            "max_width": null,
            "order": null,
            "_view_module_version": "1.2.0",
            "grid_template_areas": null,
            "object_position": null,
            "object_fit": null,
            "grid_auto_columns": null,
            "margin": null,
            "display": null,
            "left": null
          }
        },
        "2d40be96f2264f8895dd388f6dfc4e0f": {
          "model_module": "@jupyter-widgets/controls",
          "model_name": "DescriptionStyleModel",
          "state": {
            "_view_name": "StyleView",
            "_model_name": "DescriptionStyleModel",
            "description_width": "",
            "_view_module": "@jupyter-widgets/base",
            "_model_module_version": "1.5.0",
            "_view_count": null,
            "_view_module_version": "1.2.0",
            "_model_module": "@jupyter-widgets/controls"
          }
        },
        "0dcfd1e220d44a5ebb54a29ebce3f952": {
          "model_module": "@jupyter-widgets/base",
          "model_name": "LayoutModel",
          "state": {
            "_view_name": "LayoutView",
            "grid_template_rows": null,
            "right": null,
            "justify_content": null,
            "_view_module": "@jupyter-widgets/base",
            "overflow": null,
            "_model_module_version": "1.2.0",
            "_view_count": null,
            "flex_flow": null,
            "width": null,
            "min_width": null,
            "border": null,
            "align_items": null,
            "bottom": null,
            "_model_module": "@jupyter-widgets/base",
            "top": null,
            "grid_column": null,
            "overflow_y": null,
            "overflow_x": null,
            "grid_auto_flow": null,
            "grid_area": null,
            "grid_template_columns": null,
            "flex": null,
            "_model_name": "LayoutModel",
            "justify_items": null,
            "grid_row": null,
            "max_height": null,
            "align_content": null,
            "visibility": null,
            "align_self": null,
            "height": null,
            "min_height": null,
            "padding": null,
            "grid_auto_rows": null,
            "grid_gap": null,
            "max_width": null,
            "order": null,
            "_view_module_version": "1.2.0",
            "grid_template_areas": null,
            "object_position": null,
            "object_fit": null,
            "grid_auto_columns": null,
            "margin": null,
            "display": null,
            "left": null
          }
        },
        "3ffd730b2c384d04845d088cd0ba9ba1": {
          "model_module": "@jupyter-widgets/controls",
          "model_name": "HBoxModel",
          "state": {
            "_view_name": "HBoxView",
            "_dom_classes": [],
            "_model_name": "HBoxModel",
            "_view_module": "@jupyter-widgets/controls",
            "_model_module_version": "1.5.0",
            "_view_count": null,
            "_view_module_version": "1.5.0",
            "box_style": "",
            "layout": "IPY_MODEL_1289f47f13344b169d79842c8b38b7b7",
            "_model_module": "@jupyter-widgets/controls",
            "children": [
              "IPY_MODEL_6ada02cf6f224fa1a5866af159556e5d",
              "IPY_MODEL_68b49a2974314d75af9de34dce6b87ab"
            ]
          }
        },
        "1289f47f13344b169d79842c8b38b7b7": {
          "model_module": "@jupyter-widgets/base",
          "model_name": "LayoutModel",
          "state": {
            "_view_name": "LayoutView",
            "grid_template_rows": null,
            "right": null,
            "justify_content": null,
            "_view_module": "@jupyter-widgets/base",
            "overflow": null,
            "_model_module_version": "1.2.0",
            "_view_count": null,
            "flex_flow": null,
            "width": null,
            "min_width": null,
            "border": null,
            "align_items": null,
            "bottom": null,
            "_model_module": "@jupyter-widgets/base",
            "top": null,
            "grid_column": null,
            "overflow_y": null,
            "overflow_x": null,
            "grid_auto_flow": null,
            "grid_area": null,
            "grid_template_columns": null,
            "flex": null,
            "_model_name": "LayoutModel",
            "justify_items": null,
            "grid_row": null,
            "max_height": null,
            "align_content": null,
            "visibility": null,
            "align_self": null,
            "height": null,
            "min_height": null,
            "padding": null,
            "grid_auto_rows": null,
            "grid_gap": null,
            "max_width": null,
            "order": null,
            "_view_module_version": "1.2.0",
            "grid_template_areas": null,
            "object_position": null,
            "object_fit": null,
            "grid_auto_columns": null,
            "margin": null,
            "display": null,
            "left": null
          }
        },
        "6ada02cf6f224fa1a5866af159556e5d": {
          "model_module": "@jupyter-widgets/controls",
          "model_name": "FloatProgressModel",
          "state": {
            "_view_name": "ProgressView",
            "style": "IPY_MODEL_cf161a71cc5541e1b85ddb0d4f5ed557",
            "_dom_classes": [],
            "description": "100%",
            "_model_name": "FloatProgressModel",
            "bar_style": "success",
            "max": 200,
            "_view_module": "@jupyter-widgets/controls",
            "_model_module_version": "1.5.0",
            "value": 200,
            "_view_count": null,
            "_view_module_version": "1.5.0",
            "orientation": "horizontal",
            "min": 0,
            "description_tooltip": null,
            "_model_module": "@jupyter-widgets/controls",
            "layout": "IPY_MODEL_3e5c5315135d448abb1e0882e926b5d0"
          }
        },
        "68b49a2974314d75af9de34dce6b87ab": {
          "model_module": "@jupyter-widgets/controls",
          "model_name": "HTMLModel",
          "state": {
            "_view_name": "HTMLView",
            "style": "IPY_MODEL_f4e93c2d2adb4ba49f1d79c970fc40ed",
            "_dom_classes": [],
            "description": "",
            "_model_name": "HTMLModel",
            "placeholder": "​",
            "_view_module": "@jupyter-widgets/controls",
            "_model_module_version": "1.5.0",
            "value": " 200/200 [00:40&lt;00:00,  4.93it/s]",
            "_view_count": null,
            "_view_module_version": "1.5.0",
            "description_tooltip": null,
            "_model_module": "@jupyter-widgets/controls",
            "layout": "IPY_MODEL_23ec3a85ae4c441287f3f65c3e7175ce"
          }
        },
        "cf161a71cc5541e1b85ddb0d4f5ed557": {
          "model_module": "@jupyter-widgets/controls",
          "model_name": "ProgressStyleModel",
          "state": {
            "_view_name": "StyleView",
            "_model_name": "ProgressStyleModel",
            "description_width": "initial",
            "_view_module": "@jupyter-widgets/base",
            "_model_module_version": "1.5.0",
            "_view_count": null,
            "_view_module_version": "1.2.0",
            "bar_color": null,
            "_model_module": "@jupyter-widgets/controls"
          }
        },
        "3e5c5315135d448abb1e0882e926b5d0": {
          "model_module": "@jupyter-widgets/base",
          "model_name": "LayoutModel",
          "state": {
            "_view_name": "LayoutView",
            "grid_template_rows": null,
            "right": null,
            "justify_content": null,
            "_view_module": "@jupyter-widgets/base",
            "overflow": null,
            "_model_module_version": "1.2.0",
            "_view_count": null,
            "flex_flow": null,
            "width": null,
            "min_width": null,
            "border": null,
            "align_items": null,
            "bottom": null,
            "_model_module": "@jupyter-widgets/base",
            "top": null,
            "grid_column": null,
            "overflow_y": null,
            "overflow_x": null,
            "grid_auto_flow": null,
            "grid_area": null,
            "grid_template_columns": null,
            "flex": null,
            "_model_name": "LayoutModel",
            "justify_items": null,
            "grid_row": null,
            "max_height": null,
            "align_content": null,
            "visibility": null,
            "align_self": null,
            "height": null,
            "min_height": null,
            "padding": null,
            "grid_auto_rows": null,
            "grid_gap": null,
            "max_width": null,
            "order": null,
            "_view_module_version": "1.2.0",
            "grid_template_areas": null,
            "object_position": null,
            "object_fit": null,
            "grid_auto_columns": null,
            "margin": null,
            "display": null,
            "left": null
          }
        },
        "f4e93c2d2adb4ba49f1d79c970fc40ed": {
          "model_module": "@jupyter-widgets/controls",
          "model_name": "DescriptionStyleModel",
          "state": {
            "_view_name": "StyleView",
            "_model_name": "DescriptionStyleModel",
            "description_width": "",
            "_view_module": "@jupyter-widgets/base",
            "_model_module_version": "1.5.0",
            "_view_count": null,
            "_view_module_version": "1.2.0",
            "_model_module": "@jupyter-widgets/controls"
          }
        },
        "23ec3a85ae4c441287f3f65c3e7175ce": {
          "model_module": "@jupyter-widgets/base",
          "model_name": "LayoutModel",
          "state": {
            "_view_name": "LayoutView",
            "grid_template_rows": null,
            "right": null,
            "justify_content": null,
            "_view_module": "@jupyter-widgets/base",
            "overflow": null,
            "_model_module_version": "1.2.0",
            "_view_count": null,
            "flex_flow": null,
            "width": null,
            "min_width": null,
            "border": null,
            "align_items": null,
            "bottom": null,
            "_model_module": "@jupyter-widgets/base",
            "top": null,
            "grid_column": null,
            "overflow_y": null,
            "overflow_x": null,
            "grid_auto_flow": null,
            "grid_area": null,
            "grid_template_columns": null,
            "flex": null,
            "_model_name": "LayoutModel",
            "justify_items": null,
            "grid_row": null,
            "max_height": null,
            "align_content": null,
            "visibility": null,
            "align_self": null,
            "height": null,
            "min_height": null,
            "padding": null,
            "grid_auto_rows": null,
            "grid_gap": null,
            "max_width": null,
            "order": null,
            "_view_module_version": "1.2.0",
            "grid_template_areas": null,
            "object_position": null,
            "object_fit": null,
            "grid_auto_columns": null,
            "margin": null,
            "display": null,
            "left": null
          }
        },
        "eb99997b0e284671aac42b2471c2e0ae": {
          "model_module": "@jupyter-widgets/controls",
          "model_name": "HBoxModel",
          "state": {
            "_view_name": "HBoxView",
            "_dom_classes": [],
            "_model_name": "HBoxModel",
            "_view_module": "@jupyter-widgets/controls",
            "_model_module_version": "1.5.0",
            "_view_count": null,
            "_view_module_version": "1.5.0",
            "box_style": "",
            "layout": "IPY_MODEL_4555d34ebccc4b708700b5c8ad6e8947",
            "_model_module": "@jupyter-widgets/controls",
            "children": [
              "IPY_MODEL_a6759bd5bc84485c9a2a3e8d24f3a188",
              "IPY_MODEL_645d40e5a3c2403e931dd3a56749ef22"
            ]
          }
        },
        "4555d34ebccc4b708700b5c8ad6e8947": {
          "model_module": "@jupyter-widgets/base",
          "model_name": "LayoutModel",
          "state": {
            "_view_name": "LayoutView",
            "grid_template_rows": null,
            "right": null,
            "justify_content": null,
            "_view_module": "@jupyter-widgets/base",
            "overflow": null,
            "_model_module_version": "1.2.0",
            "_view_count": null,
            "flex_flow": null,
            "width": null,
            "min_width": null,
            "border": null,
            "align_items": null,
            "bottom": null,
            "_model_module": "@jupyter-widgets/base",
            "top": null,
            "grid_column": null,
            "overflow_y": null,
            "overflow_x": null,
            "grid_auto_flow": null,
            "grid_area": null,
            "grid_template_columns": null,
            "flex": null,
            "_model_name": "LayoutModel",
            "justify_items": null,
            "grid_row": null,
            "max_height": null,
            "align_content": null,
            "visibility": null,
            "align_self": null,
            "height": null,
            "min_height": null,
            "padding": null,
            "grid_auto_rows": null,
            "grid_gap": null,
            "max_width": null,
            "order": null,
            "_view_module_version": "1.2.0",
            "grid_template_areas": null,
            "object_position": null,
            "object_fit": null,
            "grid_auto_columns": null,
            "margin": null,
            "display": null,
            "left": null
          }
        },
        "a6759bd5bc84485c9a2a3e8d24f3a188": {
          "model_module": "@jupyter-widgets/controls",
          "model_name": "FloatProgressModel",
          "state": {
            "_view_name": "ProgressView",
            "style": "IPY_MODEL_7465a43ddce244699f2090c51476a7f9",
            "_dom_classes": [],
            "description": "100%",
            "_model_name": "FloatProgressModel",
            "bar_style": "success",
            "max": 200,
            "_view_module": "@jupyter-widgets/controls",
            "_model_module_version": "1.5.0",
            "value": 200,
            "_view_count": null,
            "_view_module_version": "1.5.0",
            "orientation": "horizontal",
            "min": 0,
            "description_tooltip": null,
            "_model_module": "@jupyter-widgets/controls",
            "layout": "IPY_MODEL_87e36e95704147afb2a05b735abbf4f2"
          }
        },
        "645d40e5a3c2403e931dd3a56749ef22": {
          "model_module": "@jupyter-widgets/controls",
          "model_name": "HTMLModel",
          "state": {
            "_view_name": "HTMLView",
            "style": "IPY_MODEL_acddfb2660784e42badd54b546da6dec",
            "_dom_classes": [],
            "description": "",
            "_model_name": "HTMLModel",
            "placeholder": "​",
            "_view_module": "@jupyter-widgets/controls",
            "_model_module_version": "1.5.0",
            "value": " 200/200 [00:04&lt;00:00, 40.01it/s]",
            "_view_count": null,
            "_view_module_version": "1.5.0",
            "description_tooltip": null,
            "_model_module": "@jupyter-widgets/controls",
            "layout": "IPY_MODEL_8cd14edd3bfc4a8f82d506ad6bbbafcd"
          }
        },
        "7465a43ddce244699f2090c51476a7f9": {
          "model_module": "@jupyter-widgets/controls",
          "model_name": "ProgressStyleModel",
          "state": {
            "_view_name": "StyleView",
            "_model_name": "ProgressStyleModel",
            "description_width": "initial",
            "_view_module": "@jupyter-widgets/base",
            "_model_module_version": "1.5.0",
            "_view_count": null,
            "_view_module_version": "1.2.0",
            "bar_color": null,
            "_model_module": "@jupyter-widgets/controls"
          }
        },
        "87e36e95704147afb2a05b735abbf4f2": {
          "model_module": "@jupyter-widgets/base",
          "model_name": "LayoutModel",
          "state": {
            "_view_name": "LayoutView",
            "grid_template_rows": null,
            "right": null,
            "justify_content": null,
            "_view_module": "@jupyter-widgets/base",
            "overflow": null,
            "_model_module_version": "1.2.0",
            "_view_count": null,
            "flex_flow": null,
            "width": null,
            "min_width": null,
            "border": null,
            "align_items": null,
            "bottom": null,
            "_model_module": "@jupyter-widgets/base",
            "top": null,
            "grid_column": null,
            "overflow_y": null,
            "overflow_x": null,
            "grid_auto_flow": null,
            "grid_area": null,
            "grid_template_columns": null,
            "flex": null,
            "_model_name": "LayoutModel",
            "justify_items": null,
            "grid_row": null,
            "max_height": null,
            "align_content": null,
            "visibility": null,
            "align_self": null,
            "height": null,
            "min_height": null,
            "padding": null,
            "grid_auto_rows": null,
            "grid_gap": null,
            "max_width": null,
            "order": null,
            "_view_module_version": "1.2.0",
            "grid_template_areas": null,
            "object_position": null,
            "object_fit": null,
            "grid_auto_columns": null,
            "margin": null,
            "display": null,
            "left": null
          }
        },
        "acddfb2660784e42badd54b546da6dec": {
          "model_module": "@jupyter-widgets/controls",
          "model_name": "DescriptionStyleModel",
          "state": {
            "_view_name": "StyleView",
            "_model_name": "DescriptionStyleModel",
            "description_width": "",
            "_view_module": "@jupyter-widgets/base",
            "_model_module_version": "1.5.0",
            "_view_count": null,
            "_view_module_version": "1.2.0",
            "_model_module": "@jupyter-widgets/controls"
          }
        },
        "8cd14edd3bfc4a8f82d506ad6bbbafcd": {
          "model_module": "@jupyter-widgets/base",
          "model_name": "LayoutModel",
          "state": {
            "_view_name": "LayoutView",
            "grid_template_rows": null,
            "right": null,
            "justify_content": null,
            "_view_module": "@jupyter-widgets/base",
            "overflow": null,
            "_model_module_version": "1.2.0",
            "_view_count": null,
            "flex_flow": null,
            "width": null,
            "min_width": null,
            "border": null,
            "align_items": null,
            "bottom": null,
            "_model_module": "@jupyter-widgets/base",
            "top": null,
            "grid_column": null,
            "overflow_y": null,
            "overflow_x": null,
            "grid_auto_flow": null,
            "grid_area": null,
            "grid_template_columns": null,
            "flex": null,
            "_model_name": "LayoutModel",
            "justify_items": null,
            "grid_row": null,
            "max_height": null,
            "align_content": null,
            "visibility": null,
            "align_self": null,
            "height": null,
            "min_height": null,
            "padding": null,
            "grid_auto_rows": null,
            "grid_gap": null,
            "max_width": null,
            "order": null,
            "_view_module_version": "1.2.0",
            "grid_template_areas": null,
            "object_position": null,
            "object_fit": null,
            "grid_auto_columns": null,
            "margin": null,
            "display": null,
            "left": null
          }
        },
        "4200fd85ef3f4972a59931fcf6b8d019": {
          "model_module": "@jupyter-widgets/controls",
          "model_name": "HBoxModel",
          "state": {
            "_view_name": "HBoxView",
            "_dom_classes": [],
            "_model_name": "HBoxModel",
            "_view_module": "@jupyter-widgets/controls",
            "_model_module_version": "1.5.0",
            "_view_count": null,
            "_view_module_version": "1.5.0",
            "box_style": "",
            "layout": "IPY_MODEL_3d20c9b53ce74e59ae495184589669b0",
            "_model_module": "@jupyter-widgets/controls",
            "children": [
              "IPY_MODEL_fb47c210347f4ac99883b025730cefc3",
              "IPY_MODEL_0ab2635064ec43c3ae4a9cf1fadd0959"
            ]
          }
        },
        "3d20c9b53ce74e59ae495184589669b0": {
          "model_module": "@jupyter-widgets/base",
          "model_name": "LayoutModel",
          "state": {
            "_view_name": "LayoutView",
            "grid_template_rows": null,
            "right": null,
            "justify_content": null,
            "_view_module": "@jupyter-widgets/base",
            "overflow": null,
            "_model_module_version": "1.2.0",
            "_view_count": null,
            "flex_flow": null,
            "width": null,
            "min_width": null,
            "border": null,
            "align_items": null,
            "bottom": null,
            "_model_module": "@jupyter-widgets/base",
            "top": null,
            "grid_column": null,
            "overflow_y": null,
            "overflow_x": null,
            "grid_auto_flow": null,
            "grid_area": null,
            "grid_template_columns": null,
            "flex": null,
            "_model_name": "LayoutModel",
            "justify_items": null,
            "grid_row": null,
            "max_height": null,
            "align_content": null,
            "visibility": null,
            "align_self": null,
            "height": null,
            "min_height": null,
            "padding": null,
            "grid_auto_rows": null,
            "grid_gap": null,
            "max_width": null,
            "order": null,
            "_view_module_version": "1.2.0",
            "grid_template_areas": null,
            "object_position": null,
            "object_fit": null,
            "grid_auto_columns": null,
            "margin": null,
            "display": null,
            "left": null
          }
        },
        "fb47c210347f4ac99883b025730cefc3": {
          "model_module": "@jupyter-widgets/controls",
          "model_name": "FloatProgressModel",
          "state": {
            "_view_name": "ProgressView",
            "style": "IPY_MODEL_bc23daf7d317470d862a9e7ca22494cb",
            "_dom_classes": [],
            "description": "100%",
            "_model_name": "FloatProgressModel",
            "bar_style": "success",
            "max": 200,
            "_view_module": "@jupyter-widgets/controls",
            "_model_module_version": "1.5.0",
            "value": 200,
            "_view_count": null,
            "_view_module_version": "1.5.0",
            "orientation": "horizontal",
            "min": 0,
            "description_tooltip": null,
            "_model_module": "@jupyter-widgets/controls",
            "layout": "IPY_MODEL_fbd74d594d294493a0621177ceadb6ea"
          }
        },
        "0ab2635064ec43c3ae4a9cf1fadd0959": {
          "model_module": "@jupyter-widgets/controls",
          "model_name": "HTMLModel",
          "state": {
            "_view_name": "HTMLView",
            "style": "IPY_MODEL_a69963c24e2d41d484e38a28f5eb1907",
            "_dom_classes": [],
            "description": "",
            "_model_name": "HTMLModel",
            "placeholder": "​",
            "_view_module": "@jupyter-widgets/controls",
            "_model_module_version": "1.5.0",
            "value": " 200/200 [00:29&lt;00:00,  6.69it/s]",
            "_view_count": null,
            "_view_module_version": "1.5.0",
            "description_tooltip": null,
            "_model_module": "@jupyter-widgets/controls",
            "layout": "IPY_MODEL_b24f8260b2b84054be3df9efa3c49a8d"
          }
        },
        "bc23daf7d317470d862a9e7ca22494cb": {
          "model_module": "@jupyter-widgets/controls",
          "model_name": "ProgressStyleModel",
          "state": {
            "_view_name": "StyleView",
            "_model_name": "ProgressStyleModel",
            "description_width": "initial",
            "_view_module": "@jupyter-widgets/base",
            "_model_module_version": "1.5.0",
            "_view_count": null,
            "_view_module_version": "1.2.0",
            "bar_color": null,
            "_model_module": "@jupyter-widgets/controls"
          }
        },
        "fbd74d594d294493a0621177ceadb6ea": {
          "model_module": "@jupyter-widgets/base",
          "model_name": "LayoutModel",
          "state": {
            "_view_name": "LayoutView",
            "grid_template_rows": null,
            "right": null,
            "justify_content": null,
            "_view_module": "@jupyter-widgets/base",
            "overflow": null,
            "_model_module_version": "1.2.0",
            "_view_count": null,
            "flex_flow": null,
            "width": null,
            "min_width": null,
            "border": null,
            "align_items": null,
            "bottom": null,
            "_model_module": "@jupyter-widgets/base",
            "top": null,
            "grid_column": null,
            "overflow_y": null,
            "overflow_x": null,
            "grid_auto_flow": null,
            "grid_area": null,
            "grid_template_columns": null,
            "flex": null,
            "_model_name": "LayoutModel",
            "justify_items": null,
            "grid_row": null,
            "max_height": null,
            "align_content": null,
            "visibility": null,
            "align_self": null,
            "height": null,
            "min_height": null,
            "padding": null,
            "grid_auto_rows": null,
            "grid_gap": null,
            "max_width": null,
            "order": null,
            "_view_module_version": "1.2.0",
            "grid_template_areas": null,
            "object_position": null,
            "object_fit": null,
            "grid_auto_columns": null,
            "margin": null,
            "display": null,
            "left": null
          }
        },
        "a69963c24e2d41d484e38a28f5eb1907": {
          "model_module": "@jupyter-widgets/controls",
          "model_name": "DescriptionStyleModel",
          "state": {
            "_view_name": "StyleView",
            "_model_name": "DescriptionStyleModel",
            "description_width": "",
            "_view_module": "@jupyter-widgets/base",
            "_model_module_version": "1.5.0",
            "_view_count": null,
            "_view_module_version": "1.2.0",
            "_model_module": "@jupyter-widgets/controls"
          }
        },
        "b24f8260b2b84054be3df9efa3c49a8d": {
          "model_module": "@jupyter-widgets/base",
          "model_name": "LayoutModel",
          "state": {
            "_view_name": "LayoutView",
            "grid_template_rows": null,
            "right": null,
            "justify_content": null,
            "_view_module": "@jupyter-widgets/base",
            "overflow": null,
            "_model_module_version": "1.2.0",
            "_view_count": null,
            "flex_flow": null,
            "width": null,
            "min_width": null,
            "border": null,
            "align_items": null,
            "bottom": null,
            "_model_module": "@jupyter-widgets/base",
            "top": null,
            "grid_column": null,
            "overflow_y": null,
            "overflow_x": null,
            "grid_auto_flow": null,
            "grid_area": null,
            "grid_template_columns": null,
            "flex": null,
            "_model_name": "LayoutModel",
            "justify_items": null,
            "grid_row": null,
            "max_height": null,
            "align_content": null,
            "visibility": null,
            "align_self": null,
            "height": null,
            "min_height": null,
            "padding": null,
            "grid_auto_rows": null,
            "grid_gap": null,
            "max_width": null,
            "order": null,
            "_view_module_version": "1.2.0",
            "grid_template_areas": null,
            "object_position": null,
            "object_fit": null,
            "grid_auto_columns": null,
            "margin": null,
            "display": null,
            "left": null
          }
        },
        "a905fdf2fc2244a5944a62d410445689": {
          "model_module": "@jupyter-widgets/controls",
          "model_name": "HBoxModel",
          "state": {
            "_view_name": "HBoxView",
            "_dom_classes": [],
            "_model_name": "HBoxModel",
            "_view_module": "@jupyter-widgets/controls",
            "_model_module_version": "1.5.0",
            "_view_count": null,
            "_view_module_version": "1.5.0",
            "box_style": "",
            "layout": "IPY_MODEL_88d0fb21c6094f488b9cf8755c8a6278",
            "_model_module": "@jupyter-widgets/controls",
            "children": [
              "IPY_MODEL_727a1ab091c84486ae23df1d0fd894f0",
              "IPY_MODEL_b69a4b09410a4fbea3adc0e0e49d800f"
            ]
          }
        },
        "88d0fb21c6094f488b9cf8755c8a6278": {
          "model_module": "@jupyter-widgets/base",
          "model_name": "LayoutModel",
          "state": {
            "_view_name": "LayoutView",
            "grid_template_rows": null,
            "right": null,
            "justify_content": null,
            "_view_module": "@jupyter-widgets/base",
            "overflow": null,
            "_model_module_version": "1.2.0",
            "_view_count": null,
            "flex_flow": null,
            "width": null,
            "min_width": null,
            "border": null,
            "align_items": null,
            "bottom": null,
            "_model_module": "@jupyter-widgets/base",
            "top": null,
            "grid_column": null,
            "overflow_y": null,
            "overflow_x": null,
            "grid_auto_flow": null,
            "grid_area": null,
            "grid_template_columns": null,
            "flex": null,
            "_model_name": "LayoutModel",
            "justify_items": null,
            "grid_row": null,
            "max_height": null,
            "align_content": null,
            "visibility": null,
            "align_self": null,
            "height": null,
            "min_height": null,
            "padding": null,
            "grid_auto_rows": null,
            "grid_gap": null,
            "max_width": null,
            "order": null,
            "_view_module_version": "1.2.0",
            "grid_template_areas": null,
            "object_position": null,
            "object_fit": null,
            "grid_auto_columns": null,
            "margin": null,
            "display": null,
            "left": null
          }
        },
        "727a1ab091c84486ae23df1d0fd894f0": {
          "model_module": "@jupyter-widgets/controls",
          "model_name": "FloatProgressModel",
          "state": {
            "_view_name": "ProgressView",
            "style": "IPY_MODEL_d27f9de3426843d6b5f2b0dc2d100abb",
            "_dom_classes": [],
            "description": "100%",
            "_model_name": "FloatProgressModel",
            "bar_style": "success",
            "max": 200,
            "_view_module": "@jupyter-widgets/controls",
            "_model_module_version": "1.5.0",
            "value": 200,
            "_view_count": null,
            "_view_module_version": "1.5.0",
            "orientation": "horizontal",
            "min": 0,
            "description_tooltip": null,
            "_model_module": "@jupyter-widgets/controls",
            "layout": "IPY_MODEL_76f007df52ee4f5a81c1494f88285f56"
          }
        },
        "b69a4b09410a4fbea3adc0e0e49d800f": {
          "model_module": "@jupyter-widgets/controls",
          "model_name": "HTMLModel",
          "state": {
            "_view_name": "HTMLView",
            "style": "IPY_MODEL_4d8dc830a7864b028f7b10ddbfeb629b",
            "_dom_classes": [],
            "description": "",
            "_model_name": "HTMLModel",
            "placeholder": "​",
            "_view_module": "@jupyter-widgets/controls",
            "_model_module_version": "1.5.0",
            "value": " 200/200 [00:59&lt;00:00,  3.34it/s]",
            "_view_count": null,
            "_view_module_version": "1.5.0",
            "description_tooltip": null,
            "_model_module": "@jupyter-widgets/controls",
            "layout": "IPY_MODEL_b04657dc1d304833b2f20356b8c7597f"
          }
        },
        "d27f9de3426843d6b5f2b0dc2d100abb": {
          "model_module": "@jupyter-widgets/controls",
          "model_name": "ProgressStyleModel",
          "state": {
            "_view_name": "StyleView",
            "_model_name": "ProgressStyleModel",
            "description_width": "initial",
            "_view_module": "@jupyter-widgets/base",
            "_model_module_version": "1.5.0",
            "_view_count": null,
            "_view_module_version": "1.2.0",
            "bar_color": null,
            "_model_module": "@jupyter-widgets/controls"
          }
        },
        "76f007df52ee4f5a81c1494f88285f56": {
          "model_module": "@jupyter-widgets/base",
          "model_name": "LayoutModel",
          "state": {
            "_view_name": "LayoutView",
            "grid_template_rows": null,
            "right": null,
            "justify_content": null,
            "_view_module": "@jupyter-widgets/base",
            "overflow": null,
            "_model_module_version": "1.2.0",
            "_view_count": null,
            "flex_flow": null,
            "width": null,
            "min_width": null,
            "border": null,
            "align_items": null,
            "bottom": null,
            "_model_module": "@jupyter-widgets/base",
            "top": null,
            "grid_column": null,
            "overflow_y": null,
            "overflow_x": null,
            "grid_auto_flow": null,
            "grid_area": null,
            "grid_template_columns": null,
            "flex": null,
            "_model_name": "LayoutModel",
            "justify_items": null,
            "grid_row": null,
            "max_height": null,
            "align_content": null,
            "visibility": null,
            "align_self": null,
            "height": null,
            "min_height": null,
            "padding": null,
            "grid_auto_rows": null,
            "grid_gap": null,
            "max_width": null,
            "order": null,
            "_view_module_version": "1.2.0",
            "grid_template_areas": null,
            "object_position": null,
            "object_fit": null,
            "grid_auto_columns": null,
            "margin": null,
            "display": null,
            "left": null
          }
        },
        "4d8dc830a7864b028f7b10ddbfeb629b": {
          "model_module": "@jupyter-widgets/controls",
          "model_name": "DescriptionStyleModel",
          "state": {
            "_view_name": "StyleView",
            "_model_name": "DescriptionStyleModel",
            "description_width": "",
            "_view_module": "@jupyter-widgets/base",
            "_model_module_version": "1.5.0",
            "_view_count": null,
            "_view_module_version": "1.2.0",
            "_model_module": "@jupyter-widgets/controls"
          }
        },
        "b04657dc1d304833b2f20356b8c7597f": {
          "model_module": "@jupyter-widgets/base",
          "model_name": "LayoutModel",
          "state": {
            "_view_name": "LayoutView",
            "grid_template_rows": null,
            "right": null,
            "justify_content": null,
            "_view_module": "@jupyter-widgets/base",
            "overflow": null,
            "_model_module_version": "1.2.0",
            "_view_count": null,
            "flex_flow": null,
            "width": null,
            "min_width": null,
            "border": null,
            "align_items": null,
            "bottom": null,
            "_model_module": "@jupyter-widgets/base",
            "top": null,
            "grid_column": null,
            "overflow_y": null,
            "overflow_x": null,
            "grid_auto_flow": null,
            "grid_area": null,
            "grid_template_columns": null,
            "flex": null,
            "_model_name": "LayoutModel",
            "justify_items": null,
            "grid_row": null,
            "max_height": null,
            "align_content": null,
            "visibility": null,
            "align_self": null,
            "height": null,
            "min_height": null,
            "padding": null,
            "grid_auto_rows": null,
            "grid_gap": null,
            "max_width": null,
            "order": null,
            "_view_module_version": "1.2.0",
            "grid_template_areas": null,
            "object_position": null,
            "object_fit": null,
            "grid_auto_columns": null,
            "margin": null,
            "display": null,
            "left": null
          }
        },
        "6352cba077e54efd984a003d60e506ca": {
          "model_module": "@jupyter-widgets/controls",
          "model_name": "HBoxModel",
          "state": {
            "_view_name": "HBoxView",
            "_dom_classes": [],
            "_model_name": "HBoxModel",
            "_view_module": "@jupyter-widgets/controls",
            "_model_module_version": "1.5.0",
            "_view_count": null,
            "_view_module_version": "1.5.0",
            "box_style": "",
            "layout": "IPY_MODEL_87d1e5b857a94744ad994c55cdfe0c2a",
            "_model_module": "@jupyter-widgets/controls",
            "children": [
              "IPY_MODEL_ea6ed9836bc74f8796aa2227314b3503",
              "IPY_MODEL_0cbdb275b3a74eb1869ac2de5a0a8068"
            ]
          }
        },
        "87d1e5b857a94744ad994c55cdfe0c2a": {
          "model_module": "@jupyter-widgets/base",
          "model_name": "LayoutModel",
          "state": {
            "_view_name": "LayoutView",
            "grid_template_rows": null,
            "right": null,
            "justify_content": null,
            "_view_module": "@jupyter-widgets/base",
            "overflow": null,
            "_model_module_version": "1.2.0",
            "_view_count": null,
            "flex_flow": null,
            "width": null,
            "min_width": null,
            "border": null,
            "align_items": null,
            "bottom": null,
            "_model_module": "@jupyter-widgets/base",
            "top": null,
            "grid_column": null,
            "overflow_y": null,
            "overflow_x": null,
            "grid_auto_flow": null,
            "grid_area": null,
            "grid_template_columns": null,
            "flex": null,
            "_model_name": "LayoutModel",
            "justify_items": null,
            "grid_row": null,
            "max_height": null,
            "align_content": null,
            "visibility": null,
            "align_self": null,
            "height": null,
            "min_height": null,
            "padding": null,
            "grid_auto_rows": null,
            "grid_gap": null,
            "max_width": null,
            "order": null,
            "_view_module_version": "1.2.0",
            "grid_template_areas": null,
            "object_position": null,
            "object_fit": null,
            "grid_auto_columns": null,
            "margin": null,
            "display": null,
            "left": null
          }
        },
        "ea6ed9836bc74f8796aa2227314b3503": {
          "model_module": "@jupyter-widgets/controls",
          "model_name": "FloatProgressModel",
          "state": {
            "_view_name": "ProgressView",
            "style": "IPY_MODEL_116a994e06984ed3ad14014592caca30",
            "_dom_classes": [],
            "description": "100%",
            "_model_name": "FloatProgressModel",
            "bar_style": "success",
            "max": 200,
            "_view_module": "@jupyter-widgets/controls",
            "_model_module_version": "1.5.0",
            "value": 200,
            "_view_count": null,
            "_view_module_version": "1.5.0",
            "orientation": "horizontal",
            "min": 0,
            "description_tooltip": null,
            "_model_module": "@jupyter-widgets/controls",
            "layout": "IPY_MODEL_400aa0280f6a4d91a43dc0680b7b9ec5"
          }
        },
        "0cbdb275b3a74eb1869ac2de5a0a8068": {
          "model_module": "@jupyter-widgets/controls",
          "model_name": "HTMLModel",
          "state": {
            "_view_name": "HTMLView",
            "style": "IPY_MODEL_f4355ef412e34d7d8819e04858a44d99",
            "_dom_classes": [],
            "description": "",
            "_model_name": "HTMLModel",
            "placeholder": "​",
            "_view_module": "@jupyter-widgets/controls",
            "_model_module_version": "1.5.0",
            "value": " 200/200 [00:45&lt;00:00,  4.39it/s]",
            "_view_count": null,
            "_view_module_version": "1.5.0",
            "description_tooltip": null,
            "_model_module": "@jupyter-widgets/controls",
            "layout": "IPY_MODEL_2557b75400e7437eb8a53ed1c3fa55b6"
          }
        },
        "116a994e06984ed3ad14014592caca30": {
          "model_module": "@jupyter-widgets/controls",
          "model_name": "ProgressStyleModel",
          "state": {
            "_view_name": "StyleView",
            "_model_name": "ProgressStyleModel",
            "description_width": "initial",
            "_view_module": "@jupyter-widgets/base",
            "_model_module_version": "1.5.0",
            "_view_count": null,
            "_view_module_version": "1.2.0",
            "bar_color": null,
            "_model_module": "@jupyter-widgets/controls"
          }
        },
        "400aa0280f6a4d91a43dc0680b7b9ec5": {
          "model_module": "@jupyter-widgets/base",
          "model_name": "LayoutModel",
          "state": {
            "_view_name": "LayoutView",
            "grid_template_rows": null,
            "right": null,
            "justify_content": null,
            "_view_module": "@jupyter-widgets/base",
            "overflow": null,
            "_model_module_version": "1.2.0",
            "_view_count": null,
            "flex_flow": null,
            "width": null,
            "min_width": null,
            "border": null,
            "align_items": null,
            "bottom": null,
            "_model_module": "@jupyter-widgets/base",
            "top": null,
            "grid_column": null,
            "overflow_y": null,
            "overflow_x": null,
            "grid_auto_flow": null,
            "grid_area": null,
            "grid_template_columns": null,
            "flex": null,
            "_model_name": "LayoutModel",
            "justify_items": null,
            "grid_row": null,
            "max_height": null,
            "align_content": null,
            "visibility": null,
            "align_self": null,
            "height": null,
            "min_height": null,
            "padding": null,
            "grid_auto_rows": null,
            "grid_gap": null,
            "max_width": null,
            "order": null,
            "_view_module_version": "1.2.0",
            "grid_template_areas": null,
            "object_position": null,
            "object_fit": null,
            "grid_auto_columns": null,
            "margin": null,
            "display": null,
            "left": null
          }
        },
        "f4355ef412e34d7d8819e04858a44d99": {
          "model_module": "@jupyter-widgets/controls",
          "model_name": "DescriptionStyleModel",
          "state": {
            "_view_name": "StyleView",
            "_model_name": "DescriptionStyleModel",
            "description_width": "",
            "_view_module": "@jupyter-widgets/base",
            "_model_module_version": "1.5.0",
            "_view_count": null,
            "_view_module_version": "1.2.0",
            "_model_module": "@jupyter-widgets/controls"
          }
        },
        "2557b75400e7437eb8a53ed1c3fa55b6": {
          "model_module": "@jupyter-widgets/base",
          "model_name": "LayoutModel",
          "state": {
            "_view_name": "LayoutView",
            "grid_template_rows": null,
            "right": null,
            "justify_content": null,
            "_view_module": "@jupyter-widgets/base",
            "overflow": null,
            "_model_module_version": "1.2.0",
            "_view_count": null,
            "flex_flow": null,
            "width": null,
            "min_width": null,
            "border": null,
            "align_items": null,
            "bottom": null,
            "_model_module": "@jupyter-widgets/base",
            "top": null,
            "grid_column": null,
            "overflow_y": null,
            "overflow_x": null,
            "grid_auto_flow": null,
            "grid_area": null,
            "grid_template_columns": null,
            "flex": null,
            "_model_name": "LayoutModel",
            "justify_items": null,
            "grid_row": null,
            "max_height": null,
            "align_content": null,
            "visibility": null,
            "align_self": null,
            "height": null,
            "min_height": null,
            "padding": null,
            "grid_auto_rows": null,
            "grid_gap": null,
            "max_width": null,
            "order": null,
            "_view_module_version": "1.2.0",
            "grid_template_areas": null,
            "object_position": null,
            "object_fit": null,
            "grid_auto_columns": null,
            "margin": null,
            "display": null,
            "left": null
          }
        }
      }
    }
  },
  "cells": [
    {
      "cell_type": "markdown",
      "metadata": {
        "id": "2fWChmYMyOHP",
        "colab_type": "text"
      },
      "source": [
        "# Setup\n",
        "\n"
      ]
    },
    {
      "cell_type": "code",
      "metadata": {
        "id": "fwYEKecAyOHS",
        "colab_type": "code",
        "colab": {}
      },
      "source": [
        "%%capture\n",
        "%pip install poetry\n",
        "%pip install git+https://github.com/oughtinc/ergo.git@7e06c968de3ec621c3ecae7bae28feaaaf70dad3\n",
        "%pip install xlrd"
      ],
      "execution_count": 0,
      "outputs": []
    },
    {
      "cell_type": "code",
      "metadata": {
        "id": "lfLLK9wayOHe",
        "colab_type": "code",
        "colab": {}
      },
      "source": [
        "%load_ext google.colab.data_table"
      ],
      "execution_count": 0,
      "outputs": []
    },
    {
      "cell_type": "code",
      "metadata": {
        "id": "nQmV0S44yOHp",
        "colab_type": "code",
        "colab": {}
      },
      "source": [
        "%%capture\n",
        "import ergo\n",
        "import numpy as np\n",
        "import pandas as pd\n",
        "import ssl\n",
        "import warnings\n",
        "import requests\n",
        "from datetime import timedelta, date\n",
        "from ergo.contrib.covid import brachbach, shaman, usafacts\n",
        "from ergo.contrib.utils import plot_question, question, rejection_sample, sample_from_ensemble, samplers, summarize_question_samples, daterange"
      ],
      "execution_count": 0,
      "outputs": []
    },
    {
      "cell_type": "code",
      "metadata": {
        "id": "5gPRq-ciyOHx",
        "colab_type": "code",
        "colab": {}
      },
      "source": [
        "warnings.filterwarnings(action=\"ignore\", category=FutureWarning)\n",
        "warnings.filterwarnings(module=\"plotnine\", action=\"ignore\")\n",
        "warnings.filterwarnings(module=\"jax\", action=\"ignore\")\n",
        "ssl._create_default_https_context = ssl._create_unverified_context"
      ],
      "execution_count": 0,
      "outputs": []
    },
    {
      "cell_type": "code",
      "metadata": {
        "id": "SAewNDKzyOH2",
        "colab_type": "code",
        "colab": {}
      },
      "source": [
        "metaculus = ergo.Metaculus(\n",
        "    username=\"oughtpublic\", \n",
        "    password=\"123456\",\n",
        "    api_domain = \"pandemic\"\n",
        ")"
      ],
      "execution_count": 0,
      "outputs": []
    },
    {
      "cell_type": "markdown",
      "metadata": {
        "id": "gi2Z4YwdyOH_",
        "colab_type": "text"
      },
      "source": [
        "Select which county you are considering\n",
        "\n"
      ]
    },
    {
      "cell_type": "code",
      "metadata": {
        "id": "OAJGg-b_yOIB",
        "colab_type": "code",
        "colab": {}
      },
      "source": [
        "#@title Enter County and State Here\n",
        "county = \"Orange County\" #@param {type:\"string\"}\n",
        "state = \"NY\" #@param {type:\"string\"}"
      ],
      "execution_count": 0,
      "outputs": []
    },
    {
      "cell_type": "markdown",
      "metadata": {
        "id": "A_KHB0ESyOIH",
        "colab_type": "text"
      },
      "source": [
        "# Retrieve external data and models\n",
        "\n"
      ]
    },
    {
      "cell_type": "markdown",
      "metadata": {
        "id": "bZVXlCXuyOIJ",
        "colab_type": "text"
      },
      "source": [
        "## Data\n",
        "\n"
      ]
    },
    {
      "cell_type": "markdown",
      "metadata": {
        "id": "5vaZ17SByOIK",
        "colab_type": "text"
      },
      "source": [
        "### Get cases data\n",
        "\n"
      ]
    },
    {
      "cell_type": "markdown",
      "metadata": {
        "id": "U6doeZrZyOIL",
        "colab_type": "text"
      },
      "source": [
        "Pulled from [here](https://usafacts.org/visualizations/coronavirus-covid-19-spread-map/)\n",
        "\n"
      ]
    },
    {
      "cell_type": "code",
      "metadata": {
        "id": "biRxzSw_yOIL",
        "colab_type": "code",
        "colab": {}
      },
      "source": [
        "cases = usafacts.load_county_data(county, state)"
      ],
      "execution_count": 0,
      "outputs": []
    },
    {
      "cell_type": "markdown",
      "metadata": {
        "id": "qX9gFth9yOIP",
        "colab_type": "text"
      },
      "source": [
        "### Access Data\n",
        "\n"
      ]
    },
    {
      "cell_type": "code",
      "metadata": {
        "id": "vAckd2_oyOIP",
        "colab_type": "code",
        "colab": {}
      },
      "source": [
        "def get_historical_data(date: date, column_name):\n",
        "    \"\"\"\n",
        "    Look up the value of a parameter on a given date\n",
        "    in the historical data we've loaded.\n",
        "\n",
        "    Return the value or raise a KeyError if we don't have it.\n",
        "    \"\"\"\n",
        "\n",
        "    # prefer usafacts data\n",
        "    value = cases.loc[date, column_name]\n",
        "    if np.isnan(value):\n",
        "        raise KeyError(f\"value for {column_name} in our historical data is NaN\")\n",
        "    return value"
      ],
      "execution_count": 0,
      "outputs": []
    },
    {
      "cell_type": "markdown",
      "metadata": {
        "id": "MWb1800zyOIU",
        "colab_type": "text"
      },
      "source": [
        "## Models\n",
        "\n"
      ]
    },
    {
      "cell_type": "markdown",
      "metadata": {
        "id": "87oeSra7yOIV",
        "colab_type": "text"
      },
      "source": [
        "### Shaman et al. cases model\n",
        "\n"
      ]
    },
    {
      "cell_type": "markdown",
      "metadata": {
        "id": "5C43yuXVyOIW",
        "colab_type": "text"
      },
      "source": [
        "Pulled from [here](https://github.com/shaman-lab/COVID-19Projection)\n",
        "([paper](https://www.medrxiv.org/content/10.1101/2020.03.21.20040303v2))\n",
        "\n"
      ]
    },
    {
      "cell_type": "code",
      "metadata": {
        "id": "rbfc3i0QyOIX",
        "colab_type": "code",
        "colab": {}
      },
      "source": [
        "cu_projections = shaman.load_cu_projections(f\"{county} {state}\")"
      ],
      "execution_count": 0,
      "outputs": []
    },
    {
      "cell_type": "markdown",
      "metadata": {
        "id": "5b6pYOZYyOIc",
        "colab_type": "text"
      },
      "source": [
        "### @brachbach model: cases -> hospitalized\n",
        "\n"
      ]
    },
    {
      "cell_type": "code",
      "metadata": {
        "id": "comAp6fgyOIc",
        "colab_type": "code",
        "colab": {}
      },
      "source": [
        "get_daily_hospital_confirmed = brachbach.get_daily_hospital_confirmed"
      ],
      "execution_count": 0,
      "outputs": []
    },
    {
      "cell_type": "markdown",
      "metadata": {
        "id": "p-6Lqy91yOIf",
        "colab_type": "text"
      },
      "source": [
        "# Model components\n",
        "\n"
      ]
    },
    {
      "cell_type": "markdown",
      "metadata": {
        "id": "TFCAvNDeyOIg",
        "colab_type": "text"
      },
      "source": [
        "In this notebook, we model some aspects of how the COVID-19 pandemic will play out in\n",
        "different counties across the US.\n",
        "\n",
        "In this section, we model some key variables that we'll use to answer broader questions\n",
        "in the next section. We sometimes ensemble multiple models to try to get a better\n",
        "estimate of a variable.\n",
        "\n"
      ]
    },
    {
      "cell_type": "code",
      "metadata": {
        "id": "RQvFDaIOyOIi",
        "colab_type": "code",
        "colab": {}
      },
      "source": [
        "START_DATE = date(2020, 4, 1)"
      ],
      "execution_count": 0,
      "outputs": []
    },
    {
      "cell_type": "markdown",
      "metadata": {
        "id": "tk98i5QTyOIm",
        "colab_type": "text"
      },
      "source": [
        "## Daily COVID Infections\n",
        "\n"
      ]
    },
    {
      "cell_type": "markdown",
      "metadata": {
        "id": "vC-MqS_SyOIm",
        "colab_type": "text"
      },
      "source": [
        "### Shaman Model\n",
        "\n"
      ]
    },
    {
      "cell_type": "code",
      "metadata": {
        "id": "rZswt95HyOIn",
        "colab_type": "code",
        "colab": {}
      },
      "source": [
        "@ergo.mem\n",
        "def cu_model_scenario():\n",
        "    \"\"\"Which of the model scenarios are we in?\"\"\"\n",
        "    return ergo.random_choice([s for s in cu_projections.keys()])\n",
        "\n",
        "@ergo.mem\n",
        "def cu_model_quantile():\n",
        "    \"\"\"Where in the distribution of model outputs are we for this model run?\n",
        "    Want to be consistent across time, so we sample it once per model run\"\"\"\n",
        "    return ergo.uniform()\n",
        "\n",
        "def cu_projection(param: str, date: date) -> int:\n",
        "    \"\"\"\n",
        "    Get the Columbia model's prediction\n",
        "    of the param for the date\n",
        "    \"\"\"\n",
        "    scenario = cu_model_scenario()\n",
        "    quantile = cu_model_quantile()\n",
        "\n",
        "    # Extract quantiles of the model distribution\n",
        "    xs = np.array([0.025, 0.25, 0.5, 0.75, 0.975])\n",
        "    scenario_df = cu_projections[scenario]\n",
        "    param_df = scenario_df[scenario_df[\"var\"] == param]\n",
        "    date_df = param_df[param_df[\"Date\"] == date]\n",
        "    if date_df.empty:\n",
        "        raise KeyError(f\"No Columbia project for param: {param}, date: {date}\")\n",
        "\n",
        "    ys = np.array(date_df[[\"2.5\", \"25\",  \"50\",  \"75\",  \"97.5\"]].iloc[0])\n",
        "    # Linearly interpolate\n",
        "    return int(round(np.interp(quantile, xs, ys)))"
      ],
      "execution_count": 0,
      "outputs": []
    },
    {
      "cell_type": "markdown",
      "metadata": {
        "id": "7MAgTnC9yOIr",
        "colab_type": "text"
      },
      "source": [
        "### Get historical data or predict using ensemble\n",
        "\n"
      ]
    },
    {
      "cell_type": "code",
      "metadata": {
        "id": "VeMQGyFayOIr",
        "colab_type": "code",
        "colab": {}
      },
      "source": [
        "@ergo.mem\n",
        "def daily_infections(date: date) -> int:\n",
        "    \"\"\"\n",
        "    What is the number of reported (new) Covid-19 infections on [date]?\n",
        "    \"\"\"\n",
        "    try:\n",
        "        return get_historical_data(date, \"cases\")  # This works!\n",
        "    except KeyError:  # if we don't have historical data, use our ensemble of models\n",
        "        return sample_from_ensemble([\n",
        "            lambda date: cu_projection(\"cases\", date)    # we only have one model presently\n",
        "        ], {\"date\": date}, [1], fallback=True, default=0)"
      ],
      "execution_count": 0,
      "outputs": []
    },
    {
      "cell_type": "markdown",
      "metadata": {
        "id": "1HAnnqiayOIu",
        "colab_type": "text"
      },
      "source": [
        "## Daily COVID infections: mean, sma, peak\n",
        "\n"
      ]
    },
    {
      "cell_type": "code",
      "metadata": {
        "id": "QeQFcrquyOIw",
        "colab_type": "code",
        "colab": {}
      },
      "source": [
        "@ergo.mem\n",
        "def mean_infections(start_date: date, end_date: date):\n",
        "    \"\"\"\n",
        "    What is the average number of reported new infections for this range of \n",
        "    dates? (Including start date, excluding end date)\n",
        "    \"\"\"\n",
        "    days = daterange(start_date, end_date)\n",
        "    return np.mean([daily_infections(day) for day in days])"
      ],
      "execution_count": 0,
      "outputs": []
    },
    {
      "cell_type": "code",
      "metadata": {
        "id": "qCbfYjXAyOIy",
        "colab_type": "code",
        "colab": {}
      },
      "source": [
        "@ergo.mem\n",
        "def sma_infections(date: date):\n",
        "    \"\"\"\n",
        "    The simple moving average of infections for a date.\n",
        "\n",
        "    Defined in https://pandemic.metaculus.com/questions/4128:\n",
        "\n",
        "    'The 2-day SMA is defined as the unweighted average (arithmetic mean)\n",
        "    over the current day and the previous day.'\n",
        "    \"\"\"\n",
        "    return mean_infections(date - timedelta(1), date + timedelta(1))\n",
        "\n",
        "@ergo.mem\n",
        "def peak_compatible_with_historical_data(peak_date):\n",
        "    \"\"\"\n",
        "    Check whether it's possible that some date in the past\n",
        "    was the peak date of new COVID infections in El Paso,\n",
        "    given the historical data we have about COVID infections\n",
        "    \"\"\"\n",
        "    if not peak_date in cases.index:\n",
        "        return True\n",
        "    for comparison_date in daterange(START_DATE, peak_date + timedelta(11)):  #TODO refactor so as not reference a global here\n",
        "        if comparison_date not in cases.index:\n",
        "            continue\n",
        "        if sma_infections(comparison_date) > sma_infections(peak_date):\n",
        "            return False\n",
        "        if sma_infections(comparison_date) == sma_infections(peak_date) and comparison_date > peak_date:\n",
        "            return False\n",
        "    return True\n",
        "\n",
        "\n",
        "@ergo.mem\n",
        "def peak_infection_date_community():\n",
        "    \"\"\"\n",
        "    The community assigns probability to some dates in the past\n",
        "    that we already know were not the peak.\n",
        "    So instead of sampling from the full community distribution,\n",
        "    sample from the portion of the community distribution\n",
        "    that is plausibly correct.\n",
        "    \"\"\"    \n",
        "    peak_date = rejection_sample(\n",
        "        peak_infection_date.question.sample_community, \n",
        "        peak_compatible_with_historical_data)\n",
        "    return peak_date"
      ],
      "execution_count": 0,
      "outputs": []
    },
    {
      "cell_type": "markdown",
      "metadata": {
        "id": "23G0eXohyOI1",
        "colab_type": "text"
      },
      "source": [
        "## Patients with COVID in the hospital\n",
        "\n"
      ]
    },
    {
      "cell_type": "markdown",
      "metadata": {
        "id": "yRWWDw92yOI3",
        "colab_type": "text"
      },
      "source": [
        "### @brachbach model+\n",
        "\n"
      ]
    },
    {
      "cell_type": "code",
      "metadata": {
        "id": "-2jC0AyOyOI4",
        "colab_type": "code",
        "colab": {}
      },
      "source": [
        "br_confirmed_from_infected_model = get_daily_hospital_confirmed(cases, \"cases\", daily_infections)  # equating cases with hostpital confirmed, which is a hack to be replaced\n",
        "\n",
        "def brachbach_model_plus(date: date) -> int:\n",
        "    \"\"\"\n",
        "    Get a point estimate from @brachbach's model,\n",
        "    then add some (fairly arbitrary) uncertainty\n",
        "    \"\"\"\n",
        "    cases = br_confirmed_from_infected_model(date)\n",
        "\n",
        "    if cases == 0:\n",
        "      return cases\n",
        "    cases_estimate = ergo.lognormal_from_interval(cases * 0.8, cases * 1.2)\n",
        "    return np.clip(cases_estimate, cases * 0.5, cases * 2)"
      ],
      "execution_count": 0,
      "outputs": []
    },
    {
      "cell_type": "markdown",
      "metadata": {
        "id": "uYooyof3yOI5",
        "colab_type": "text"
      },
      "source": [
        "### Get historical data or predict using ensemble\n",
        "\n"
      ]
    },
    {
      "cell_type": "code",
      "metadata": {
        "id": "1HJBwJEgyOI6",
        "colab_type": "code",
        "colab": {}
      },
      "source": [
        "@ergo.mem\n",
        "def hospital_confirmed_for_date(date: date) -> int:\n",
        "    \"\"\"\n",
        "    The total number of lab-confirmed COVID-19 patients in El Paso County in\n",
        "    the hospital on this date\n",
        "    \"\"\"\n",
        "    try:\n",
        "        return get_historical_data(date, \"In hospital confirmed\")  # TODO find data for this\n",
        "    except KeyError:  # if we don't have historical data, use our ensemble of models\n",
        "        return sample_from_ensemble([\n",
        "            lambda date: cu_projection(\"hosp\", date), \n",
        "            brachbach_model_plus\n",
        "        ], {\"date\": date}, [.2, .8], fallback=True, default=0)"
      ],
      "execution_count": 0,
      "outputs": []
    },
    {
      "cell_type": "markdown",
      "metadata": {
        "id": "Sr9d-_SGyOI9",
        "colab_type": "text"
      },
      "source": [
        "## Proportion ICU admissions requiring ventilation\n",
        "\n"
      ]
    },
    {
      "cell_type": "code",
      "metadata": {
        "id": "uC3t0H_XyOI_",
        "colab_type": "code",
        "colab": {}
      },
      "source": [
        "@ergo.mem\n",
        "def frac_icu_ventilation():\n",
        "    \"\"\"\n",
        "    Proportion of ICU admissions requiring ventilation\n",
        "\n",
        "    Approach (PabloStafforini et al): \n",
        "    https://pandemic.metaculus.com/questions/4154/#comment-28155\n",
        "\n",
        "    TODO: \n",
        "    - Improve how we use case data\n",
        "    - Add qualitative adjustments\n",
        "    \"\"\"\n",
        "    ventilation_pseudocounts = 25 + 17 + 0.05 * 1150 + 0.1 * 132\n",
        "    icu_pseudocounts = 100 + 36 + 0.05 * 1300 + 0.1 * 196\n",
        "    return ergo.beta_from_hits(ventilation_pseudocounts, icu_pseudocounts)"
      ],
      "execution_count": 0,
      "outputs": []
    },
    {
      "cell_type": "markdown",
      "metadata": {
        "id": "S3n7Y0y7yOJD",
        "colab_type": "text"
      },
      "source": [
        "# determine what (if anything) we want here\n",
        "\n"
      ]
    },
    {
      "cell_type": "markdown",
      "metadata": {
        "id": "2TrDpAg3yOJE",
        "colab_type": "text"
      },
      "source": [
        "## El Paso questions\n",
        "\n"
      ]
    },
    {
      "cell_type": "code",
      "metadata": {
        "id": "klXwk0jiyOJE",
        "colab_type": "code",
        "colab": {
          "base_uri": "https://localhost:8080/",
          "height": 733,
          "referenced_widgets": [
            "2e521acd2b1b4db98ecfe9e455f34bdb",
            "45c6dfe578a847ac86412d55b8b4cd84",
            "d5c2d40e64c845f69853fdb421af8f79",
            "f9dc43047d344001a677ac326a879e1b",
            "fc117aecd5c742b6a226896c79e4a646",
            "ca21e904e1c0460eab4e98bf5fa043d6",
            "0ad0b8a76d4841f89701ffed8796e47a",
            "8699781701d2497b86103fa71e13054e"
          ]
        },
        "outputId": "25780b74-33f9-41d6-c724-8e5ead4adc63"
      },
      "source": [
        "@question(metaculus, 4128, community_weight=0.3, community_fn=peak_infection_date_community, start_date=START_DATE)\n",
        "def peak_infection_date() -> date:\n",
        "    \"\"\"\n",
        "    When will El Paso County, Texas, experience its first peak number of COVID\n",
        "    infections?\n",
        "\n",
        "    From https://pandemic.metaculus.com/questions/4128:\n",
        "    'This question resolves as the date for which\n",
        "    the 2-day simple moving average(SMA) of the number of reported new infections\n",
        "    is strictly greater than the 2-day SMA over the subsequent 10 days.'\n",
        "    \"\"\"\n",
        "    end_date = date(2020, 7, 1)\n",
        "    for today in daterange(START_DATE, end_date):\n",
        "        sma_today = sma_infections(today)\n",
        "        future_smas = [sma_infections(today + timedelta(i)) for i in range(1,11)]\n",
        "        if sma_today > max(future_smas):\n",
        "            return today\n",
        "            return end_date\n",
        "\n",
        "plot_question(peak_infection_date, start_date=START_DATE)"
      ],
      "execution_count": 19,
      "outputs": [
        {
          "output_type": "display_data",
          "data": {
            "application/vnd.jupyter.widget-view+json": {
              "model_id": "2e521acd2b1b4db98ecfe9e455f34bdb",
              "version_minor": 0,
              "version_major": 2
            },
            "text/plain": [
              "HBox(children=(FloatProgress(value=0.0, max=200.0), HTML(value='')))"
            ]
          },
          "metadata": {
            "tags": []
          }
        },
        {
          "output_type": "stream",
          "text": [
            "\n"
          ],
          "name": "stdout"
        },
        {
          "output_type": "display_data",
          "data": {
            "application/vnd.google.colaboratory.module+javascript": "\n      import \"https://ssl.gstatic.com/colaboratory/data_table/a6224c040fa35dcf/data_table.js\";\n\n      window.createDataTable({\n        data: [[\"peak_infection_date\",\n{\n            'v': 200.0,\n            'f': \"200.0\",\n        },\n{\n            'v': 46.38,\n            'f': \"46.38\",\n        },\n{\n            'v': 28.05,\n            'f': \"28.05\",\n        },\n{\n            'v': 35.0,\n            'f': \"35.0\",\n        },\n{\n            'v': 35.0,\n            'f': \"35.0\",\n        },\n{\n            'v': 35.0,\n            'f': \"35.0\",\n        },\n{\n            'v': 41.0,\n            'f': \"41.0\",\n        },\n{\n            'v': 150.0,\n            'f': \"150.0\",\n        }]],\n        columns: [[\"string\", \"index\"], [\"number\", \"count\"], [\"number\", \"mean\"], [\"number\", \"std\"], [\"number\", \"min\"], [\"number\", \"25%\"], [\"number\", \"50%\"], [\"number\", \"75%\"], [\"number\", \"max\"]],\n        columnOptions: [{\"width\": \"1px\", \"className\": \"index_column\"}],\n        rowsPerPage: 25,\n        helpUrl: \"https://colab.research.google.com/notebooks/data_table.ipynb\",\n        suppressOutputScrolling: true,\n        minimumWidth: undefined,\n      });\n    ",
            "text/html": [
              "<div>\n",
              "<style scoped>\n",
              "    .dataframe tbody tr th:only-of-type {\n",
              "        vertical-align: middle;\n",
              "    }\n",
              "\n",
              "    .dataframe tbody tr th {\n",
              "        vertical-align: top;\n",
              "    }\n",
              "\n",
              "    .dataframe thead th {\n",
              "        text-align: right;\n",
              "    }\n",
              "</style>\n",
              "<table border=\"1\" class=\"dataframe\">\n",
              "  <thead>\n",
              "    <tr style=\"text-align: right;\">\n",
              "      <th></th>\n",
              "      <th>count</th>\n",
              "      <th>mean</th>\n",
              "      <th>std</th>\n",
              "      <th>min</th>\n",
              "      <th>25%</th>\n",
              "      <th>50%</th>\n",
              "      <th>75%</th>\n",
              "      <th>max</th>\n",
              "    </tr>\n",
              "  </thead>\n",
              "  <tbody>\n",
              "    <tr>\n",
              "      <th>peak_infection_date</th>\n",
              "      <td>200.0</td>\n",
              "      <td>46.38</td>\n",
              "      <td>28.05</td>\n",
              "      <td>35.0</td>\n",
              "      <td>35.0</td>\n",
              "      <td>35.0</td>\n",
              "      <td>41.0</td>\n",
              "      <td>150.0</td>\n",
              "    </tr>\n",
              "  </tbody>\n",
              "</table>\n",
              "</div>"
            ],
            "text/plain": [
              "                     count   mean    std   min   25%   50%   75%    max\n",
              "peak_infection_date  200.0  46.38  28.05  35.0  35.0  35.0  41.0  150.0"
            ]
          },
          "metadata": {
            "tags": []
          }
        },
        {
          "output_type": "display_data",
          "data": {
            "image/png": "[encoded data removed]",
            "text/plain": [
              "<Figure size 640x480 with 2 Axes>"
            ]
          },
          "metadata": {
            "tags": []
          }
        }
      ]
    },
    {
      "cell_type": "code",
      "metadata": {
        "id": "8uGmew4TyOJH",
        "colab_type": "code",
        "colab": {
          "base_uri": "https://localhost:8080/",
          "height": 688,
          "referenced_widgets": [
            "6c286d8d3b80474b915503a72598dced",
            "a1004930a97f4b5da459700da10986cb",
            "53aeb7bb1321428883597dd188d8c250",
            "3d4336afa43c432780e99ef923937efd",
            "42c4d3d029114cdfbc9c89bb1a61e318",
            "2f2b25f0856e45f1807f740e3801e84f",
            "c016ecf3d0864751af4365da7e373490",
            "eeff9bdb73de4ca087292bb9c70ec184"
          ]
        },
        "outputId": "500fd852-d6d3-45ac-9b65-92e1651b8380"
      },
      "source": [
        "@question(metaculus, 4137, community_weight=0.5)\n",
        "def peak_infections():\n",
        "    \"\"\"\n",
        "    How many new infections will be reported in El Paso on the day on which\n",
        "    the number of new reported infections peaks?\n",
        "    \"\"\"\n",
        "    peak = peak_infection_date()\n",
        "    return daily_infections(peak)\n",
        "plot_question(peak_infections)"
      ],
      "execution_count": 20,
      "outputs": [
        {
          "output_type": "display_data",
          "data": {
            "application/vnd.jupyter.widget-view+json": {
              "model_id": "6c286d8d3b80474b915503a72598dced",
              "version_minor": 0,
              "version_major": 2
            },
            "text/plain": [
              "HBox(children=(FloatProgress(value=0.0, max=200.0), HTML(value='')))"
            ]
          },
          "metadata": {
            "tags": []
          }
        },
        {
          "output_type": "stream",
          "text": [
            "\n"
          ],
          "name": "stdout"
        },
        {
          "output_type": "display_data",
          "data": {
            "application/vnd.google.colaboratory.module+javascript": "\n      import \"https://ssl.gstatic.com/colaboratory/data_table/a6224c040fa35dcf/data_table.js\";\n\n      window.createDataTable({\n        data: [[\"peak_infection_date\",\n{\n            'v': 101.0,\n            'f': \"101.0\",\n        },\n{\n            'v': 47.5,\n            'f': \"47.5\",\n        },\n{\n            'v': 31.73,\n            'f': \"31.73\",\n        },\n{\n            'v': 35.0,\n            'f': \"35.0\",\n        },\n{\n            'v': 35.0,\n            'f': \"35.0\",\n        },\n{\n            'v': 35.0,\n            'f': \"35.0\",\n        },\n{\n            'v': 35.0,\n            'f': \"35.0\",\n        },\n{\n            'v': 153.0,\n            'f': \"153.0\",\n        }],\n [\"peak_infections\",\n{\n            'v': 200.0,\n            'f': \"200.0\",\n        },\n{\n            'v': 3678.2,\n            'f': \"3678.2\",\n        },\n{\n            'v': 4477.67,\n            'f': \"4477.67\",\n        },\n{\n            'v': 0.0,\n            'f': \"0.0\",\n        },\n{\n            'v': 70.14,\n            'f': \"70.14\",\n        },\n{\n            'v': 85.76,\n            'f': \"85.76\",\n        },\n{\n            'v': 9215.0,\n            'f': \"9215.0\",\n        },\n{\n            'v': 9215.0,\n            'f': \"9215.0\",\n        }]],\n        columns: [[\"string\", \"index\"], [\"number\", \"count\"], [\"number\", \"mean\"], [\"number\", \"std\"], [\"number\", \"min\"], [\"number\", \"25%\"], [\"number\", \"50%\"], [\"number\", \"75%\"], [\"number\", \"max\"]],\n        columnOptions: [{\"width\": \"1px\", \"className\": \"index_column\"}],\n        rowsPerPage: 25,\n        helpUrl: \"https://colab.research.google.com/notebooks/data_table.ipynb\",\n        suppressOutputScrolling: true,\n        minimumWidth: undefined,\n      });\n    ",
            "text/html": [
              "<div>\n",
              "<style scoped>\n",
              "    .dataframe tbody tr th:only-of-type {\n",
              "        vertical-align: middle;\n",
              "    }\n",
              "\n",
              "    .dataframe tbody tr th {\n",
              "        vertical-align: top;\n",
              "    }\n",
              "\n",
              "    .dataframe thead th {\n",
              "        text-align: right;\n",
              "    }\n",
              "</style>\n",
              "<table border=\"1\" class=\"dataframe\">\n",
              "  <thead>\n",
              "    <tr style=\"text-align: right;\">\n",
              "      <th></th>\n",
              "      <th>count</th>\n",
              "      <th>mean</th>\n",
              "      <th>std</th>\n",
              "      <th>min</th>\n",
              "      <th>25%</th>\n",
              "      <th>50%</th>\n",
              "      <th>75%</th>\n",
              "      <th>max</th>\n",
              "    </tr>\n",
              "  </thead>\n",
              "  <tbody>\n",
              "    <tr>\n",
              "      <th>peak_infection_date</th>\n",
              "      <td>101.0</td>\n",
              "      <td>47.5</td>\n",
              "      <td>31.73</td>\n",
              "      <td>35.0</td>\n",
              "      <td>35.00</td>\n",
              "      <td>35.00</td>\n",
              "      <td>35.0</td>\n",
              "      <td>153.0</td>\n",
              "    </tr>\n",
              "    <tr>\n",
              "      <th>peak_infections</th>\n",
              "      <td>200.0</td>\n",
              "      <td>3678.2</td>\n",
              "      <td>4477.67</td>\n",
              "      <td>0.0</td>\n",
              "      <td>70.14</td>\n",
              "      <td>85.76</td>\n",
              "      <td>9215.0</td>\n",
              "      <td>9215.0</td>\n",
              "    </tr>\n",
              "  </tbody>\n",
              "</table>\n",
              "</div>"
            ],
            "text/plain": [
              "                     count    mean      std   min    25%    50%     75%     max\n",
              "peak_infection_date  101.0    47.5    31.73  35.0  35.00  35.00    35.0   153.0\n",
              "peak_infections      200.0  3678.2  4477.67   0.0  70.14  85.76  9215.0  9215.0"
            ]
          },
          "metadata": {
            "tags": []
          }
        },
        {
          "output_type": "display_data",
          "data": {
            "image/png": "[encoded data removed]",
            "text/plain": [
              "<Figure size 640x480 with 1 Axes>"
            ]
          },
          "metadata": {
            "tags": []
          }
        }
      ]
    },
    {
      "cell_type": "code",
      "metadata": {
        "id": "ea8iJizeyOJK",
        "colab_type": "code",
        "colab": {
          "base_uri": "https://localhost:8080/",
          "height": 705,
          "referenced_widgets": [
            "e32087d4563d46408ca62732a82054c8",
            "64b605c0918048b684c4a1f88b9049a1",
            "bb794afeb45b4f279b9a593cb2bebb41",
            "a4c0c3d332e947bb9d226da45010ad2f",
            "ef76f1253de6493694b26fcbbaa58d6f",
            "33eb5ec3ba6d4535b572eeb27885126a",
            "f943d9e87c5a416e84789429dbf22f25",
            "c2bbce79d48e4e2f8c57d32da11e6d32"
          ]
        },
        "outputId": "63b957c6-460a-4e71-8297-1ec037bedbce"
      },
      "source": [
        "@question(metaculus, 4152, community_weight=0.5)\n",
        "def mean_infections_peak345():\n",
        "    \"\"\"\n",
        "    What will the average number of reported daily infections be in El Paso,\n",
        "    over the 3rd, 4th and 5th days after the first \"peak\"?\n",
        "    \"\"\"\n",
        "    peak = peak_infection_date()\n",
        "    return mean_infections(peak + timedelta(3), peak + timedelta(6))\n",
        "plot_question(mean_infections_peak345)"
      ],
      "execution_count": 21,
      "outputs": [
        {
          "output_type": "display_data",
          "data": {
            "application/vnd.jupyter.widget-view+json": {
              "model_id": "e32087d4563d46408ca62732a82054c8",
              "version_minor": 0,
              "version_major": 2
            },
            "text/plain": [
              "HBox(children=(FloatProgress(value=0.0, max=200.0), HTML(value='')))"
            ]
          },
          "metadata": {
            "tags": []
          }
        },
        {
          "output_type": "stream",
          "text": [
            "\n"
          ],
          "name": "stdout"
        },
        {
          "output_type": "display_data",
          "data": {
            "application/vnd.google.colaboratory.module+javascript": "\n      import \"https://ssl.gstatic.com/colaboratory/data_table/a6224c040fa35dcf/data_table.js\";\n\n      window.createDataTable({\n        data: [[\"peak_infection_date\",\n{\n            'v': 105.0,\n            'f': \"105.0\",\n        },\n{\n            'v': 47.45,\n            'f': \"47.45\",\n        },\n{\n            'v': 30.25,\n            'f': \"30.25\",\n        },\n{\n            'v': 35.0,\n            'f': \"35.0\",\n        },\n{\n            'v': 35.0,\n            'f': \"35.0\",\n        },\n{\n            'v': 35.0,\n            'f': \"35.0\",\n        },\n{\n            'v': 36.0,\n            'f': \"36.0\",\n        },\n{\n            'v': 157.0,\n            'f': \"157.0\",\n        }],\n [\"mean_infections_peak345\",\n{\n            'v': 200.0,\n            'f': \"200.0\",\n        },\n{\n            'v': 122.44,\n            'f': \"122.44\",\n        },\n{\n            'v': 530.83,\n            'f': \"530.83\",\n        },\n{\n            'v': 0.0,\n            'f': \"0.0\",\n        },\n{\n            'v': 16.0,\n            'f': \"16.0\",\n        },\n{\n            'v': 30.01,\n            'f': \"30.01\",\n        },\n{\n            'v': 39.54,\n            'f': \"39.54\",\n        },\n{\n            'v': 5191.6,\n            'f': \"5191.6\",\n        }]],\n        columns: [[\"string\", \"index\"], [\"number\", \"count\"], [\"number\", \"mean\"], [\"number\", \"std\"], [\"number\", \"min\"], [\"number\", \"25%\"], [\"number\", \"50%\"], [\"number\", \"75%\"], [\"number\", \"max\"]],\n        columnOptions: [{\"width\": \"1px\", \"className\": \"index_column\"}],\n        rowsPerPage: 25,\n        helpUrl: \"https://colab.research.google.com/notebooks/data_table.ipynb\",\n        suppressOutputScrolling: true,\n        minimumWidth: undefined,\n      });\n    ",
            "text/html": [
              "<div>\n",
              "<style scoped>\n",
              "    .dataframe tbody tr th:only-of-type {\n",
              "        vertical-align: middle;\n",
              "    }\n",
              "\n",
              "    .dataframe tbody tr th {\n",
              "        vertical-align: top;\n",
              "    }\n",
              "\n",
              "    .dataframe thead th {\n",
              "        text-align: right;\n",
              "    }\n",
              "</style>\n",
              "<table border=\"1\" class=\"dataframe\">\n",
              "  <thead>\n",
              "    <tr style=\"text-align: right;\">\n",
              "      <th></th>\n",
              "      <th>count</th>\n",
              "      <th>mean</th>\n",
              "      <th>std</th>\n",
              "      <th>min</th>\n",
              "      <th>25%</th>\n",
              "      <th>50%</th>\n",
              "      <th>75%</th>\n",
              "      <th>max</th>\n",
              "    </tr>\n",
              "  </thead>\n",
              "  <tbody>\n",
              "    <tr>\n",
              "      <th>peak_infection_date</th>\n",
              "      <td>105.0</td>\n",
              "      <td>47.45</td>\n",
              "      <td>30.25</td>\n",
              "      <td>35.0</td>\n",
              "      <td>35.0</td>\n",
              "      <td>35.00</td>\n",
              "      <td>36.00</td>\n",
              "      <td>157.0</td>\n",
              "    </tr>\n",
              "    <tr>\n",
              "      <th>mean_infections_peak345</th>\n",
              "      <td>200.0</td>\n",
              "      <td>122.44</td>\n",
              "      <td>530.83</td>\n",
              "      <td>0.0</td>\n",
              "      <td>16.0</td>\n",
              "      <td>30.01</td>\n",
              "      <td>39.54</td>\n",
              "      <td>5191.6</td>\n",
              "    </tr>\n",
              "  </tbody>\n",
              "</table>\n",
              "</div>"
            ],
            "text/plain": [
              "                         count    mean     std  ...    50%    75%     max\n",
              "peak_infection_date      105.0   47.45   30.25  ...  35.00  36.00   157.0\n",
              "mean_infections_peak345  200.0  122.44  530.83  ...  30.01  39.54  5191.6\n",
              "\n",
              "[2 rows x 8 columns]"
            ]
          },
          "metadata": {
            "tags": []
          }
        },
        {
          "output_type": "display_data",
          "data": {
            "image/png": "[encoded data removed]",
            "text/plain": [
              "<Figure size 640x480 with 1 Axes>"
            ]
          },
          "metadata": {
            "tags": []
          }
        }
      ]
    },
    {
      "cell_type": "code",
      "metadata": {
        "id": "jCsUsec9yOJN",
        "colab_type": "code",
        "colab": {
          "base_uri": "https://localhost:8080/",
          "height": 705,
          "referenced_widgets": [
            "58e6c6850afb4eec93f79726c3b8985c",
            "677cf23860a14c01af89910ace7e4e2d",
            "2e48e8b3b86b4a58b7956bd7bc35415c",
            "c13ac2fe60794736b5edf440b0be7084",
            "540e916f9dc948e8af04ac8678f4b3da",
            "f7a53f913d654e0aba80869e281689d2",
            "2d40be96f2264f8895dd388f6dfc4e0f",
            "0dcfd1e220d44a5ebb54a29ebce3f952"
          ]
        },
        "outputId": "dd877085-19f3-467a-cf06-af032e36a58a"
      },
      "source": [
        "@question(metaculus, 4170, community_weight=0.8)\n",
        "def mean_infections_peak678():\n",
        "    \"\"\"\n",
        "    What will the average number of reported daily infections be in El Paso,\n",
        "    over the 6th, 7th and 8th days after the first \"peak\"?  \n",
        "    \"\"\"\n",
        "    peak = peak_infection_date()\n",
        "    return mean_infections(peak + timedelta(6), peak + timedelta(9))\n",
        "plot_question(mean_infections_peak678)"
      ],
      "execution_count": 22,
      "outputs": [
        {
          "output_type": "display_data",
          "data": {
            "application/vnd.jupyter.widget-view+json": {
              "model_id": "58e6c6850afb4eec93f79726c3b8985c",
              "version_minor": 0,
              "version_major": 2
            },
            "text/plain": [
              "HBox(children=(FloatProgress(value=0.0, max=200.0), HTML(value='')))"
            ]
          },
          "metadata": {
            "tags": []
          }
        },
        {
          "output_type": "stream",
          "text": [
            "\n"
          ],
          "name": "stdout"
        },
        {
          "output_type": "display_data",
          "data": {
            "application/vnd.google.colaboratory.module+javascript": "\n      import \"https://ssl.gstatic.com/colaboratory/data_table/a6224c040fa35dcf/data_table.js\";\n\n      window.createDataTable({\n        data: [[\"peak_infection_date\",\n{\n            'v': 49.0,\n            'f': \"49.0\",\n        },\n{\n            'v': 50.88,\n            'f': \"50.88\",\n        },\n{\n            'v': 33.29,\n            'f': \"33.29\",\n        },\n{\n            'v': 35.0,\n            'f': \"35.0\",\n        },\n{\n            'v': 35.0,\n            'f': \"35.0\",\n        },\n{\n            'v': 35.0,\n            'f': \"35.0\",\n        },\n{\n            'v': 47.0,\n            'f': \"47.0\",\n        },\n{\n            'v': 151.0,\n            'f': \"151.0\",\n        }],\n [\"mean_infections_peak678\",\n{\n            'v': 200.0,\n            'f': \"200.0\",\n        },\n{\n            'v': 76.44,\n            'f': \"76.44\",\n        },\n{\n            'v': 313.37,\n            'f': \"313.37\",\n        },\n{\n            'v': 0.0,\n            'f': \"0.0\",\n        },\n{\n            'v': 20.85,\n            'f': \"20.85\",\n        },\n{\n            'v': 26.15,\n            'f': \"26.15\",\n        },\n{\n            'v': 33.37,\n            'f': \"33.37\",\n        },\n{\n            'v': 3020.81,\n            'f': \"3020.81\",\n        }]],\n        columns: [[\"string\", \"index\"], [\"number\", \"count\"], [\"number\", \"mean\"], [\"number\", \"std\"], [\"number\", \"min\"], [\"number\", \"25%\"], [\"number\", \"50%\"], [\"number\", \"75%\"], [\"number\", \"max\"]],\n        columnOptions: [{\"width\": \"1px\", \"className\": \"index_column\"}],\n        rowsPerPage: 25,\n        helpUrl: \"https://colab.research.google.com/notebooks/data_table.ipynb\",\n        suppressOutputScrolling: true,\n        minimumWidth: undefined,\n      });\n    ",
            "text/html": [
              "<div>\n",
              "<style scoped>\n",
              "    .dataframe tbody tr th:only-of-type {\n",
              "        vertical-align: middle;\n",
              "    }\n",
              "\n",
              "    .dataframe tbody tr th {\n",
              "        vertical-align: top;\n",
              "    }\n",
              "\n",
              "    .dataframe thead th {\n",
              "        text-align: right;\n",
              "    }\n",
              "</style>\n",
              "<table border=\"1\" class=\"dataframe\">\n",
              "  <thead>\n",
              "    <tr style=\"text-align: right;\">\n",
              "      <th></th>\n",
              "      <th>count</th>\n",
              "      <th>mean</th>\n",
              "      <th>std</th>\n",
              "      <th>min</th>\n",
              "      <th>25%</th>\n",
              "      <th>50%</th>\n",
              "      <th>75%</th>\n",
              "      <th>max</th>\n",
              "    </tr>\n",
              "  </thead>\n",
              "  <tbody>\n",
              "    <tr>\n",
              "      <th>peak_infection_date</th>\n",
              "      <td>49.0</td>\n",
              "      <td>50.88</td>\n",
              "      <td>33.29</td>\n",
              "      <td>35.0</td>\n",
              "      <td>35.00</td>\n",
              "      <td>35.00</td>\n",
              "      <td>47.00</td>\n",
              "      <td>151.00</td>\n",
              "    </tr>\n",
              "    <tr>\n",
              "      <th>mean_infections_peak678</th>\n",
              "      <td>200.0</td>\n",
              "      <td>76.44</td>\n",
              "      <td>313.37</td>\n",
              "      <td>0.0</td>\n",
              "      <td>20.85</td>\n",
              "      <td>26.15</td>\n",
              "      <td>33.37</td>\n",
              "      <td>3020.81</td>\n",
              "    </tr>\n",
              "  </tbody>\n",
              "</table>\n",
              "</div>"
            ],
            "text/plain": [
              "                         count   mean     std  ...    50%    75%      max\n",
              "peak_infection_date       49.0  50.88   33.29  ...  35.00  47.00   151.00\n",
              "mean_infections_peak678  200.0  76.44  313.37  ...  26.15  33.37  3020.81\n",
              "\n",
              "[2 rows x 8 columns]"
            ]
          },
          "metadata": {
            "tags": []
          }
        },
        {
          "output_type": "display_data",
          "data": {
            "image/png": "[encoded data removed]",
            "text/plain": [
              "<Figure size 640x480 with 1 Axes>"
            ]
          },
          "metadata": {
            "tags": []
          }
        }
      ]
    },
    {
      "cell_type": "code",
      "metadata": {
        "id": "mrALtkxZyOJR",
        "colab_type": "code",
        "colab": {
          "base_uri": "https://localhost:8080/",
          "height": 667,
          "referenced_widgets": [
            "3ffd730b2c384d04845d088cd0ba9ba1",
            "1289f47f13344b169d79842c8b38b7b7",
            "6ada02cf6f224fa1a5866af159556e5d",
            "68b49a2974314d75af9de34dce6b87ab",
            "cf161a71cc5541e1b85ddb0d4f5ed557",
            "3e5c5315135d448abb1e0882e926b5d0",
            "f4e93c2d2adb4ba49f1d79c970fc40ed",
            "23ec3a85ae4c441287f3f65c3e7175ce"
          ]
        },
        "outputId": "3d237284-a1b5-4194-fdbb-c3dc45adffbc"
      },
      "source": [
        "@question(metaculus, 4155, community_weight=0.7)\n",
        "def frac_patients_icu():\n",
        "    \"\"\"\n",
        "    What portion of in-hospital cases in El Paso County will require admission\n",
        "    to the ICU?\n",
        "\n",
        "    Following @katifish's approach:\n",
        "    https://pandemic.metaculus.com/questions/4155/#comment-28054\n",
        "\n",
        "    TODO: Add others from katifish comment\n",
        "    \"\"\"\n",
        "    alpha = 0.1 # Rescaling counts becase we're more uncertain than implied by counts\n",
        "    return ergo.random_choice([\n",
        "      ergo.beta_from_hits(alpha * 121, alpha * 508),\n",
        "      ergo.beta_from_hits(alpha * 181, alpha * 507),\n",
        "    ])\n",
        "plot_question(frac_patients_icu)"
      ],
      "execution_count": 23,
      "outputs": [
        {
          "output_type": "display_data",
          "data": {
            "application/vnd.jupyter.widget-view+json": {
              "model_id": "3ffd730b2c384d04845d088cd0ba9ba1",
              "version_minor": 0,
              "version_major": 2
            },
            "text/plain": [
              "HBox(children=(FloatProgress(value=0.0, max=200.0), HTML(value='')))"
            ]
          },
          "metadata": {
            "tags": []
          }
        },
        {
          "output_type": "stream",
          "text": [
            "\n"
          ],
          "name": "stdout"
        },
        {
          "output_type": "display_data",
          "data": {
            "application/vnd.google.colaboratory.module+javascript": "\n      import \"https://ssl.gstatic.com/colaboratory/data_table/a6224c040fa35dcf/data_table.js\";\n\n      window.createDataTable({\n        data: [[\"frac_patients_icu\",\n{\n            'v': 200.0,\n            'f': \"200.0\",\n        },\n{\n            'v': 0.29,\n            'f': \"0.29\",\n        },\n{\n            'v': 0.11,\n            'f': \"0.11\",\n        },\n{\n            'v': 0.02,\n            'f': \"0.02\",\n        },\n{\n            'v': 0.21,\n            'f': \"0.21\",\n        },\n{\n            'v': 0.29,\n            'f': \"0.29\",\n        },\n{\n            'v': 0.34,\n            'f': \"0.34\",\n        },\n{\n            'v': 0.75,\n            'f': \"0.75\",\n        }]],\n        columns: [[\"string\", \"index\"], [\"number\", \"count\"], [\"number\", \"mean\"], [\"number\", \"std\"], [\"number\", \"min\"], [\"number\", \"25%\"], [\"number\", \"50%\"], [\"number\", \"75%\"], [\"number\", \"max\"]],\n        columnOptions: [{\"width\": \"1px\", \"className\": \"index_column\"}],\n        rowsPerPage: 25,\n        helpUrl: \"https://colab.research.google.com/notebooks/data_table.ipynb\",\n        suppressOutputScrolling: true,\n        minimumWidth: undefined,\n      });\n    ",
            "text/html": [
              "<div>\n",
              "<style scoped>\n",
              "    .dataframe tbody tr th:only-of-type {\n",
              "        vertical-align: middle;\n",
              "    }\n",
              "\n",
              "    .dataframe tbody tr th {\n",
              "        vertical-align: top;\n",
              "    }\n",
              "\n",
              "    .dataframe thead th {\n",
              "        text-align: right;\n",
              "    }\n",
              "</style>\n",
              "<table border=\"1\" class=\"dataframe\">\n",
              "  <thead>\n",
              "    <tr style=\"text-align: right;\">\n",
              "      <th></th>\n",
              "      <th>count</th>\n",
              "      <th>mean</th>\n",
              "      <th>std</th>\n",
              "      <th>min</th>\n",
              "      <th>25%</th>\n",
              "      <th>50%</th>\n",
              "      <th>75%</th>\n",
              "      <th>max</th>\n",
              "    </tr>\n",
              "  </thead>\n",
              "  <tbody>\n",
              "    <tr>\n",
              "      <th>frac_patients_icu</th>\n",
              "      <td>200.0</td>\n",
              "      <td>0.29</td>\n",
              "      <td>0.11</td>\n",
              "      <td>0.02</td>\n",
              "      <td>0.21</td>\n",
              "      <td>0.29</td>\n",
              "      <td>0.34</td>\n",
              "      <td>0.75</td>\n",
              "    </tr>\n",
              "  </tbody>\n",
              "</table>\n",
              "</div>"
            ],
            "text/plain": [
              "                   count  mean   std   min   25%   50%   75%   max\n",
              "frac_patients_icu  200.0  0.29  0.11  0.02  0.21  0.29  0.34  0.75"
            ]
          },
          "metadata": {
            "tags": []
          }
        },
        {
          "output_type": "display_data",
          "data": {
            "image/png": "[encoded data removed]",
            "text/plain": [
              "<Figure size 640x480 with 1 Axes>"
            ]
          },
          "metadata": {
            "tags": []
          }
        }
      ]
    },
    {
      "cell_type": "code",
      "metadata": {
        "id": "hQ5DoNJpyOJT",
        "colab_type": "code",
        "colab": {
          "base_uri": "https://localhost:8080/",
          "height": 688,
          "referenced_widgets": [
            "eb99997b0e284671aac42b2471c2e0ae",
            "4555d34ebccc4b708700b5c8ad6e8947",
            "a6759bd5bc84485c9a2a3e8d24f3a188",
            "645d40e5a3c2403e931dd3a56749ef22",
            "7465a43ddce244699f2090c51476a7f9",
            "87e36e95704147afb2a05b735abbf4f2",
            "acddfb2660784e42badd54b546da6dec",
            "8cd14edd3bfc4a8f82d506ad6bbbafcd"
          ]
        },
        "outputId": "0012fbae-3e82-4827-da53-6446af333284"
      },
      "source": [
        "@question(metaculus, 4154, community_weight=0.3)\n",
        "def frac_patients_invasive():\n",
        "    \"\"\"\n",
        "    What portion of in-hospital patients with Covid-19 in El Paso County will\n",
        "    require invasive ventilation?\n",
        "\n",
        "    Following @PabloStafforini's indirect estimation approach:\n",
        "    https://pandemic.metaculus.com/questions/4154/#comment-28155\n",
        "\n",
        "    TODO:\n",
        "    - Combine with direct estimate\n",
        "      direct_estimate = ergo.beta_from_hits(0.1 * 130, 0.1 * 393)\n",
        "    \"\"\"\n",
        "    return frac_patients_icu() * frac_icu_ventilation()\n",
        "plot_question(frac_patients_invasive)"
      ],
      "execution_count": 24,
      "outputs": [
        {
          "output_type": "display_data",
          "data": {
            "application/vnd.jupyter.widget-view+json": {
              "model_id": "eb99997b0e284671aac42b2471c2e0ae",
              "version_minor": 0,
              "version_major": 2
            },
            "text/plain": [
              "HBox(children=(FloatProgress(value=0.0, max=200.0), HTML(value='')))"
            ]
          },
          "metadata": {
            "tags": []
          }
        },
        {
          "output_type": "stream",
          "text": [
            "\n"
          ],
          "name": "stdout"
        },
        {
          "output_type": "display_data",
          "data": {
            "application/vnd.google.colaboratory.module+javascript": "\n      import \"https://ssl.gstatic.com/colaboratory/data_table/a6224c040fa35dcf/data_table.js\";\n\n      window.createDataTable({\n        data: [[\"frac_patients_icu\",\n{\n            'v': 140.0,\n            'f': \"140.0\",\n        },\n{\n            'v': 0.3,\n            'f': \"0.3\",\n        },\n{\n            'v': 0.1,\n            'f': \"0.1\",\n        },\n{\n            'v': 0.02,\n            'f': \"0.02\",\n        },\n{\n            'v': 0.23,\n            'f': \"0.23\",\n        },\n{\n            'v': 0.3,\n            'f': \"0.3\",\n        },\n{\n            'v': 0.37,\n            'f': \"0.37\",\n        },\n{\n            'v': 0.68,\n            'f': \"0.68\",\n        }],\n [\"frac_patients_invasive\",\n{\n            'v': 200.0,\n            'f': \"200.0\",\n        },\n{\n            'v': 0.16,\n            'f': \"0.16\",\n        },\n{\n            'v': 0.06,\n            'f': \"0.06\",\n        },\n{\n            'v': 0.01,\n            'f': \"0.01\",\n        },\n{\n            'v': 0.11,\n            'f': \"0.11\",\n        },\n{\n            'v': 0.15,\n            'f': \"0.15\",\n        },\n{\n            'v': 0.19,\n            'f': \"0.19\",\n        },\n{\n            'v': 0.36,\n            'f': \"0.36\",\n        }]],\n        columns: [[\"string\", \"index\"], [\"number\", \"count\"], [\"number\", \"mean\"], [\"number\", \"std\"], [\"number\", \"min\"], [\"number\", \"25%\"], [\"number\", \"50%\"], [\"number\", \"75%\"], [\"number\", \"max\"]],\n        columnOptions: [{\"width\": \"1px\", \"className\": \"index_column\"}],\n        rowsPerPage: 25,\n        helpUrl: \"https://colab.research.google.com/notebooks/data_table.ipynb\",\n        suppressOutputScrolling: true,\n        minimumWidth: undefined,\n      });\n    ",
            "text/html": [
              "<div>\n",
              "<style scoped>\n",
              "    .dataframe tbody tr th:only-of-type {\n",
              "        vertical-align: middle;\n",
              "    }\n",
              "\n",
              "    .dataframe tbody tr th {\n",
              "        vertical-align: top;\n",
              "    }\n",
              "\n",
              "    .dataframe thead th {\n",
              "        text-align: right;\n",
              "    }\n",
              "</style>\n",
              "<table border=\"1\" class=\"dataframe\">\n",
              "  <thead>\n",
              "    <tr style=\"text-align: right;\">\n",
              "      <th></th>\n",
              "      <th>count</th>\n",
              "      <th>mean</th>\n",
              "      <th>std</th>\n",
              "      <th>min</th>\n",
              "      <th>25%</th>\n",
              "      <th>50%</th>\n",
              "      <th>75%</th>\n",
              "      <th>max</th>\n",
              "    </tr>\n",
              "  </thead>\n",
              "  <tbody>\n",
              "    <tr>\n",
              "      <th>frac_patients_icu</th>\n",
              "      <td>140.0</td>\n",
              "      <td>0.30</td>\n",
              "      <td>0.10</td>\n",
              "      <td>0.02</td>\n",
              "      <td>0.23</td>\n",
              "      <td>0.30</td>\n",
              "      <td>0.37</td>\n",
              "      <td>0.68</td>\n",
              "    </tr>\n",
              "    <tr>\n",
              "      <th>frac_patients_invasive</th>\n",
              "      <td>200.0</td>\n",
              "      <td>0.16</td>\n",
              "      <td>0.06</td>\n",
              "      <td>0.01</td>\n",
              "      <td>0.11</td>\n",
              "      <td>0.15</td>\n",
              "      <td>0.19</td>\n",
              "      <td>0.36</td>\n",
              "    </tr>\n",
              "  </tbody>\n",
              "</table>\n",
              "</div>"
            ],
            "text/plain": [
              "                        count  mean   std   min   25%   50%   75%   max\n",
              "frac_patients_icu       140.0  0.30  0.10  0.02  0.23  0.30  0.37  0.68\n",
              "frac_patients_invasive  200.0  0.16  0.06  0.01  0.11  0.15  0.19  0.36"
            ]
          },
          "metadata": {
            "tags": []
          }
        },
        {
          "output_type": "display_data",
          "data": {
            "image/png": "[encoded data removed]",
            "text/plain": [
              "<Figure size 640x480 with 1 Axes>"
            ]
          },
          "metadata": {
            "tags": []
          }
        }
      ]
    },
    {
      "cell_type": "code",
      "metadata": {
        "id": "mWmci5iUyOJW",
        "colab_type": "code",
        "colab": {
          "base_uri": "https://localhost:8080/",
          "height": 705,
          "referenced_widgets": [
            "4200fd85ef3f4972a59931fcf6b8d019",
            "3d20c9b53ce74e59ae495184589669b0",
            "fb47c210347f4ac99883b025730cefc3",
            "0ab2635064ec43c3ae4a9cf1fadd0959",
            "bc23daf7d317470d862a9e7ca22494cb",
            "fbd74d594d294493a0621177ceadb6ea",
            "a69963c24e2d41d484e38a28f5eb1907",
            "b24f8260b2b84054be3df9efa3c49a8d"
          ]
        },
        "outputId": "1626a82e-c292-4ef0-c6ca-c1e30799e042"
      },
      "source": [
        "@ergo.mem\n",
        "def peak_hospitalized_date():\n",
        "    \"\"\"\n",
        "    What will be the date when there are the max number of COVID patients in the hospital\n",
        "    within 15 days before or after the date of the first peak in confirmed cases?\n",
        "    \"\"\"\n",
        "    infection_peak_date = peak_infection_date()\n",
        "    days = list(daterange(infection_peak_date - timedelta(15), infection_peak_date + timedelta(16)))\n",
        "\n",
        "    hospitalization_peak_date = days[0]\n",
        "    hospitalized_peak = 0\n",
        "\n",
        "    for day in days:\n",
        "        hospitalized_for_day = hospital_confirmed_for_date(day)\n",
        "\n",
        "        # if there are 2 different dates\n",
        "        # with the same peak number of hospitalized patients,\n",
        "        # return the first date:\n",
        "        # https://pandemic.metaculus.com/questions/4204#comment-30023\n",
        "        if hospitalized_for_day > hospitalized_peak:\n",
        "            hospitalization_peak_date = day\n",
        "            hospitalized_peak = hospitalized_for_day\n",
        "\n",
        "    return hospitalization_peak_date\n",
        "\n",
        "@question(metaculus, 4153, community_weight=0.3)\n",
        "def max_30d_hospital_confirmed_for_peak():\n",
        "    \"\"\"\n",
        "    What will the maximum number of in-hospital lab-confirmed COVID-19 \n",
        "    patients in El Paso County, in the 30-day period during which the \"peak\"\n",
        "    occurs?\n",
        "    \"\"\"\n",
        "    return hospital_confirmed_for_date(peak_hospitalized_date())\n",
        "\n",
        "plot_question(max_30d_hospital_confirmed_for_peak, bw=0.01)"
      ],
      "execution_count": 25,
      "outputs": [
        {
          "output_type": "display_data",
          "data": {
            "application/vnd.jupyter.widget-view+json": {
              "model_id": "4200fd85ef3f4972a59931fcf6b8d019",
              "version_minor": 0,
              "version_major": 2
            },
            "text/plain": [
              "HBox(children=(FloatProgress(value=0.0, max=200.0), HTML(value='')))"
            ]
          },
          "metadata": {
            "tags": []
          }
        },
        {
          "output_type": "stream",
          "text": [
            "\n"
          ],
          "name": "stdout"
        },
        {
          "output_type": "display_data",
          "data": {
            "application/vnd.google.colaboratory.module+javascript": "\n      import \"https://ssl.gstatic.com/colaboratory/data_table/a6224c040fa35dcf/data_table.js\";\n\n      window.createDataTable({\n        data: [[\"peak_infection_date\",\n{\n            'v': 140.0,\n            'f': \"140.0\",\n        },\n{\n            'v': 47.1,\n            'f': \"47.1\",\n        },\n{\n            'v': 31.75,\n            'f': \"31.75\",\n        },\n{\n            'v': 35.0,\n            'f': \"35.0\",\n        },\n{\n            'v': 35.0,\n            'f': \"35.0\",\n        },\n{\n            'v': 35.0,\n            'f': \"35.0\",\n        },\n{\n            'v': 38.0,\n            'f': \"38.0\",\n        },\n{\n            'v': 165.0,\n            'f': \"165.0\",\n        }],\n [\"max_30d_hospital_confirmed_for_peak\",\n{\n            'v': 200.0,\n            'f': \"200.0\",\n        },\n{\n            'v': 6710.43,\n            'f': \"6710.43\",\n        },\n{\n            'v': 5219.49,\n            'f': \"5219.49\",\n        },\n{\n            'v': 0.0,\n            'f': \"0.0\",\n        },\n{\n            'v': 75.53,\n            'f': \"75.53\",\n        },\n{\n            'v': 10010.19,\n            'f': \"10010.19\",\n        },\n{\n            'v': 10919.88,\n            'f': \"10919.88\",\n        },\n{\n            'v': 13252.89,\n            'f': \"13252.89\",\n        }]],\n        columns: [[\"string\", \"index\"], [\"number\", \"count\"], [\"number\", \"mean\"], [\"number\", \"std\"], [\"number\", \"min\"], [\"number\", \"25%\"], [\"number\", \"50%\"], [\"number\", \"75%\"], [\"number\", \"max\"]],\n        columnOptions: [{\"width\": \"1px\", \"className\": \"index_column\"}],\n        rowsPerPage: 25,\n        helpUrl: \"https://colab.research.google.com/notebooks/data_table.ipynb\",\n        suppressOutputScrolling: true,\n        minimumWidth: undefined,\n      });\n    ",
            "text/html": [
              "<div>\n",
              "<style scoped>\n",
              "    .dataframe tbody tr th:only-of-type {\n",
              "        vertical-align: middle;\n",
              "    }\n",
              "\n",
              "    .dataframe tbody tr th {\n",
              "        vertical-align: top;\n",
              "    }\n",
              "\n",
              "    .dataframe thead th {\n",
              "        text-align: right;\n",
              "    }\n",
              "</style>\n",
              "<table border=\"1\" class=\"dataframe\">\n",
              "  <thead>\n",
              "    <tr style=\"text-align: right;\">\n",
              "      <th></th>\n",
              "      <th>count</th>\n",
              "      <th>mean</th>\n",
              "      <th>std</th>\n",
              "      <th>min</th>\n",
              "      <th>25%</th>\n",
              "      <th>50%</th>\n",
              "      <th>75%</th>\n",
              "      <th>max</th>\n",
              "    </tr>\n",
              "  </thead>\n",
              "  <tbody>\n",
              "    <tr>\n",
              "      <th>peak_infection_date</th>\n",
              "      <td>140.0</td>\n",
              "      <td>47.10</td>\n",
              "      <td>31.75</td>\n",
              "      <td>35.0</td>\n",
              "      <td>35.00</td>\n",
              "      <td>35.00</td>\n",
              "      <td>38.00</td>\n",
              "      <td>165.00</td>\n",
              "    </tr>\n",
              "    <tr>\n",
              "      <th>max_30d_hospital_confirmed_for_peak</th>\n",
              "      <td>200.0</td>\n",
              "      <td>6710.43</td>\n",
              "      <td>5219.49</td>\n",
              "      <td>0.0</td>\n",
              "      <td>75.53</td>\n",
              "      <td>10010.19</td>\n",
              "      <td>10919.88</td>\n",
              "      <td>13252.89</td>\n",
              "    </tr>\n",
              "  </tbody>\n",
              "</table>\n",
              "</div>"
            ],
            "text/plain": [
              "                                     count     mean  ...       75%       max\n",
              "peak_infection_date                  140.0    47.10  ...     38.00    165.00\n",
              "max_30d_hospital_confirmed_for_peak  200.0  6710.43  ...  10919.88  13252.89\n",
              "\n",
              "[2 rows x 8 columns]"
            ]
          },
          "metadata": {
            "tags": []
          }
        },
        {
          "output_type": "display_data",
          "data": {
            "image/png": "[encoded data removed]",
            "text/plain": [
              "<Figure size 640x480 with 1 Axes>"
            ]
          },
          "metadata": {
            "tags": []
          }
        }
      ]
    },
    {
      "cell_type": "code",
      "metadata": {
        "id": "L_bh6T3DyOJY",
        "colab_type": "code",
        "colab": {
          "base_uri": "https://localhost:8080/",
          "height": 705,
          "referenced_widgets": [
            "a905fdf2fc2244a5944a62d410445689",
            "88d0fb21c6094f488b9cf8755c8a6278",
            "727a1ab091c84486ae23df1d0fd894f0",
            "b69a4b09410a4fbea3adc0e0e49d800f",
            "d27f9de3426843d6b5f2b0dc2d100abb",
            "76f007df52ee4f5a81c1494f88285f56",
            "4d8dc830a7864b028f7b10ddbfeb629b",
            "b04657dc1d304833b2f20356b8c7597f"
          ]
        },
        "outputId": "cdb21893-94eb-47c8-d980-e02bd1b8a924"
      },
      "source": [
        "@question(metaculus, 4204)\n",
        "def peak_icu_patients():\n",
        "    \"\"\"\n",
        "    How many patients with Covid-19 in El Paso County will be in the\n",
        "    ICU on the day when the number of hospital admissions of cases peak? \n",
        "    \"\"\"\n",
        "    peak_date = peak_hospitalized_date()\n",
        "\n",
        "    try:\n",
        "        return get_historical_data(peak_date, \"in_icu\")  # TODO find data for this\n",
        "    # if we don't have historical data, sample from the Columbia model or from the community\n",
        "    except KeyError:\n",
        "        return sample_from_ensemble([\n",
        "            lambda date: cu_projection(\"ICU\", date), \n",
        "            lambda date: peak_icu_patients.question.sample_community()\n",
        "        ], {\"date\": date}, [.65, .35], fallback=True)\n",
        "plot_question(peak_icu_patients, bw=0.1)"
      ],
      "execution_count": 26,
      "outputs": [
        {
          "output_type": "display_data",
          "data": {
            "application/vnd.jupyter.widget-view+json": {
              "model_id": "a905fdf2fc2244a5944a62d410445689",
              "version_minor": 0,
              "version_major": 2
            },
            "text/plain": [
              "HBox(children=(FloatProgress(value=0.0, max=200.0), HTML(value='')))"
            ]
          },
          "metadata": {
            "tags": []
          }
        },
        {
          "output_type": "stream",
          "text": [
            "\n"
          ],
          "name": "stdout"
        },
        {
          "output_type": "display_data",
          "data": {
            "application/vnd.google.colaboratory.module+javascript": "\n      import \"https://ssl.gstatic.com/colaboratory/data_table/a6224c040fa35dcf/data_table.js\";\n\n      window.createDataTable({\n        data: [[\"peak_infection_date\",\n{\n            'v': 200.0,\n            'f': \"200.0\",\n        },\n{\n            'v': 47.58,\n            'f': \"47.58\",\n        },\n{\n            'v': 29.94,\n            'f': \"29.94\",\n        },\n{\n            'v': 35.0,\n            'f': \"35.0\",\n        },\n{\n            'v': 35.0,\n            'f': \"35.0\",\n        },\n{\n            'v': 35.0,\n            'f': \"35.0\",\n        },\n{\n            'v': 39.25,\n            'f': \"39.25\",\n        },\n{\n            'v': 161.0,\n            'f': \"161.0\",\n        }],\n [\"peak_icu_patients\",\n{\n            'v': 200.0,\n            'f': \"200.0\",\n        },\n{\n            'v': 49.89,\n            'f': \"49.89\",\n        },\n{\n            'v': 108.54,\n            'f': \"108.54\",\n        },\n{\n            'v': 0.44,\n            'f': \"0.44\",\n        },\n{\n            'v': 26.52,\n            'f': \"26.52\",\n        },\n{\n            'v': 36.46,\n            'f': \"36.46\",\n        },\n{\n            'v': 40.12,\n            'f': \"40.12\",\n        },\n{\n            'v': 995.22,\n            'f': \"995.22\",\n        }]],\n        columns: [[\"string\", \"index\"], [\"number\", \"count\"], [\"number\", \"mean\"], [\"number\", \"std\"], [\"number\", \"min\"], [\"number\", \"25%\"], [\"number\", \"50%\"], [\"number\", \"75%\"], [\"number\", \"max\"]],\n        columnOptions: [{\"width\": \"1px\", \"className\": \"index_column\"}],\n        rowsPerPage: 25,\n        helpUrl: \"https://colab.research.google.com/notebooks/data_table.ipynb\",\n        suppressOutputScrolling: true,\n        minimumWidth: undefined,\n      });\n    ",
            "text/html": [
              "<div>\n",
              "<style scoped>\n",
              "    .dataframe tbody tr th:only-of-type {\n",
              "        vertical-align: middle;\n",
              "    }\n",
              "\n",
              "    .dataframe tbody tr th {\n",
              "        vertical-align: top;\n",
              "    }\n",
              "\n",
              "    .dataframe thead th {\n",
              "        text-align: right;\n",
              "    }\n",
              "</style>\n",
              "<table border=\"1\" class=\"dataframe\">\n",
              "  <thead>\n",
              "    <tr style=\"text-align: right;\">\n",
              "      <th></th>\n",
              "      <th>count</th>\n",
              "      <th>mean</th>\n",
              "      <th>std</th>\n",
              "      <th>min</th>\n",
              "      <th>25%</th>\n",
              "      <th>50%</th>\n",
              "      <th>75%</th>\n",
              "      <th>max</th>\n",
              "    </tr>\n",
              "  </thead>\n",
              "  <tbody>\n",
              "    <tr>\n",
              "      <th>peak_infection_date</th>\n",
              "      <td>200.0</td>\n",
              "      <td>47.58</td>\n",
              "      <td>29.94</td>\n",
              "      <td>35.00</td>\n",
              "      <td>35.00</td>\n",
              "      <td>35.00</td>\n",
              "      <td>39.25</td>\n",
              "      <td>161.00</td>\n",
              "    </tr>\n",
              "    <tr>\n",
              "      <th>peak_icu_patients</th>\n",
              "      <td>200.0</td>\n",
              "      <td>49.89</td>\n",
              "      <td>108.54</td>\n",
              "      <td>0.44</td>\n",
              "      <td>26.52</td>\n",
              "      <td>36.46</td>\n",
              "      <td>40.12</td>\n",
              "      <td>995.22</td>\n",
              "    </tr>\n",
              "  </tbody>\n",
              "</table>\n",
              "</div>"
            ],
            "text/plain": [
              "                     count   mean     std    min    25%    50%    75%     max\n",
              "peak_infection_date  200.0  47.58   29.94  35.00  35.00  35.00  39.25  161.00\n",
              "peak_icu_patients    200.0  49.89  108.54   0.44  26.52  36.46  40.12  995.22"
            ]
          },
          "metadata": {
            "tags": []
          }
        },
        {
          "output_type": "display_data",
          "data": {
            "image/png": "[encoded data removed]",
            "text/plain": [
              "<Figure size 640x480 with 1 Axes>"
            ]
          },
          "metadata": {
            "tags": []
          }
        }
      ]
    },
    {
      "cell_type": "code",
      "metadata": {
        "id": "iZ4oOrZQyOJa",
        "colab_type": "code",
        "colab": {
          "base_uri": "https://localhost:8080/",
          "height": 705,
          "referenced_widgets": [
            "6352cba077e54efd984a003d60e506ca",
            "87d1e5b857a94744ad994c55cdfe0c2a",
            "ea6ed9836bc74f8796aa2227314b3503",
            "0cbdb275b3a74eb1869ac2de5a0a8068",
            "116a994e06984ed3ad14014592caca30",
            "400aa0280f6a4d91a43dc0680b7b9ec5",
            "f4355ef412e34d7d8819e04858a44d99",
            "2557b75400e7437eb8a53ed1c3fa55b6"
          ]
        },
        "outputId": "712be5ec-2de3-4cd0-9e6e-5a4993063df8"
      },
      "source": [
        "@question(metaculus, 4201)\n",
        "def peak_invasive_ventilation():\n",
        "    \"\"\"\n",
        "    How many patients with Covid-19 in El Paso County will be on invasive \n",
        "    ventilation on the day when the number of hospital admissions of cases \n",
        "    peak?\n",
        "    \"\"\"\n",
        "    try:\n",
        "        return get_historical_data(peak_hospitalized_date(), \"on_ventilator\")  # TODO find data for this\n",
        "    # if we don't have historical data, sample from the Columbia model or from the community\n",
        "    except KeyError:\n",
        "        return sample_from_ensemble([\n",
        "            lambda date: cu_projection(\"ICU\", date), \n",
        "            lambda date: peak_icu_patients.question.sample_community()\n",
        "        ], {\"date\": date}, [.65, .35], fallback=True)\n",
        "\n",
        "\n",
        "plot_question(peak_invasive_ventilation, bw=0.1)"
      ],
      "execution_count": 27,
      "outputs": [
        {
          "output_type": "display_data",
          "data": {
            "application/vnd.jupyter.widget-view+json": {
              "model_id": "6352cba077e54efd984a003d60e506ca",
              "version_minor": 0,
              "version_major": 2
            },
            "text/plain": [
              "HBox(children=(FloatProgress(value=0.0, max=200.0), HTML(value='')))"
            ]
          },
          "metadata": {
            "tags": []
          }
        },
        {
          "output_type": "stream",
          "text": [
            "\n"
          ],
          "name": "stdout"
        },
        {
          "output_type": "display_data",
          "data": {
            "application/vnd.google.colaboratory.module+javascript": "\n      import \"https://ssl.gstatic.com/colaboratory/data_table/a6224c040fa35dcf/data_table.js\";\n\n      window.createDataTable({\n        data: [[\"peak_infection_date\",\n{\n            'v': 200.0,\n            'f': \"200.0\",\n        },\n{\n            'v': 48.5,\n            'f': \"48.5\",\n        },\n{\n            'v': 30.27,\n            'f': \"30.27\",\n        },\n{\n            'v': 35.0,\n            'f': \"35.0\",\n        },\n{\n            'v': 35.0,\n            'f': \"35.0\",\n        },\n{\n            'v': 35.0,\n            'f': \"35.0\",\n        },\n{\n            'v': 41.0,\n            'f': \"41.0\",\n        },\n{\n            'v': 158.0,\n            'f': \"158.0\",\n        }],\n [\"peak_invasive_ventilation\",\n{\n            'v': 200.0,\n            'f': \"200.0\",\n        },\n{\n            'v': 36.12,\n            'f': \"36.12\",\n        },\n{\n            'v': 36.39,\n            'f': \"36.39\",\n        },\n{\n            'v': 0.93,\n            'f': \"0.93\",\n        },\n{\n            'v': 25.69,\n            'f': \"25.69\",\n        },\n{\n            'v': 34.21,\n            'f': \"34.21\",\n        },\n{\n            'v': 40.12,\n            'f': \"40.12\",\n        },\n{\n            'v': 511.73,\n            'f': \"511.73\",\n        }]],\n        columns: [[\"string\", \"index\"], [\"number\", \"count\"], [\"number\", \"mean\"], [\"number\", \"std\"], [\"number\", \"min\"], [\"number\", \"25%\"], [\"number\", \"50%\"], [\"number\", \"75%\"], [\"number\", \"max\"]],\n        columnOptions: [{\"width\": \"1px\", \"className\": \"index_column\"}],\n        rowsPerPage: 25,\n        helpUrl: \"https://colab.research.google.com/notebooks/data_table.ipynb\",\n        suppressOutputScrolling: true,\n        minimumWidth: undefined,\n      });\n    ",
            "text/html": [
              "<div>\n",
              "<style scoped>\n",
              "    .dataframe tbody tr th:only-of-type {\n",
              "        vertical-align: middle;\n",
              "    }\n",
              "\n",
              "    .dataframe tbody tr th {\n",
              "        vertical-align: top;\n",
              "    }\n",
              "\n",
              "    .dataframe thead th {\n",
              "        text-align: right;\n",
              "    }\n",
              "</style>\n",
              "<table border=\"1\" class=\"dataframe\">\n",
              "  <thead>\n",
              "    <tr style=\"text-align: right;\">\n",
              "      <th></th>\n",
              "      <th>count</th>\n",
              "      <th>mean</th>\n",
              "      <th>std</th>\n",
              "      <th>min</th>\n",
              "      <th>25%</th>\n",
              "      <th>50%</th>\n",
              "      <th>75%</th>\n",
              "      <th>max</th>\n",
              "    </tr>\n",
              "  </thead>\n",
              "  <tbody>\n",
              "    <tr>\n",
              "      <th>peak_infection_date</th>\n",
              "      <td>200.0</td>\n",
              "      <td>48.50</td>\n",
              "      <td>30.27</td>\n",
              "      <td>35.00</td>\n",
              "      <td>35.00</td>\n",
              "      <td>35.00</td>\n",
              "      <td>41.00</td>\n",
              "      <td>158.00</td>\n",
              "    </tr>\n",
              "    <tr>\n",
              "      <th>peak_invasive_ventilation</th>\n",
              "      <td>200.0</td>\n",
              "      <td>36.12</td>\n",
              "      <td>36.39</td>\n",
              "      <td>0.93</td>\n",
              "      <td>25.69</td>\n",
              "      <td>34.21</td>\n",
              "      <td>40.12</td>\n",
              "      <td>511.73</td>\n",
              "    </tr>\n",
              "  </tbody>\n",
              "</table>\n",
              "</div>"
            ],
            "text/plain": [
              "                           count   mean    std  ...    50%    75%     max\n",
              "peak_infection_date        200.0  48.50  30.27  ...  35.00  41.00  158.00\n",
              "peak_invasive_ventilation  200.0  36.12  36.39  ...  34.21  40.12  511.73\n",
              "\n",
              "[2 rows x 8 columns]"
            ]
          },
          "metadata": {
            "tags": []
          }
        },
        {
          "output_type": "display_data",
          "data": {
            "image/png": "[encoded data removed]",
            "text/plain": [
              "<Figure size 640x480 with 1 Axes>"
            ]
          },
          "metadata": {
            "tags": []
          }
        }
      ]
    }
  ]
}