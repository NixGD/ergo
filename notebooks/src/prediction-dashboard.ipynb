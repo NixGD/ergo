{
  "nbformat": 4,
  "nbformat_minor": 0,
  "metadata": {
    "jupytext": {
      "cell_metadata_filter": "-all",
      "main_language": "python",
      "notebook_metadata_filter": "-all"
    },
    "colab": {
      "name": "prediction-dashboard.ipynb",
      "provenance": [],
      "include_colab_link": true
    },
    "kernelspec": {
      "name": "python3",
      "display_name": "Python 3"
    }
  },
  "cells": [
    {
      "cell_type": "markdown",
      "metadata": {
        "id": "view-in-github",
        "colab_type": "text"
      },
      "source": [
        "<a href=\"https://colab.research.google.com/github/oughtinc/ergo/blob/prediction-dashboard-fix/notebooks/src/prediction-dashboard.ipynb\" target=\"_parent\"><img src=\"https://colab.research.google.com/assets/colab-badge.svg\" alt=\"Open In Colab\"/></a>"
      ]
    },
    {
      "cell_type": "markdown",
      "metadata": {
        "id": "Itc5-hjBF8ni",
        "colab_type": "text"
      },
      "source": [
        "# Setup"
      ]
    },
    {
      "cell_type": "code",
      "metadata": {
        "id": "vU2V5yeKF8nj",
        "colab_type": "code",
        "colab": {}
      },
      "source": [
        "%%capture\n",
        "%pip install --quiet poetry  # Fixes https://github.com/python-poetry/poetry/issues/532\n",
        "%pip install --quiet git+https://github.com/oughtinc/ergo.git\n",
        "%pip install --quiet pendulum"
      ],
      "execution_count": 0,
      "outputs": []
    },
    {
      "cell_type": "code",
      "metadata": {
        "id": "76Mh-oRhF8nq",
        "colab_type": "code",
        "colab": {}
      },
      "source": [
        "import ergo\n",
        "import pendulum\n",
        "import pandas as pd;"
      ],
      "execution_count": 0,
      "outputs": []
    },
    {
      "cell_type": "code",
      "metadata": {
        "id": "PWJNUXO8F8nv",
        "colab_type": "code",
        "colab": {}
      },
      "source": [
        "%load_ext google.colab.data_table"
      ],
      "execution_count": 0,
      "outputs": []
    },
    {
      "cell_type": "code",
      "metadata": {
        "id": "T6f31sOmF8nz",
        "colab_type": "code",
        "colab": {}
      },
      "source": [
        "metaculus = ergo.Metaculus(username=\"oughtpublic\", password=\"123456\", api_domain=\"pandemic\")"
      ],
      "execution_count": 0,
      "outputs": []
    },
    {
      "cell_type": "markdown",
      "metadata": {
        "id": "YhPFt4LtF8n3",
        "colab_type": "text"
      },
      "source": [
        "# Dashboard"
      ]
    },
    {
      "cell_type": "markdown",
      "metadata": {
        "id": "JHczQw9OF8n4",
        "colab_type": "text"
      },
      "source": [
        "## Resolved questions"
      ]
    },
    {
      "cell_type": "code",
      "metadata": {
        "id": "bv0cfvpXF8n5",
        "colab_type": "code",
        "colab": {}
      },
      "source": [
        "resolved_predictions = metaculus.make_questions_df(metaculus.get_questions_json(question_status=\"resolved\", player_status=\"predicted\", pages=9999))"
      ],
      "execution_count": 0,
      "outputs": []
    },
    {
      "cell_type": "code",
      "metadata": {
        "id": "eY7wANEGF8n-",
        "colab_type": "code",
        "colab": {}
      },
      "source": [
        "resolved_predictions[[\"title\", \"resolve_time\", \"i_created\", \"url\", \"id\"]]"
      ],
      "execution_count": 0,
      "outputs": []
    },
    {
      "cell_type": "markdown",
      "metadata": {
        "id": "5qbc8SyDF8oC",
        "colab_type": "text"
      },
      "source": [
        "(Compare https://pandemic.metaculus.com/questions/?order_by=-resolve_time&status=resolved&guessed_by=1120040"
      ]
    },
    {
      "cell_type": "markdown",
      "metadata": {
        "id": "8i6UUSOQF8oE",
        "colab_type": "text"
      },
      "source": [
        "## Open questions"
      ]
    },
    {
      "cell_type": "code",
      "metadata": {
        "id": "X9-iq-9NF8oE",
        "colab_type": "code",
        "colab": {}
      },
      "source": [
        "open = metaculus.make_questions_df(metaculus.get_questions_json(question_status=\"open\", player_status=\"any\", pages=9999))"
      ],
      "execution_count": 0,
      "outputs": []
    },
    {
      "cell_type": "markdown",
      "metadata": {
        "id": "ULc8Jli1F8oJ",
        "colab_type": "text"
      },
      "source": [
        "### Published on or after Mar 25, closing on or before Apr 25"
      ]
    },
    {
      "cell_type": "code",
      "metadata": {
        "id": "n2XBOGkbF8oL",
        "colab_type": "code",
        "colab": {}
      },
      "source": [
        "after_mar_25 = open[open[\"publish_time\"] > pendulum.datetime(2020,3,24, tz=\"America/Los_Angeles\")]\n",
        "before_apr_25 = after_mar_25[after_mar_25[\"close_time\"] < pendulum.datetime(2020,4,26, tz=\"America/Los_Angeles\")]"
      ],
      "execution_count": 0,
      "outputs": []
    },
    {
      "cell_type": "code",
      "metadata": {
        "id": "bznsr8vhF8oQ",
        "colab_type": "code",
        "colab": {}
      },
      "source": [
        "before_apr_25[[\"title\", \"publish_time\", \"close_time\", \"i_predicted\", \"i_created\", \"page_url\", \"id\"]]"
      ],
      "execution_count": 0,
      "outputs": []
    }
  ]
}