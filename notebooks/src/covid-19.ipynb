{
  "cells": [
    {
      "cell_type": "markdown",
      "metadata": {
      },
      "source": [
        "# Setup\n\n"
      ]
    },
    {
      "cell_type": "code",
      "execution_count": 1,
      "metadata": {
      },
      "outputs": [],
      "source": [
        "%%capture\n%pip install poetry\n%pip install git+https://github.com/oughtinc/ergo.git@1374915b2d8b77f50aa7f4124a43bcd44727e885\n%pip install xlrd"
      ]
    },
    {
      "cell_type": "code",
      "execution_count": 1,
      "metadata": {
      },
      "outputs": [],
      "source": [
        "%load_ext google.colab.data_table"
      ]
    },
    {
      "cell_type": "code",
      "execution_count": 1,
      "metadata": {
      },
      "outputs": [],
      "source": [
        "%%capture\n%load_ext autoreload\n%autoreload 2\nimport ergo\nimport numpy as np\nimport pandas as pd\nimport ssl\nimport warnings\nimport requests\nfrom datetime import timedelta, date\nfrom ergo.contrib.covid import brachbach, shaman, usafacts\nfrom ergo.contrib.utils import plot_question, question, rejection_sample, sample_from_ensemble, samplers, summarize_question_samples, daterange, plot_distribution"
      ]
    },
    {
      "cell_type": "code",
      "execution_count": 1,
      "metadata": {
      },
      "outputs": [],
      "source": [
        "warnings.filterwarnings(action=\"ignore\", category=FutureWarning)\nwarnings.filterwarnings(module=\"plotnine\", action=\"ignore\")\nwarnings.filterwarnings(module=\"jax\", action=\"ignore\")\nssl._create_default_https_context = ssl._create_unverified_context"
      ]
    },
    {
      "cell_type": "markdown",
      "metadata": {
      },
      "source": [
        "Select which county you are considering\n\n"
      ]
    },
    {
      "cell_type": "code",
      "execution_count": 1,
      "metadata": {
      },
      "outputs": [],
      "source": [
        "#@title Enter County and State Here\ncounty = \"Orange County\" #@param {type:\"string\"}\nstate = \"NY\" #@param {type:\"string\"}"
      ]
    },
    {
      "cell_type": "markdown",
      "metadata": {
      },
      "source": [
        "# Retrieve external data and models\n\n"
      ]
    },
    {
      "cell_type": "markdown",
      "metadata": {
      },
      "source": [
        "## Data\n\n"
      ]
    },
    {
      "cell_type": "markdown",
      "metadata": {
      },
      "source": [
        "### Get cases data\n\n"
      ]
    },
    {
      "cell_type": "markdown",
      "metadata": {
      },
      "source": [
        "Pulled from [here](https://usafacts.org/visualizations/coronavirus-covid-19-spread-map/)\n\n"
      ]
    },
    {
      "cell_type": "code",
      "execution_count": 1,
      "metadata": {
      },
      "outputs": [],
      "source": [
        "cases = usafacts.load_county_data(county, state)"
      ]
    },
    {
      "cell_type": "markdown",
      "metadata": {
      },
      "source": [
        "### Access Data\n\n"
      ]
    },
    {
      "cell_type": "code",
      "execution_count": 1,
      "metadata": {
      },
      "outputs": [],
      "source": [
        "def get_historical_data(date: date, column_name):\n    \"\"\"\n    Look up the value of a parameter on a given date\n    in the historical data we've loaded.\n\n    Return the value or raise a KeyError if we don't have it.\n    \"\"\"\n\n    # prefer usafacts data\n    value = cases.loc[date, column_name]\n    if np.isnan(value):\n        raise KeyError(f\"value for {column_name} in our historical data is NaN\")\n    return value"
      ]
    },
    {
      "cell_type": "markdown",
      "metadata": {
      },
      "source": [
        "## Models\n\n"
      ]
    },
    {
      "cell_type": "markdown",
      "metadata": {
      },
      "source": [
        "### Shaman et al. cases model\n\n"
      ]
    },
    {
      "cell_type": "markdown",
      "metadata": {
      },
      "source": [
        "Pulled from [here](https://github.com/shaman-lab/COVID-19Projection)\n([paper](https://www.medrxiv.org/content/10.1101/2020.03.21.20040303v2))\n\n"
      ]
    },
    {
      "cell_type": "code",
      "execution_count": 1,
      "metadata": {
      },
      "outputs": [],
      "source": [
        "cu_projections = shaman.load_cu_projections(f\"{county} {state}\")"
      ]
    },
    {
      "cell_type": "markdown",
      "metadata": {
      },
      "source": [
        "### @brachbach model: cases -> hospitalized\n\n"
      ]
    },
    {
      "cell_type": "code",
      "execution_count": 1,
      "metadata": {
      },
      "outputs": [],
      "source": [
        "get_daily_hospital_confirmed = brachbach.get_daily_hospital_confirmed"
      ]
    },
    {
      "cell_type": "markdown",
      "metadata": {
      },
      "source": [
        "# Model components\n\n"
      ]
    },
    {
      "cell_type": "markdown",
      "metadata": {
      },
      "source": [
        "In this notebook, we model some aspects of how the COVID-19 pandemic will play out in\ndifferent counties across the US.\n\nIn this section, we model some key variables that we'll use to answer broader questions\nin the next section. We sometimes ensemble multiple models to try to get a better\nestimate of a variable.\n\n"
      ]
    },
    {
      "cell_type": "code",
      "execution_count": 1,
      "metadata": {
      },
      "outputs": [],
      "source": [
        "START_DATE = date(2020, 4, 1)"
      ]
    },
    {
      "cell_type": "markdown",
      "metadata": {
      },
      "source": [
        "## Daily COVID Infections\n\n"
      ]
    },
    {
      "cell_type": "markdown",
      "metadata": {
      },
      "source": [
        "### Shaman Model\n\n"
      ]
    },
    {
      "cell_type": "code",
      "execution_count": 1,
      "metadata": {
      },
      "outputs": [],
      "source": [
        "@ergo.mem\ndef cu_model_scenario():\n    \"\"\"Which of the model scenarios are we in?\"\"\"\n    return ergo.random_choice([s for s in cu_projections.keys()])\n\n@ergo.mem\ndef cu_model_quantile():\n    \"\"\"Where in the distribution of model outputs are we for this model run?\n    Want to be consistent across time, so we sample it once per model run\"\"\"\n    return ergo.uniform()\n\ndef cu_projection(param: str, date: date) -> int:\n    \"\"\"\n    Get the Columbia model's prediction\n    of the param for the date\n    \"\"\"\n    scenario = cu_model_scenario()\n    quantile = cu_model_quantile()\n\n    # Extract quantiles of the model distribution\n    xs = np.array([0.025, 0.25, 0.5, 0.75, 0.975])\n    scenario_df = cu_projections[scenario]\n    param_df = scenario_df[scenario_df[\"var\"] == param]\n    date_df = param_df[param_df[\"Date\"] == date]\n    if date_df.empty:\n        raise KeyError(f\"No Columbia project for param: {param}, date: {date}\")\n\n    ys = np.array(date_df[[\"2.5\", \"25\",  \"50\",  \"75\",  \"97.5\"]].iloc[0])\n    # Linearly interpolate\n    return int(round(np.interp(quantile, xs, ys)))"
      ]
    },
    {
      "cell_type": "markdown",
      "metadata": {
      },
      "source": [
        "### Get historical data or predict using ensemble\n\n"
      ]
    },
    {
      "cell_type": "code",
      "execution_count": 1,
      "metadata": {
      },
      "outputs": [],
      "source": [
        "@ergo.mem\ndef daily_infections(date: date) -> int:\n    \"\"\"\n    What is the number of reported (new) Covid-19 infections on [date]?\n    \"\"\"\n    try:\n        return get_historical_data(date, \"cases\")  # This works!\n    except KeyError:  # if we don't have historical data, use our ensemble of models\n        return sample_from_ensemble([\n            lambda date: cu_projection(\"cases\", date)    # we only have one model presently\n        ], {\"date\": date}, [1], fallback=True, default=0)"
      ]
    },
    {
      "cell_type": "markdown",
      "metadata": {
      },
      "source": [
        "## Daily COVID infections: mean, sma, peak\n\n"
      ]
    },
    {
      "cell_type": "code",
      "execution_count": 1,
      "metadata": {
      },
      "outputs": [],
      "source": [
        "@ergo.mem\ndef mean_infections(start_date: date, end_date: date):\n    \"\"\"\n    What is the average number of reported new infections for this range of \n    dates? (Including start date, excluding end date)\n    \"\"\"\n    days = daterange(start_date, end_date)\n    return np.mean([daily_infections(day) for day in days])\n\n@ergo.mem\ndef sd_infections(start_date: date, end_date: date):\n    \"\"\"\n    What is the variability of reported new infections for this range of \n    dates? (Including start date, excluding end date)\n    \"\"\"\n    days = daterange(start_date, end_date)\n    return np.std([daily_infections(day) for day in days])"
      ]
    },
    {
      "cell_type": "code",
      "execution_count": 1,
      "metadata": {
      },
      "outputs": [],
      "source": [
        "@ergo.mem\ndef sma_infections(date: date):\n    \"\"\"\n    The simple moving average of infections for a date.\n\n    Defined in https://pandemic.metaculus.com/questions/4128:\n\n    'The 2-day SMA is defined as the unweighted average (arithmetic mean)\n    over the current day and the previous day.'\n    \"\"\"\n    return mean_infections(date - timedelta(1), date + timedelta(1))\n\n@ergo.mem\ndef noisy_sma_infections(date: date):\n    \"\"\"\n    Noisy simple moving average of infections for a date.\n\n    Defined in https://pandemic.metaculus.com/questions/4128:\n\n    'The 2-day SMA is defined as the unweighted average (arithmetic mean)\n    over the current day and the previous day.'\n    \"\"\"\n    sma =  mean_infections(date - timedelta(1), date + timedelta(1))\n    sd =  sd_infections(date - timedelta(1), date + timedelta(1))\n    return round(\n        float(\n            ergo.normal(mean=sma, stdev=sd)\n        )\n    )\n\n@ergo.mem\ndef peak_compatible_with_historical_data(peak_date):\n    \"\"\"\n    Check whether it's possible that some date in the past\n    was the peak date of new COVID infections in El Paso,\n    given the historical data we have about COVID infections\n    \"\"\"\n    if not peak_date in cases.index:\n        return True\n    for comparison_date in daterange(START_DATE, peak_date + timedelta(11)):  #TODO refactor so as not reference a global here\n        if comparison_date not in cases.index:\n            continue\n        if sma_infections(comparison_date) > sma_infections(peak_date):\n            return False\n        if sma_infections(comparison_date) == sma_infections(peak_date) and comparison_date > peak_date:\n            return False\n    return True\n\n\n@ergo.mem\ndef peak_infection_date_community():\n    \"\"\"\n    The community assigns probability to some dates in the past\n    that we already know were not the peak.\n    So instead of sampling from the full community distribution,\n    sample from the portion of the community distribution\n    that is plausibly correct.\n    \"\"\"    \n    peak_date = rejection_sample(\n        peak_infection_date.question.sample_community, \n        peak_compatible_with_historical_data)\n    return peak_date"
      ]
    },
    {
      "cell_type": "markdown",
      "metadata": {
      },
      "source": [
        "## Patients with COVID in the hospital\n\n"
      ]
    },
    {
      "cell_type": "markdown",
      "metadata": {
      },
      "source": [
        "### @brachbach model+\n\n"
      ]
    },
    {
      "cell_type": "code",
      "execution_count": 1,
      "metadata": {
      },
      "outputs": [],
      "source": [
        "br_confirmed_from_infected_model = get_daily_hospital_confirmed(cases, \"cases\", daily_infections)  # equating cases with hostpital confirmed, which is a hack to be replaced\n\ndef brachbach_model_plus(date: date) -> int:\n    \"\"\"\n    Get a point estimate from @brachbach's model,\n    then add some (fairly arbitrary) uncertainty\n    \"\"\"\n    cases = br_confirmed_from_infected_model(date)\n\n    if cases == 0:\n      return cases\n    cases_estimate = ergo.lognormal_from_interval(cases * 0.8, cases * 1.2)\n    return np.clip(cases_estimate, cases * 0.5, cases * 2)"
      ]
    },
    {
      "cell_type": "markdown",
      "metadata": {
      },
      "source": [
        "### Get historical data or predict using ensemble\n\n"
      ]
    },
    {
      "cell_type": "code",
      "execution_count": 1,
      "metadata": {
      },
      "outputs": [],
      "source": [
        "@ergo.mem\ndef hospital_confirmed_for_date(date: date) -> int:\n    \"\"\"\n    The total number of lab-confirmed COVID-19 patients in El Paso County in\n    the hospital on this date\n    \"\"\"\n    try:\n        return get_historical_data(date, \"In hospital confirmed\")  # TODO find data for this\n    except KeyError:  # if we don't have historical data, use our ensemble of models\n        return sample_from_ensemble([\n            lambda date: cu_projection(\"hosp\", date), \n            brachbach_model_plus\n        ], {\"date\": date}, [.2, .8], fallback=True, default=0)"
      ]
    },
    {
      "cell_type": "markdown",
      "metadata": {
      },
      "source": [
        "## Proportion ICU admissions requiring ventilation\n\n"
      ]
    },
    {
      "cell_type": "code",
      "execution_count": 1,
      "metadata": {
      },
      "outputs": [],
      "source": [
        "@ergo.mem\ndef frac_icu_ventilation():\n    \"\"\"\n    Proportion of ICU admissions requiring ventilation\n\n    Approach (PabloStafforini et al): \n    https://pandemic.metaculus.com/questions/4154/#comment-28155\n\n    TODO: \n    - Improve how we use case data\n    - Add qualitative adjustments\n    \"\"\"\n    ventilation_pseudocounts = 25 + 17 + 0.05 * 1150 + 0.1 * 132\n    icu_pseudocounts = 100 + 36 + 0.05 * 1300 + 0.1 * 196\n    return ergo.beta_from_hits(ventilation_pseudocounts, icu_pseudocounts)"
      ]
    },
    {
      "cell_type": "markdown",
      "metadata": {
      },
      "source": [
        "# Visualize Predictions\n\n"
      ]
    },
    {
      "cell_type": "code",
      "execution_count": 1,
      "metadata": {
      },
      "outputs": [],
      "source": [
        "def peak_infection_date() -> date:\n    \"\"\"\n    When will El Paso County, Texas, experience its first peak number of COVID\n    infections?\n\n    From https://pandemic.metaculus.com/questions/4128:\n    'This question resolves as the date for which\n    the 2-day simple moving average(SMA) of the number of reported new infections\n    is strictly greater than the 2-day SMA over the subsequent 10 days.'\n    \"\"\"\n    end_date = date(2020, 7, 1)\n    for today in daterange(START_DATE, end_date):\n        sma_today = noisy_sma_infections(today)\n        future_smas = [sma_infections(today + timedelta(i)) for i in range(1,11)]\n        if sma_today > max(future_smas):\n            return today\n    return end_date\n\nplot_distribution(peak_infection_date, \"Peak Infection Date\", bins = 10)"
      ]
    },
    {
      "cell_type": "code",
      "execution_count": 1,
      "metadata": {
      },
      "outputs": [],
      "source": [
        "def peak_infections():\n    \"\"\"\n    How many new infections will be reported in El Paso on the day on which\n    the number of new reported infections peaks?\n    \"\"\"\n    peak = peak_infection_date()\n    return daily_infections(peak)\nplot_distribution(peak_infections, \"Peak Infections\", log=True, bw=.1)"
      ]
    },
    {
      "cell_type": "code",
      "execution_count": 1,
      "metadata": {
      },
      "outputs": [],
      "source": [
        "def mean_infections_peak345():\n    \"\"\"\n    What will the average number of reported daily infections be in El Paso,\n    over the 3rd, 4th and 5th days after the first \"peak\"?\n    \"\"\"\n    peak = peak_infection_date()\n    return mean_infections(peak + timedelta(3), peak + timedelta(6))\nplot_distribution(mean_infections_peak345, \"Mean Infections Peak345\")"
      ]
    },
    {
      "cell_type": "code",
      "execution_count": 1,
      "metadata": {
      },
      "outputs": [],
      "source": [
        "def mean_infections_peak678():\n    \"\"\"\n    What will the average number of reported daily infections be in El Paso,\n    over the 6th, 7th and 8th days after the first \"peak\"?  \n    \"\"\"\n    peak = peak_infection_date()\n    return mean_infections(peak + timedelta(6), peak + timedelta(9))\nplot_distribution(mean_infections_peak678, \"Mean Infections Peak678 \")"
      ]
    },
    {
      "cell_type": "code",
      "execution_count": 1,
      "metadata": {
      },
      "outputs": [],
      "source": [
        "def frac_patients_icu():\n    \"\"\"\n    What portion of in-hospital cases in El Paso County will require admission\n    to the ICU?\n\n    Following @katifish's approach:\n    https://pandemic.metaculus.com/questions/4155/#comment-28054\n\n    TODO: Add others from katifish comment\n    \"\"\"\n    alpha = 0.1 # Rescaling counts becase we're more uncertain than implied by counts\n    return ergo.random_choice([\n      ergo.beta_from_hits(alpha * 121, alpha * 508),\n      ergo.beta_from_hits(alpha * 181, alpha * 507),\n    ])\nplot_distribution(frac_patients_icu, \"Frac Patients ICU\")"
      ]
    },
    {
      "cell_type": "code",
      "execution_count": 1,
      "metadata": {
      },
      "outputs": [],
      "source": [
        "def frac_patients_invasive():\n    \"\"\"\n    What portion of in-hospital patients with Covid-19 in El Paso County will\n    require invasive ventilation?\n\n    Following @PabloStafforini's indirect estimation approach:\n    https://pandemic.metaculus.com/questions/4154/#comment-28155\n\n    TODO:\n    - Combine with direct estimate\n      direct_estimate = ergo.beta_from_hits(0.1 * 130, 0.1 * 393)\n    \"\"\"\n    return frac_patients_icu() * frac_icu_ventilation()\nplot_distribution(frac_patients_invasive, \"Frac Patients Invasive\")"
      ]
    },
    {
      "cell_type": "markdown",
      "metadata": {
      },
      "source": [
        ":RESULTS:\n\n    HBox(children=(FloatProgress(value=0.0, max=200.0), HTML(value='')))\n\n![img](./.ob-jupyter/164e6a0068322054abb290b361959dc3f325c61c.png)\n\n"
      ]
    },
    {
      "cell_type": "code",
      "execution_count": 1,
      "metadata": {
      },
      "outputs": [],
      "source": [
        "@ergo.mem\ndef peak_hospitalized_date():\n    \"\"\"\n    What will be the date when there are the max number of COVID patients in the hospital\n    within 15 days before or after the date of the first peak in confirmed cases?\n    \"\"\"\n    infection_peak_date = peak_infection_date()\n    days = list(daterange(infection_peak_date - timedelta(15), infection_peak_date + timedelta(16)))\n\n    hospitalization_peak_date = days[0]\n    hospitalized_peak = 0\n\n    for day in days:\n        hospitalized_for_day = hospital_confirmed_for_date(day)\n\n        # if there are 2 different dates\n        # with the same peak number of hospitalized patients,\n        # return the first date:\n        # https://pandemic.metaculus.com/questions/4204#comment-30023\n        if hospitalized_for_day > hospitalized_peak:\n            hospitalization_peak_date = day\n            hospitalized_peak = hospitalized_for_day\n\n    return hospitalization_peak_date\n\n\ndef max_30d_hospital_confirmed_for_peak():\n    \"\"\"\n    What will the maximum number of in-hospital lab-confirmed COVID-19 \n    patients in El Paso County, in the 30-day period during which the \"peak\"\n    occurs?\n    \"\"\"\n    return hospital_confirmed_for_date(peak_hospitalized_date())\n\nplot_distribution(max_30d_hospital_confirmed_for_peak, \"Max 30d Hospital Confirmed For Peak\",  log=True)"
      ]
    },
    {
      "cell_type": "markdown",
      "metadata": {
      },
      "source": [
        ":RESULTS:\n\n    HBox(children=(FloatProgress(value=0.0, max=200.0), HTML(value='')))\n\n![img](./.ob-jupyter/746d3be9ede6bc9142603a88ec7223bd8871ca02.png)\n\n"
      ]
    },
    {
      "cell_type": "code",
      "execution_count": 1,
      "metadata": {
      },
      "outputs": [],
      "source": [
        "def peak_icu_patients():\n    \"\"\"\n    How many patients with Covid-19 in El Paso County will be in the\n    ICU on the day when the number of hospital admissions of cases peak? \n    \"\"\"\n    peak_date = peak_hospitalized_date()\n\n    try:\n        return get_historical_data(peak_date, \"in_icu\")  # TODO find data for this\n    # if we don't have historical data, sample from the Columbia model or from the community\n    except KeyError:\n        return sample_from_ensemble([\n            lambda date: cu_projection(\"ICU\", date) \n        ], {\"date\": peak_date}, [.65], fallback=True)\nplot_distribution(peak_icu_patients, \"Peak Icu Patients\")"
      ]
    },
    {
      "cell_type": "code",
      "execution_count": 1,
      "metadata": {
      },
      "outputs": [],
      "source": [
        "def peak_invasive_ventilation():\n    \"\"\"\n    How many patients with Covid-19 in El Paso County will be on invasive \n    ventilation on the day when the number of hospital admissions of cases \n    peak?\n    \"\"\"\n\n    peak_date = peak_hospitalized_date()\n\n    try:\n        return get_historical_data(peak_hospitalized_date(), \"on_ventilator\")  # TODO find data for this\n    # if we don't have historical data, sample from the Columbia model or from the community\n    except KeyError:\n        return sample_from_ensemble([\n            lambda date: cu_projection(\"ICU\", date)\n        ], {\"date\": peak_date}, [.65], fallback=True)\n\n\nplot_distribution(peak_invasive_ventilation, \"Peak Invasive Ventilation\", log=True, bw=1)"
      ]
    }
  ],
  "metadata": {
  },
  "nbformat": 4,
  "nbformat_minor": 0
}
