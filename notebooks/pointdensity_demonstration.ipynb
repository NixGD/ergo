{
  "nbformat": 4,
  "nbformat_minor": 0,
  "metadata": {
    "colab": {
      "name": "pointdensity-demonstration.ipynb",
      "provenance": []
    },
    "kernelspec": {
      "name": "python3",
      "display_name": "Python 3"
    }
  },
  "cells": [
    {
      "cell_type": "code",
      "metadata": {
        "id": "e9-rEPiE7i3-",
        "colab_type": "code",
        "colab": {}
      },
      "source": [
        "%%capture\n",
        "!pip install --progress-bar off --quiet poetry\n",
        "!pip install --progress-bar off git+https://github.com/oughtinc/ergo.git@aced2c493071e3fd7167053b8b8747e3ceb88983"
      ],
      "execution_count": 3,
      "outputs": []
    },
    {
      "cell_type": "markdown",
      "metadata": {
        "id": "q4N9ruT2IJOH",
        "colab_type": "text"
      },
      "source": [
        "PointDensity distributions are represented by 200 evenly spaced points and corresponding probability densities. Below I define a utility function for plotting PointDensity distributions."
      ]
    },
    {
      "cell_type": "code",
      "metadata": {
        "id": "Zz7fhfcGIHuK",
        "colab_type": "code",
        "colab": {}
      },
      "source": [
        "import seaborn\n",
        "\n",
        "def plot_dist(dist, denorm_xs_only=False, scatter=False):\n",
        "    xs = dist.scale.denormalize_points(dist.normed_xs)\n",
        "    densities = dist.normed_densities\n",
        "    if not denorm_xs_only:\n",
        "        densities = dist.scale.denormalize_densities(xs, dist.normed_densities)\n",
        "    if scatter:\n",
        "    else:\n",
        "        seaborn.lineplot(xs, densities)\n"
      ],
      "execution_count": 14,
      "outputs": []
    },
    {
      "cell_type": "markdown",
      "metadata": {
        "id": "bhH3ryWoHUbH",
        "colab_type": "text"
      },
      "source": [
        "Before we create PoitnDensity distributions, we need to define the scale the distribution operates on. We'll start with a scale with a minimum of 0 and maximum of 100."
      ]
    },
    {
      "cell_type": "code",
      "metadata": {
        "id": "yZjRh1SbHdpg",
        "colab_type": "code",
        "colab": {}
      },
      "source": [
        "from ergo.scale import Scale\n",
        "\n",
        "scale = Scale(0, 100)"
      ],
      "execution_count": 6,
      "outputs": []
    },
    {
      "cell_type": "markdown",
      "metadata": {
        "id": "C0RjDv2j7qyi",
        "colab_type": "text"
      },
      "source": [
        "There are 2 ways to create PointDensity distributions: `from_pairs` and `from_conditions`. It's best practice not to directly initialize them. `from_pairs` takes as input a list of point-density pairs. Let's create a uniform distribution first."
      ]
    },
    {
      "cell_type": "code",
      "metadata": {
        "id": "y3LwgAjE7lW6",
        "colab_type": "code",
        "colab": {
          "base_uri": "https://localhost:8080/",
          "height": 265
        },
        "outputId": "5e47b68c-5ff6-4d0f-e19a-f69a98d9823b"
      },
      "source": [
        "from ergo.distributions import PointDensity\n",
        "\n",
        "# Creating a uniform distribution using from_pairs. \n",
        "# Even though we don't pass in 200 points, from_pairs interpolates to create the 200 we need.\n",
        "pairs = [\n",
        "    {'x': 0, 'density': 1},\n",
        "    {'x': 100, 'density': 1}\n",
        "]\n",
        "\n",
        "dist = PointDensity.from_pairs(pairs, scale)\n",
        "plot_dist(dist)"
      ],
      "execution_count": 18,
      "outputs": [
        {
          "output_type": "display_data",
          "data": {
            "image/png": "[encoded data removed]",
            "text/plain": [
              "<Figure size 432x288 with 1 Axes>"
            ]
          },
          "metadata": {
            "tags": [],
            "needs_background": "light"
          }
        }
      ]
    },
    {
      "cell_type": "markdown",
      "metadata": {
        "id": "6Ttu8gQ1Kk8_",
        "colab_type": "text"
      },
      "source": [
        "Note that we enforce the AUC to be 1, so if you pass in pairs with densities that don't create an AUC of 1 they will be adjusted."
      ]
    },
    {
      "cell_type": "code",
      "metadata": {
        "id": "vC21i-b_Kkbm",
        "colab_type": "code",
        "colab": {
          "base_uri": "https://localhost:8080/",
          "height": 265
        },
        "outputId": "3eb38ee8-0a12-4a14-be84-d10ddb14ea47"
      },
      "source": [
        "# Creating a uniform distribution using from_pairs, with densities that are too small. \n",
        "pairs = [\n",
        "    {'x': 0, 'density': .01},\n",
        "    {'x': 100, 'density': .01}\n",
        "]\n",
        "\n",
        "dist = PointDensity.from_pairs(pairs, scale)\n",
        "plot_dist(dist)"
      ],
      "execution_count": 19,
      "outputs": [
        {
          "output_type": "display_data",
          "data": {
            "image/png": "[encoded data removed]",
            "text/plain": [
              "<Figure size 432x288 with 1 Axes>"
            ]
          },
          "metadata": {
            "tags": [],
            "needs_background": "light"
          }
        }
      ]
    },
    {
      "cell_type": "markdown",
      "metadata": {
        "id": "nLsJjurAJv2e",
        "colab_type": "text"
      },
      "source": [
        "`from_conditions` takes as input a list of conditions."
      ]
    },
    {
      "cell_type": "code",
      "metadata": {
        "id": "P3RmS5KoHupP",
        "colab_type": "code",
        "colab": {
          "base_uri": "https://localhost:8080/",
          "height": 567
        },
        "outputId": "ff52c118-afe5-4140-91a5-41f2ac344937"
      },
      "source": [
        "# Creating a uniform distribution using from_conditions\n",
        "from ergo.conditions import MaxEntropyCondition\n",
        "\n",
        "max_entropy_condition = MaxEntropyCondition(weight=.01)\n",
        "dist = PointDensity.from_conditions([max_entropy_condition], scale=scale)\n",
        "\n",
        "plot_dist(dist)"
      ],
      "execution_count": 17,
      "outputs": [
        {
          "output_type": "stream",
          "text": [
            "Tracing MaxEntropyCondition loss for PointDensity distribution:\n",
            "- Fixed: {'xs': Traced<ShapedArray(float32[200]):JaxprTrace(level=-1/1)>}\n",
            "- Optim: Traced<ShapedArray(float32[200]):JaxprTrace(level=-1/1)>\n",
            "- Cond: (Traced<ShapedArray(float32[], weak_type=True):JaxprTrace(level=-1/1)>,)\n",
            "- Loss: Traced<ShapedArray(float32[]):JaxprTrace(level=-1/1)>\n",
            "\n",
            "\n",
            "Tracing MaxEntropyCondition loss for PointDensity distribution:\n",
            "- Fixed: {'xs': Traced<ShapedArray(float32[200]):JaxprTrace(level=0/2)>}\n",
            "- Optim: Traced<ShapedArray(float32[200])>with<JVPTrace(level=1/2)>\n",
            "  with primal = Traced<ShapedArray(float32[200]):JaxprTrace(level=0/2)>\n",
            "       tangent = Traced<ShapedArray(float32[200]):JaxprTrace(level=0/2)>\n",
            "- Cond: (Traced<ShapedArray(float32[], weak_type=True):JaxprTrace(level=0/2)>,)\n",
            "- Loss: Traced<ShapedArray(float32[])>with<JVPTrace(level=1/2)>\n",
            "  with primal = Traced<ShapedArray(float32[]):JaxprTrace(level=-1/2)>\n",
            "       tangent = Traced<ShapedArray(float32[]):JaxprTrace(level=0/2)>\n",
            "\n",
            "\n"
          ],
          "name": "stdout"
        },
        {
          "output_type": "display_data",
          "data": {
            "image/png": "[encoded data removed]",
            "text/plain": [
              "<Figure size 432x288 with 1 Axes>"
            ]
          },
          "metadata": {
            "tags": [],
            "needs_background": "light"
          }
        }
      ]
    },
    {
      "cell_type": "code",
      "metadata": {
        "id": "zaZY5lQwJr-U",
        "colab_type": "code",
        "colab": {}
      },
      "source": [
        ""
      ],
      "execution_count": null,
      "outputs": []
    }
  ]
}